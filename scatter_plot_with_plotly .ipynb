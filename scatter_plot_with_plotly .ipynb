{
 "cells": [
  {
   "cell_type": "markdown",
   "metadata": {
    "id": "xya7YBMe7Y7k"
   },
   "source": [
    "# **Scatter Plot**"
   ]
  },
  {
   "cell_type": "markdown",
   "metadata": {
    "id": "0Yd12bUg7fQI"
   },
   "source": [
    "Bu görselleştirmede 2014, 2015 ve 2016 yıllarındaki dünya sıralamasındaki ilk 100 üniversitenin alıntıları karşılaştırılacaktır.\n"
   ]
  },
  {
   "cell_type": "code",
   "execution_count": 12,
   "metadata": {
    "colab": {
     "base_uri": "https://localhost:8080/"
    },
    "id": "GYc5aSwy6_8K",
    "outputId": "4de0b288-0af0-4926-a053-2d926d7f506d"
   },
   "outputs": [],
   "source": [
    "import pandas as pd\n",
    "import numpy as np\n",
    "import matplotlib.pyplot as plt\n",
    "from plotly.offline import iplot\n",
    "import plotly.graph_objs as go"
   ]
  },
  {
   "cell_type": "code",
   "execution_count": 13,
   "metadata": {
    "id": "fIu3_m_L7DfZ"
   },
   "outputs": [
    {
     "name": "stdout",
     "output_type": "stream",
     "text": [
      "Requirement already satisfied: plotly in c:\\users\\asus\\anaconda3\\lib\\site-packages (5.13.1)\n",
      "Requirement already satisfied: tenacity>=6.2.0 in c:\\users\\asus\\anaconda3\\lib\\site-packages (from plotly) (8.0.1)\n"
     ]
    }
   ],
   "source": [
    "!pip install --upgrade plotly "
   ]
  },
  {
   "cell_type": "code",
   "execution_count": null,
   "metadata": {
    "id": "QR_eEjhV7FYq"
   },
   "outputs": [],
   "source": [
    "!pip install jupyter-dash"
   ]
  },
  {
   "cell_type": "code",
   "execution_count": 14,
   "metadata": {
    "id": "JkxK7eKq7GxY"
   },
   "outputs": [],
   "source": [
    "timesData = pd.read_csv(\"data/timesData.csv\")"
   ]
  },
  {
   "cell_type": "code",
   "execution_count": 15,
   "metadata": {
    "colab": {
     "base_uri": "https://localhost:8080/",
     "height": 530
    },
    "id": "7Ja15lmq7KHK",
    "outputId": "78da235a-856f-40b5-c87a-6640c522a89d"
   },
   "outputs": [
    {
     "data": {
      "text/html": [
       "<div>\n",
       "<style scoped>\n",
       "    .dataframe tbody tr th:only-of-type {\n",
       "        vertical-align: middle;\n",
       "    }\n",
       "\n",
       "    .dataframe tbody tr th {\n",
       "        vertical-align: top;\n",
       "    }\n",
       "\n",
       "    .dataframe thead th {\n",
       "        text-align: right;\n",
       "    }\n",
       "</style>\n",
       "<table border=\"1\" class=\"dataframe\">\n",
       "  <thead>\n",
       "    <tr style=\"text-align: right;\">\n",
       "      <th></th>\n",
       "      <th>world_rank</th>\n",
       "      <th>university_name</th>\n",
       "      <th>country</th>\n",
       "      <th>teaching</th>\n",
       "      <th>international</th>\n",
       "      <th>research</th>\n",
       "      <th>citations</th>\n",
       "      <th>income</th>\n",
       "      <th>total_score</th>\n",
       "      <th>num_students</th>\n",
       "      <th>student_staff_ratio</th>\n",
       "      <th>international_students</th>\n",
       "      <th>female_male_ratio</th>\n",
       "      <th>year</th>\n",
       "    </tr>\n",
       "  </thead>\n",
       "  <tbody>\n",
       "    <tr>\n",
       "      <th>0</th>\n",
       "      <td>1</td>\n",
       "      <td>Harvard University</td>\n",
       "      <td>United States of America</td>\n",
       "      <td>99.7</td>\n",
       "      <td>72.4</td>\n",
       "      <td>98.7</td>\n",
       "      <td>98.8</td>\n",
       "      <td>34.5</td>\n",
       "      <td>96.1</td>\n",
       "      <td>20,152</td>\n",
       "      <td>8.9</td>\n",
       "      <td>25%</td>\n",
       "      <td>NaN</td>\n",
       "      <td>2011</td>\n",
       "    </tr>\n",
       "    <tr>\n",
       "      <th>1</th>\n",
       "      <td>2</td>\n",
       "      <td>California Institute of Technology</td>\n",
       "      <td>United States of America</td>\n",
       "      <td>97.7</td>\n",
       "      <td>54.6</td>\n",
       "      <td>98.0</td>\n",
       "      <td>99.9</td>\n",
       "      <td>83.7</td>\n",
       "      <td>96.0</td>\n",
       "      <td>2,243</td>\n",
       "      <td>6.9</td>\n",
       "      <td>27%</td>\n",
       "      <td>33 : 67</td>\n",
       "      <td>2011</td>\n",
       "    </tr>\n",
       "    <tr>\n",
       "      <th>2</th>\n",
       "      <td>3</td>\n",
       "      <td>Massachusetts Institute of Technology</td>\n",
       "      <td>United States of America</td>\n",
       "      <td>97.8</td>\n",
       "      <td>82.3</td>\n",
       "      <td>91.4</td>\n",
       "      <td>99.9</td>\n",
       "      <td>87.5</td>\n",
       "      <td>95.6</td>\n",
       "      <td>11,074</td>\n",
       "      <td>9.0</td>\n",
       "      <td>33%</td>\n",
       "      <td>37 : 63</td>\n",
       "      <td>2011</td>\n",
       "    </tr>\n",
       "    <tr>\n",
       "      <th>3</th>\n",
       "      <td>4</td>\n",
       "      <td>Stanford University</td>\n",
       "      <td>United States of America</td>\n",
       "      <td>98.3</td>\n",
       "      <td>29.5</td>\n",
       "      <td>98.1</td>\n",
       "      <td>99.2</td>\n",
       "      <td>64.3</td>\n",
       "      <td>94.3</td>\n",
       "      <td>15,596</td>\n",
       "      <td>7.8</td>\n",
       "      <td>22%</td>\n",
       "      <td>42 : 58</td>\n",
       "      <td>2011</td>\n",
       "    </tr>\n",
       "    <tr>\n",
       "      <th>4</th>\n",
       "      <td>5</td>\n",
       "      <td>Princeton University</td>\n",
       "      <td>United States of America</td>\n",
       "      <td>90.9</td>\n",
       "      <td>70.3</td>\n",
       "      <td>95.4</td>\n",
       "      <td>99.9</td>\n",
       "      <td>-</td>\n",
       "      <td>94.2</td>\n",
       "      <td>7,929</td>\n",
       "      <td>8.4</td>\n",
       "      <td>27%</td>\n",
       "      <td>45 : 55</td>\n",
       "      <td>2011</td>\n",
       "    </tr>\n",
       "  </tbody>\n",
       "</table>\n",
       "</div>"
      ],
      "text/plain": [
       "  world_rank                        university_name                   country  \\\n",
       "0          1                     Harvard University  United States of America   \n",
       "1          2     California Institute of Technology  United States of America   \n",
       "2          3  Massachusetts Institute of Technology  United States of America   \n",
       "3          4                    Stanford University  United States of America   \n",
       "4          5                   Princeton University  United States of America   \n",
       "\n",
       "   teaching international  research  citations income total_score  \\\n",
       "0      99.7          72.4      98.7       98.8   34.5        96.1   \n",
       "1      97.7          54.6      98.0       99.9   83.7        96.0   \n",
       "2      97.8          82.3      91.4       99.9   87.5        95.6   \n",
       "3      98.3          29.5      98.1       99.2   64.3        94.3   \n",
       "4      90.9          70.3      95.4       99.9      -        94.2   \n",
       "\n",
       "  num_students  student_staff_ratio international_students female_male_ratio  \\\n",
       "0       20,152                  8.9                    25%               NaN   \n",
       "1        2,243                  6.9                    27%           33 : 67   \n",
       "2       11,074                  9.0                    33%           37 : 63   \n",
       "3       15,596                  7.8                    22%           42 : 58   \n",
       "4        7,929                  8.4                    27%           45 : 55   \n",
       "\n",
       "   year  \n",
       "0  2011  \n",
       "1  2011  \n",
       "2  2011  \n",
       "3  2011  \n",
       "4  2011  "
      ]
     },
     "execution_count": 15,
     "metadata": {},
     "output_type": "execute_result"
    }
   ],
   "source": [
    "timesData.head()"
   ]
  },
  {
   "cell_type": "code",
   "execution_count": 16,
   "metadata": {
    "id": "n1IkMCJe7QPL"
   },
   "outputs": [],
   "source": [
    "df2014 = timesData[timesData.year == 2014].iloc[:100,:] \n",
    "df2015 = timesData[timesData.year == 2015].iloc[:100,:] \n",
    "df2016 = timesData[timesData.year == 2016].iloc[:100,:] "
   ]
  },
  {
   "cell_type": "code",
   "execution_count": 9,
   "metadata": {
    "colab": {
     "base_uri": "https://localhost:8080/",
     "height": 542
    },
    "id": "6-4iSqVl7mdF",
    "outputId": "e28f2ed9-018a-47fe-b2e0-ff31f64030a8"
   },
   "outputs": [
    {
     "data": {
      "application/vnd.plotly.v1+json": {
       "config": {
        "linkText": "Export to plot.ly",
        "plotlyServerURL": "https://plot.ly",
        "showLink": false
       },
       "data": [
        {
         "marker": {
          "color": "rgba(255, 128, 255, 0.8)"
         },
         "mode": "markers",
         "name": "2014",
         "text": [
          "California Institute of Technology",
          "Harvard University",
          "University of Oxford",
          "Stanford University",
          "Massachusetts Institute of Technology",
          "Princeton University",
          "University of Cambridge",
          "University of California, Berkeley",
          "University of Chicago",
          "Imperial College London",
          "Yale University",
          "University of California, Los Angeles",
          "Columbia University",
          "ETH Zurich – Swiss Federal Institute of Technology Zurich",
          "Johns Hopkins University",
          "University of Pennsylvania",
          "Duke University",
          "University of Michigan",
          "Cornell University",
          "University of Toronto",
          "University College London",
          "Northwestern University",
          "University of Tokyo",
          "Carnegie Mellon University",
          "University of Washington",
          "National University of Singapore",
          "University of Texas at Austin",
          "Georgia Institute of Technology",
          "University of Illinois at Urbana-Champaign",
          "University of Wisconsin-Madison",
          "University of British Columbia",
          "London School of Economics and Political Science",
          "University of California, Santa Barbara",
          "University of Melbourne",
          "McGill University",
          "Karolinska Institute",
          "École Polytechnique Fédérale de Lausanne",
          "King’s College London",
          "University of Edinburgh",
          "New York University",
          "University of California, San Diego",
          "Washington University in St Louis",
          "University of Hong Kong",
          "Seoul National University",
          "Peking University",
          "University of Minnesota",
          "University of North Carolina at Chapel Hill",
          "Australian National University",
          "Pennsylvania State University",
          "Boston University",
          "Tsinghua University",
          "Brown University",
          "Kyoto University",
          "University of California, Davis",
          "LMU Munich",
          "Korea Advanced Institute of Science and Technology (KAIST)",
          "Hong Kong University of Science and Technology",
          "University of Manchester",
          "Ohio State University",
          "Pohang University of Science and Technology",
          "KU Leuven",
          "Purdue University",
          "The University of Queensland",
          "University of Göttingen",
          "Rice University",
          "École Normale Supérieure",
          "Leiden University",
          "Heidelberg University",
          "Delft University of Technology",
          "University of Southern California",
          "École Polytechnique",
          "University of Sydney",
          "Erasmus University Rotterdam",
          "University of Basel",
          "Utrecht University",
          "Nanyang Technological University",
          "Wageningen University and Research Center",
          "University of Pittsburgh",
          "University of Bristol",
          "Durham University",
          "Emory University",
          "Tufts University",
          "Michigan State University",
          "University of Amsterdam",
          "Ghent University",
          "Free University of Berlin",
          "Technical University of Munich",
          "Case Western Reserve University",
          "Vanderbilt University",
          "University of Notre Dame",
          "Monash University",
          "McMaster University",
          "University of California, Irvine",
          "Humboldt University of Berlin",
          "University of Rochester",
          "Pierre and Marie Curie University",
          "University of Colorado Boulder",
          "Maastricht University",
          "University of Groningen",
          "University of Helsinki"
         ],
         "type": "scatter",
         "x": [
          "1",
          "2",
          "2",
          "4",
          "5",
          "6",
          "7",
          "8",
          "9",
          "10",
          "11",
          "12",
          "13",
          "14",
          "15",
          "16",
          "17",
          "18",
          "19",
          "20",
          "21",
          "22",
          "23",
          "24",
          "25",
          "26",
          "27",
          "28",
          "29",
          "30",
          "31",
          "32",
          "33",
          "34",
          "35",
          "36",
          "37",
          "38",
          "39",
          "40",
          "40",
          "42",
          "43",
          "44",
          "45",
          "46",
          "47",
          "48",
          "49",
          "50",
          "50",
          "52",
          "52",
          "52",
          "55",
          "56",
          "57",
          "58",
          "59",
          "60",
          "61",
          "62",
          "63",
          "63",
          "65",
          "65",
          "67",
          "68",
          "69",
          "70",
          "70",
          "72",
          "73",
          "74",
          "74",
          "76",
          "77",
          "78",
          "79",
          "80",
          "80",
          "80",
          "83",
          "83",
          "85",
          "86",
          "87",
          "88",
          "88",
          "90",
          "91",
          "92",
          "93",
          "94",
          "95",
          "96",
          "97",
          "98",
          "98",
          "100"
         ],
         "y": [
          99.8,
          99.1,
          95.4,
          99.1,
          100,
          99.7,
          95.7,
          99.3,
          98,
          90,
          93.5,
          95.6,
          95.6,
          85,
          95,
          95,
          96.7,
          90.8,
          90.8,
          84.5,
          84.1,
          97.1,
          69.8,
          93.9,
          95.6,
          66.4,
          91.3,
          87.9,
          79.4,
          87.2,
          83.7,
          69.2,
          99.4,
          80.2,
          74.5,
          76,
          95.9,
          87.6,
          87.6,
          87.9,
          96.7,
          96.4,
          61.5,
          47.3,
          62.8,
          81.2,
          90.2,
          71.2,
          79.4,
          95.3,
          59.9,
          91.3,
          58.2,
          81.2,
          83.3,
          67,
          72.3,
          77.3,
          79.4,
          85.7,
          72.9,
          67,
          73.3,
          89.6,
          99.9,
          87,
          84.2,
          76,
          47.2,
          81.2,
          82.3,
          66.6,
          81.2,
          81.4,
          82,
          67.5,
          74.1,
          84.4,
          84.9,
          88.2,
          90.8,
          93.9,
          71.5,
          75,
          74.9,
          64.8,
          80.7,
          82.8,
          86.5,
          91.8,
          65.4,
          79.4,
          89.7,
          68.4,
          89.7,
          82.3,
          97.3,
          65.8,
          71.1,
          77.8
         ]
        },
        {
         "marker": {
          "color": "rgba(255, 128, 2, 0.8)"
         },
         "mode": "markers",
         "name": "2015",
         "text": [
          "California Institute of Technology",
          "Harvard University",
          "University of Oxford",
          "Stanford University",
          "University of Cambridge",
          "Massachusetts Institute of Technology",
          "Princeton University",
          "University of California, Berkeley",
          "Imperial College London",
          "Yale University",
          "University of Chicago",
          "University of California, Los Angeles",
          "ETH Zurich – Swiss Federal Institute of Technology Zurich",
          "Columbia University",
          "Johns Hopkins University",
          "University of Pennsylvania",
          "University of Michigan",
          "Duke University",
          "Cornell University",
          "University of Toronto",
          "Northwestern University",
          "University College London",
          "University of Tokyo",
          "Carnegie Mellon University",
          "National University of Singapore",
          "University of Washington",
          "Georgia Institute of Technology",
          "University of Texas at Austin",
          "LMU Munich",
          "University of Illinois at Urbana-Champaign",
          "University of Wisconsin-Madison",
          "University of British Columbia",
          "University of Melbourne",
          "London School of Economics and Political Science",
          "École Polytechnique Fédérale de Lausanne",
          "University of Edinburgh",
          "University of California, Santa Barbara",
          "New York University",
          "McGill University",
          "King’s College London",
          "University of California, San Diego",
          "Washington University in St Louis",
          "University of Hong Kong",
          "Karolinska Institute",
          "Australian National University",
          "University of Minnesota",
          "University of North Carolina at Chapel Hill",
          "Peking University",
          "Tsinghua University",
          "Seoul National University",
          "Hong Kong University of Science and Technology",
          "Korea Advanced Institute of Science and Technology (KAIST)",
          "University of Manchester",
          "Brown University",
          "KU Leuven",
          "University of California, Davis",
          "Boston University",
          "Pennsylvania State University",
          "Kyoto University",
          "University of Sydney",
          "Nanyang Technological University",
          "École Polytechnique",
          "Scuola Normale Superiore di Pisa",
          "Leiden University",
          "The University of Queensland",
          "Pohang University of Science and Technology",
          "University of Göttingen",
          "Ohio State University",
          "Rice University",
          "Heidelberg University",
          "Delft University of Technology",
          "Erasmus University Rotterdam",
          "Wageningen University and Research Center",
          "University of Bristol",
          "University of Basel",
          "University of Southern California",
          "University of Amsterdam",
          "École Normale Supérieure",
          "Utrecht University",
          "Humboldt University of Berlin",
          "Free University of Berlin",
          "Michigan State University",
          "Durham University",
          "Monash University",
          "Middle East Technical University",
          "University of Arizona",
          "University of Notre Dame",
          "Tufts University",
          "University of California, Irvine",
          "Ghent University",
          "University of Massachusetts",
          "University of Pittsburgh",
          "Emory University",
          "McMaster University",
          "University of Glasgow",
          "Vanderbilt University",
          "University of Colorado Boulder",
          "Stockholm University",
          "Technical University of Munich",
          "Uppsala University"
         ],
         "type": "scatter",
         "x": [
          "1",
          "2",
          "3",
          "4",
          "5",
          "6",
          "7",
          "8",
          "9",
          "9",
          "11",
          "12",
          "13",
          "14",
          "15",
          "16",
          "17",
          "18",
          "19",
          "20",
          "21",
          "22",
          "23",
          "24",
          "25",
          "26",
          "27",
          "28",
          "29",
          "29",
          "29",
          "32",
          "33",
          "34",
          "34",
          "36",
          "37",
          "38",
          "39",
          "40",
          "41",
          "42",
          "43",
          "44",
          "45",
          "46",
          "46",
          "48",
          "49",
          "50",
          "51",
          "52",
          "52",
          "54",
          "55",
          "55",
          "57",
          "58",
          "59",
          "60",
          "61",
          "61",
          "63",
          "64",
          "65",
          "66",
          "67",
          "68",
          "69",
          "70",
          "71",
          "72",
          "73",
          "74",
          "75",
          "75",
          "77",
          "78",
          "79",
          "80",
          "81",
          "82",
          "83",
          "83",
          "85",
          "86",
          "86",
          "88",
          "88",
          "90",
          "91",
          "91",
          "93",
          "94",
          "94",
          "96",
          "97",
          "98",
          "98",
          "98"
         ],
         "y": [
          99.7,
          98.9,
          95.5,
          99.1,
          95.2,
          100,
          99.6,
          99.1,
          89.4,
          94,
          97.3,
          95.3,
          83.5,
          95.3,
          93.6,
          94.4,
          88.9,
          96.6,
          91.5,
          83,
          96.9,
          85.1,
          74.7,
          92,
          66,
          95,
          85.8,
          91.5,
          83,
          77.8,
          87.7,
          85.3,
          80.6,
          71.3,
          95,
          88.3,
          99.2,
          89.5,
          76,
          88.3,
          96.4,
          97.1,
          65.1,
          76.8,
          71.1,
          82.9,
          91,
          63.7,
          65,
          48.7,
          72.9,
          71.4,
          74.3,
          92,
          71.8,
          80.4,
          94.4,
          76,
          57,
          69,
          75.9,
          79.9,
          96.4,
          82.3,
          74.2,
          84.4,
          92.3,
          80.4,
          99.9,
          81.4,
          42.6,
          82.3,
          77.5,
          85.1,
          81.4,
          81.3,
          76.6,
          84.8,
          80,
          71.9,
          67.6,
          74,
          88.9,
          65.7,
          92,
          74,
          90,
          92.9,
          89.5,
          73.8,
          78.7,
          84.4,
          89.5,
          78.8,
          83.7,
          87.7,
          97.4,
          90.9,
          78.8,
          70.9
         ]
        },
        {
         "marker": {
          "color": "rgba(0, 255, 200, 0.8)"
         },
         "mode": "markers",
         "name": "2016",
         "text": [
          "California Institute of Technology",
          "University of Oxford",
          "Stanford University",
          "University of Cambridge",
          "Massachusetts Institute of Technology",
          "Harvard University",
          "Princeton University",
          "Imperial College London",
          "ETH Zurich – Swiss Federal Institute of Technology Zurich",
          "University of Chicago",
          "Johns Hopkins University",
          "Yale University",
          "University of California, Berkeley",
          "University College London",
          "Columbia University",
          "University of California, Los Angeles",
          "University of Pennsylvania",
          "Cornell University",
          "University of Toronto",
          "Duke University",
          "University of Michigan",
          "Carnegie Mellon University",
          "London School of Economics and Political Science",
          "University of Edinburgh",
          "Northwestern University",
          "National University of Singapore",
          "King’s College London",
          "Karolinska Institute",
          "LMU Munich",
          "New York University",
          "École Polytechnique Fédérale de Lausanne",
          "University of Washington",
          "University of Melbourne",
          "University of British Columbia",
          "KU Leuven",
          "University of Illinois at Urbana-Champaign",
          "Heidelberg University",
          "McGill University",
          "University of California, San Diego",
          "University of California, Santa Barbara",
          "Georgia Institute of Technology",
          "Peking University",
          "University of Tokyo",
          "University of California, Davis",
          "University of Hong Kong",
          "University of Texas at Austin",
          "Tsinghua University",
          "Wageningen University and Research Center",
          "Humboldt University of Berlin",
          "University of Wisconsin-Madison",
          "Brown University",
          "Australian National University",
          "Technical University of Munich",
          "École Normale Supérieure",
          "Nanyang Technological University",
          "University of Manchester",
          "University of Sydney",
          "University of Amsterdam",
          "Hong Kong University of Science and Technology",
          "The University of Queensland",
          "Washington University in St Louis",
          "Utrecht University",
          "University of North Carolina at Chapel Hill",
          "Boston University",
          "Delft University of Technology",
          "University of Minnesota",
          "Leiden University",
          "University of Southern California",
          "University of Bristol",
          "Durham University",
          "Erasmus University Rotterdam",
          "Free University of Berlin",
          "Monash University",
          "University of Groningen",
          "Pennsylvania State University",
          "University of Glasgow",
          "University of Helsinki",
          "University of Tübingen",
          "University of Pittsburgh",
          "University of Warwick",
          "Uppsala University",
          "University of Copenhagen",
          "University of New South Wales",
          "University of Freiburg",
          "Seoul National University",
          "University of St Andrews",
          "Vanderbilt University",
          "Kyoto University",
          "Maastricht University",
          "Emory University",
          "Lund University",
          "Ohio State University",
          "University of Exeter",
          "University of Bonn",
          "Georgetown University",
          "McMaster University",
          "University of Sheffield",
          "Queen Mary University of London",
          "University of Göttingen",
          "Michigan State University"
         ],
         "type": "scatter",
         "x": [
          "1",
          "2",
          "3",
          "4",
          "5",
          "6",
          "7",
          "8",
          "9",
          "10",
          "11",
          "12",
          "13",
          "14",
          "15",
          "16",
          "17",
          "18",
          "19",
          "20",
          "21",
          "22",
          "23",
          "24",
          "25",
          "26",
          "27",
          "28",
          "29",
          "30",
          "31",
          "32",
          "33",
          "34",
          "35",
          "36",
          "37",
          "38",
          "=39",
          "=39",
          "41",
          "42",
          "43",
          "=44",
          "=44",
          "46",
          "=47",
          "=47",
          "49",
          "50",
          "51",
          "52",
          "53",
          "54",
          "55",
          "=56",
          "=56",
          "58",
          "59",
          "=60",
          "=60",
          "62",
          "63",
          "64",
          "=65",
          "=65",
          "67",
          "68",
          "69",
          "70",
          "71",
          "72",
          "73",
          "74",
          "75",
          "=76",
          "=76",
          "78",
          "79",
          "80",
          "81",
          "=82",
          "=82",
          "84",
          "85",
          "86",
          "87",
          "=88",
          "=88",
          "=90",
          "=90",
          "=90",
          "93",
          "=94",
          "=94",
          "=94",
          "97",
          "98",
          "=99",
          "=99"
         ],
         "y": [
          99.8,
          98.8,
          99.9,
          97,
          99.7,
          99.8,
          99.3,
          96.7,
          91.1,
          99.2,
          98.2,
          97.2,
          99.7,
          94.2,
          98.1,
          98.5,
          98.6,
          97.2,
          90.9,
          99,
          94.4,
          99.1,
          94.3,
          96.3,
          96.5,
          79.4,
          93.8,
          92.2,
          85.7,
          95.3,
          94.6,
          98.6,
          86.6,
          91.5,
          87.3,
          86.8,
          88.2,
          78.9,
          98.7,
          99.2,
          86,
          69.1,
          60.9,
          84.3,
          70.1,
          92.2,
          58.8,
          87.8,
          73.6,
          86.6,
          96.4,
          72.3,
          80.1,
          87.1,
          85.6,
          77.3,
          77.5,
          87.4,
          82.6,
          82.4,
          99.2,
          88.1,
          95.9,
          97.7,
          61.5,
          88,
          85.2,
          93,
          91.2,
          87.7,
          95.6,
          60.2,
          73.3,
          84,
          80.5,
          92.3,
          82.1,
          79.3,
          92.3,
          78.2,
          80.9,
          86.2,
          82.1,
          80.5,
          50,
          78.8,
          95.7,
          46.6,
          82.7,
          96.7,
          81.3,
          83.2,
          94.3,
          85.3,
          82.5,
          84.9,
          80.1,
          93.3,
          72.7,
          76.8
         ]
        }
       ],
       "layout": {
        "autosize": true,
        "template": {
         "data": {
          "bar": [
           {
            "error_x": {
             "color": "#2a3f5f"
            },
            "error_y": {
             "color": "#2a3f5f"
            },
            "marker": {
             "line": {
              "color": "#E5ECF6",
              "width": 0.5
             },
             "pattern": {
              "fillmode": "overlay",
              "size": 10,
              "solidity": 0.2
             }
            },
            "type": "bar"
           }
          ],
          "barpolar": [
           {
            "marker": {
             "line": {
              "color": "#E5ECF6",
              "width": 0.5
             },
             "pattern": {
              "fillmode": "overlay",
              "size": 10,
              "solidity": 0.2
             }
            },
            "type": "barpolar"
           }
          ],
          "carpet": [
           {
            "aaxis": {
             "endlinecolor": "#2a3f5f",
             "gridcolor": "white",
             "linecolor": "white",
             "minorgridcolor": "white",
             "startlinecolor": "#2a3f5f"
            },
            "baxis": {
             "endlinecolor": "#2a3f5f",
             "gridcolor": "white",
             "linecolor": "white",
             "minorgridcolor": "white",
             "startlinecolor": "#2a3f5f"
            },
            "type": "carpet"
           }
          ],
          "choropleth": [
           {
            "colorbar": {
             "outlinewidth": 0,
             "ticks": ""
            },
            "type": "choropleth"
           }
          ],
          "contour": [
           {
            "colorbar": {
             "outlinewidth": 0,
             "ticks": ""
            },
            "colorscale": [
             [
              0,
              "#0d0887"
             ],
             [
              0.1111111111111111,
              "#46039f"
             ],
             [
              0.2222222222222222,
              "#7201a8"
             ],
             [
              0.3333333333333333,
              "#9c179e"
             ],
             [
              0.4444444444444444,
              "#bd3786"
             ],
             [
              0.5555555555555556,
              "#d8576b"
             ],
             [
              0.6666666666666666,
              "#ed7953"
             ],
             [
              0.7777777777777778,
              "#fb9f3a"
             ],
             [
              0.8888888888888888,
              "#fdca26"
             ],
             [
              1,
              "#f0f921"
             ]
            ],
            "type": "contour"
           }
          ],
          "contourcarpet": [
           {
            "colorbar": {
             "outlinewidth": 0,
             "ticks": ""
            },
            "type": "contourcarpet"
           }
          ],
          "heatmap": [
           {
            "colorbar": {
             "outlinewidth": 0,
             "ticks": ""
            },
            "colorscale": [
             [
              0,
              "#0d0887"
             ],
             [
              0.1111111111111111,
              "#46039f"
             ],
             [
              0.2222222222222222,
              "#7201a8"
             ],
             [
              0.3333333333333333,
              "#9c179e"
             ],
             [
              0.4444444444444444,
              "#bd3786"
             ],
             [
              0.5555555555555556,
              "#d8576b"
             ],
             [
              0.6666666666666666,
              "#ed7953"
             ],
             [
              0.7777777777777778,
              "#fb9f3a"
             ],
             [
              0.8888888888888888,
              "#fdca26"
             ],
             [
              1,
              "#f0f921"
             ]
            ],
            "type": "heatmap"
           }
          ],
          "heatmapgl": [
           {
            "colorbar": {
             "outlinewidth": 0,
             "ticks": ""
            },
            "colorscale": [
             [
              0,
              "#0d0887"
             ],
             [
              0.1111111111111111,
              "#46039f"
             ],
             [
              0.2222222222222222,
              "#7201a8"
             ],
             [
              0.3333333333333333,
              "#9c179e"
             ],
             [
              0.4444444444444444,
              "#bd3786"
             ],
             [
              0.5555555555555556,
              "#d8576b"
             ],
             [
              0.6666666666666666,
              "#ed7953"
             ],
             [
              0.7777777777777778,
              "#fb9f3a"
             ],
             [
              0.8888888888888888,
              "#fdca26"
             ],
             [
              1,
              "#f0f921"
             ]
            ],
            "type": "heatmapgl"
           }
          ],
          "histogram": [
           {
            "marker": {
             "pattern": {
              "fillmode": "overlay",
              "size": 10,
              "solidity": 0.2
             }
            },
            "type": "histogram"
           }
          ],
          "histogram2d": [
           {
            "colorbar": {
             "outlinewidth": 0,
             "ticks": ""
            },
            "colorscale": [
             [
              0,
              "#0d0887"
             ],
             [
              0.1111111111111111,
              "#46039f"
             ],
             [
              0.2222222222222222,
              "#7201a8"
             ],
             [
              0.3333333333333333,
              "#9c179e"
             ],
             [
              0.4444444444444444,
              "#bd3786"
             ],
             [
              0.5555555555555556,
              "#d8576b"
             ],
             [
              0.6666666666666666,
              "#ed7953"
             ],
             [
              0.7777777777777778,
              "#fb9f3a"
             ],
             [
              0.8888888888888888,
              "#fdca26"
             ],
             [
              1,
              "#f0f921"
             ]
            ],
            "type": "histogram2d"
           }
          ],
          "histogram2dcontour": [
           {
            "colorbar": {
             "outlinewidth": 0,
             "ticks": ""
            },
            "colorscale": [
             [
              0,
              "#0d0887"
             ],
             [
              0.1111111111111111,
              "#46039f"
             ],
             [
              0.2222222222222222,
              "#7201a8"
             ],
             [
              0.3333333333333333,
              "#9c179e"
             ],
             [
              0.4444444444444444,
              "#bd3786"
             ],
             [
              0.5555555555555556,
              "#d8576b"
             ],
             [
              0.6666666666666666,
              "#ed7953"
             ],
             [
              0.7777777777777778,
              "#fb9f3a"
             ],
             [
              0.8888888888888888,
              "#fdca26"
             ],
             [
              1,
              "#f0f921"
             ]
            ],
            "type": "histogram2dcontour"
           }
          ],
          "mesh3d": [
           {
            "colorbar": {
             "outlinewidth": 0,
             "ticks": ""
            },
            "type": "mesh3d"
           }
          ],
          "parcoords": [
           {
            "line": {
             "colorbar": {
              "outlinewidth": 0,
              "ticks": ""
             }
            },
            "type": "parcoords"
           }
          ],
          "pie": [
           {
            "automargin": true,
            "type": "pie"
           }
          ],
          "scatter": [
           {
            "fillpattern": {
             "fillmode": "overlay",
             "size": 10,
             "solidity": 0.2
            },
            "type": "scatter"
           }
          ],
          "scatter3d": [
           {
            "line": {
             "colorbar": {
              "outlinewidth": 0,
              "ticks": ""
             }
            },
            "marker": {
             "colorbar": {
              "outlinewidth": 0,
              "ticks": ""
             }
            },
            "type": "scatter3d"
           }
          ],
          "scattercarpet": [
           {
            "marker": {
             "colorbar": {
              "outlinewidth": 0,
              "ticks": ""
             }
            },
            "type": "scattercarpet"
           }
          ],
          "scattergeo": [
           {
            "marker": {
             "colorbar": {
              "outlinewidth": 0,
              "ticks": ""
             }
            },
            "type": "scattergeo"
           }
          ],
          "scattergl": [
           {
            "marker": {
             "colorbar": {
              "outlinewidth": 0,
              "ticks": ""
             }
            },
            "type": "scattergl"
           }
          ],
          "scattermapbox": [
           {
            "marker": {
             "colorbar": {
              "outlinewidth": 0,
              "ticks": ""
             }
            },
            "type": "scattermapbox"
           }
          ],
          "scatterpolar": [
           {
            "marker": {
             "colorbar": {
              "outlinewidth": 0,
              "ticks": ""
             }
            },
            "type": "scatterpolar"
           }
          ],
          "scatterpolargl": [
           {
            "marker": {
             "colorbar": {
              "outlinewidth": 0,
              "ticks": ""
             }
            },
            "type": "scatterpolargl"
           }
          ],
          "scatterternary": [
           {
            "marker": {
             "colorbar": {
              "outlinewidth": 0,
              "ticks": ""
             }
            },
            "type": "scatterternary"
           }
          ],
          "surface": [
           {
            "colorbar": {
             "outlinewidth": 0,
             "ticks": ""
            },
            "colorscale": [
             [
              0,
              "#0d0887"
             ],
             [
              0.1111111111111111,
              "#46039f"
             ],
             [
              0.2222222222222222,
              "#7201a8"
             ],
             [
              0.3333333333333333,
              "#9c179e"
             ],
             [
              0.4444444444444444,
              "#bd3786"
             ],
             [
              0.5555555555555556,
              "#d8576b"
             ],
             [
              0.6666666666666666,
              "#ed7953"
             ],
             [
              0.7777777777777778,
              "#fb9f3a"
             ],
             [
              0.8888888888888888,
              "#fdca26"
             ],
             [
              1,
              "#f0f921"
             ]
            ],
            "type": "surface"
           }
          ],
          "table": [
           {
            "cells": {
             "fill": {
              "color": "#EBF0F8"
             },
             "line": {
              "color": "white"
             }
            },
            "header": {
             "fill": {
              "color": "#C8D4E3"
             },
             "line": {
              "color": "white"
             }
            },
            "type": "table"
           }
          ]
         },
         "layout": {
          "annotationdefaults": {
           "arrowcolor": "#2a3f5f",
           "arrowhead": 0,
           "arrowwidth": 1
          },
          "autotypenumbers": "strict",
          "coloraxis": {
           "colorbar": {
            "outlinewidth": 0,
            "ticks": ""
           }
          },
          "colorscale": {
           "diverging": [
            [
             0,
             "#8e0152"
            ],
            [
             0.1,
             "#c51b7d"
            ],
            [
             0.2,
             "#de77ae"
            ],
            [
             0.3,
             "#f1b6da"
            ],
            [
             0.4,
             "#fde0ef"
            ],
            [
             0.5,
             "#f7f7f7"
            ],
            [
             0.6,
             "#e6f5d0"
            ],
            [
             0.7,
             "#b8e186"
            ],
            [
             0.8,
             "#7fbc41"
            ],
            [
             0.9,
             "#4d9221"
            ],
            [
             1,
             "#276419"
            ]
           ],
           "sequential": [
            [
             0,
             "#0d0887"
            ],
            [
             0.1111111111111111,
             "#46039f"
            ],
            [
             0.2222222222222222,
             "#7201a8"
            ],
            [
             0.3333333333333333,
             "#9c179e"
            ],
            [
             0.4444444444444444,
             "#bd3786"
            ],
            [
             0.5555555555555556,
             "#d8576b"
            ],
            [
             0.6666666666666666,
             "#ed7953"
            ],
            [
             0.7777777777777778,
             "#fb9f3a"
            ],
            [
             0.8888888888888888,
             "#fdca26"
            ],
            [
             1,
             "#f0f921"
            ]
           ],
           "sequentialminus": [
            [
             0,
             "#0d0887"
            ],
            [
             0.1111111111111111,
             "#46039f"
            ],
            [
             0.2222222222222222,
             "#7201a8"
            ],
            [
             0.3333333333333333,
             "#9c179e"
            ],
            [
             0.4444444444444444,
             "#bd3786"
            ],
            [
             0.5555555555555556,
             "#d8576b"
            ],
            [
             0.6666666666666666,
             "#ed7953"
            ],
            [
             0.7777777777777778,
             "#fb9f3a"
            ],
            [
             0.8888888888888888,
             "#fdca26"
            ],
            [
             1,
             "#f0f921"
            ]
           ]
          },
          "colorway": [
           "#636efa",
           "#EF553B",
           "#00cc96",
           "#ab63fa",
           "#FFA15A",
           "#19d3f3",
           "#FF6692",
           "#B6E880",
           "#FF97FF",
           "#FECB52"
          ],
          "font": {
           "color": "#2a3f5f"
          },
          "geo": {
           "bgcolor": "white",
           "lakecolor": "white",
           "landcolor": "#E5ECF6",
           "showlakes": true,
           "showland": true,
           "subunitcolor": "white"
          },
          "hoverlabel": {
           "align": "left"
          },
          "hovermode": "closest",
          "mapbox": {
           "style": "light"
          },
          "paper_bgcolor": "white",
          "plot_bgcolor": "#E5ECF6",
          "polar": {
           "angularaxis": {
            "gridcolor": "white",
            "linecolor": "white",
            "ticks": ""
           },
           "bgcolor": "#E5ECF6",
           "radialaxis": {
            "gridcolor": "white",
            "linecolor": "white",
            "ticks": ""
           }
          },
          "scene": {
           "xaxis": {
            "backgroundcolor": "#E5ECF6",
            "gridcolor": "white",
            "gridwidth": 2,
            "linecolor": "white",
            "showbackground": true,
            "ticks": "",
            "zerolinecolor": "white"
           },
           "yaxis": {
            "backgroundcolor": "#E5ECF6",
            "gridcolor": "white",
            "gridwidth": 2,
            "linecolor": "white",
            "showbackground": true,
            "ticks": "",
            "zerolinecolor": "white"
           },
           "zaxis": {
            "backgroundcolor": "#E5ECF6",
            "gridcolor": "white",
            "gridwidth": 2,
            "linecolor": "white",
            "showbackground": true,
            "ticks": "",
            "zerolinecolor": "white"
           }
          },
          "shapedefaults": {
           "line": {
            "color": "#2a3f5f"
           }
          },
          "ternary": {
           "aaxis": {
            "gridcolor": "white",
            "linecolor": "white",
            "ticks": ""
           },
           "baxis": {
            "gridcolor": "white",
            "linecolor": "white",
            "ticks": ""
           },
           "bgcolor": "#E5ECF6",
           "caxis": {
            "gridcolor": "white",
            "linecolor": "white",
            "ticks": ""
           }
          },
          "title": {
           "x": 0.05
          },
          "xaxis": {
           "automargin": true,
           "gridcolor": "white",
           "linecolor": "white",
           "ticks": "",
           "title": {
            "standoff": 15
           },
           "zerolinecolor": "white",
           "zerolinewidth": 2
          },
          "yaxis": {
           "automargin": true,
           "gridcolor": "white",
           "linecolor": "white",
           "ticks": "",
           "title": {
            "standoff": 15
           },
           "zerolinecolor": "white",
           "zerolinewidth": 2
          }
         }
        },
        "title": {
         "text": "Citation vs world rank of top 100 universities with 2014, 2015 and 2016 years"
        },
        "xaxis": {
         "autorange": true,
         "range": [
          -6.4542621367746476,
          115.45426213677464
         ],
         "ticklen": 5,
         "title": {
          "text": "World Rank"
         },
         "type": "category",
         "zeroline": false
        },
        "yaxis": {
         "autorange": true,
         "range": [
          37.863106796116504,
          104.7368932038835
         ],
         "ticklen": 5,
         "title": {
          "text": "Citation"
         },
         "type": "linear",
         "zeroline": false
        }
       }
      },
      "image/png": "[encoded data removed]",
      "text/html": [
       "<div>                            <div id=\"61fd9c04-7511-4569-b68b-54111105f3ea\" class=\"plotly-graph-div\" style=\"height:525px; width:100%;\"></div>            <script type=\"text/javascript\">                require([\"plotly\"], function(Plotly) {                    window.PLOTLYENV=window.PLOTLYENV || {};                                    if (document.getElementById(\"61fd9c04-7511-4569-b68b-54111105f3ea\")) {                    Plotly.newPlot(                        \"61fd9c04-7511-4569-b68b-54111105f3ea\",                        [{\"marker\":{\"color\":\"rgba(255, 128, 255, 0.8)\"},\"mode\":\"markers\",\"name\":\"2014\",\"text\":[\"California Institute of Technology\",\"Harvard University\",\"University of Oxford\",\"Stanford University\",\"Massachusetts Institute of Technology\",\"Princeton University\",\"University of Cambridge\",\"University of California, Berkeley\",\"University of Chicago\",\"Imperial College London\",\"Yale University\",\"University of California, Los Angeles\",\"Columbia University\",\"ETH Zurich \\u2013 Swiss Federal Institute of Technology Zurich\",\"Johns Hopkins University\",\"University of Pennsylvania\",\"Duke University\",\"University of Michigan\",\"Cornell University\",\"University of Toronto\",\"University College London\",\"Northwestern University\",\"University of Tokyo\",\"Carnegie Mellon University\",\"University of Washington\",\"National University of Singapore\",\"University of Texas at Austin\",\"Georgia Institute of Technology\",\"University of Illinois at Urbana-Champaign\",\"University of Wisconsin-Madison\",\"University of British Columbia\",\"London School of Economics and Political Science\",\"University of California, Santa Barbara\",\"University of Melbourne\",\"McGill University\",\"Karolinska Institute\",\"\\u00c9cole Polytechnique F\\u00e9d\\u00e9rale de Lausanne\",\"King\\u2019s College London\",\"University of Edinburgh\",\"New York University\",\"University of California, San Diego\",\"Washington University in St Louis\",\"University of Hong Kong\",\"Seoul National University\",\"Peking University\",\"University of Minnesota\",\"University of North Carolina at Chapel Hill\",\"Australian National University\",\"Pennsylvania State University\",\"Boston University\",\"Tsinghua University\",\"Brown University\",\"Kyoto University\",\"University of California, Davis\",\"LMU Munich\",\"Korea Advanced Institute of Science and Technology (KAIST)\",\"Hong Kong University of Science and Technology\",\"University of Manchester\",\"Ohio State University\",\"Pohang University of Science and Technology\",\"KU Leuven\",\"Purdue University\",\"The University of Queensland\",\"University of G\\u00f6ttingen\",\"Rice University\",\"\\u00c9cole Normale Sup\\u00e9rieure\",\"Leiden University\",\"Heidelberg University\",\"Delft University of Technology\",\"University of Southern California\",\"\\u00c9cole Polytechnique\",\"University of Sydney\",\"Erasmus University Rotterdam\",\"University of Basel\",\"Utrecht University\",\"Nanyang Technological University\",\"Wageningen University and Research Center\",\"University of Pittsburgh\",\"University of Bristol\",\"Durham University\",\"Emory University\",\"Tufts University\",\"Michigan State University\",\"University of Amsterdam\",\"Ghent University\",\"Free University of Berlin\",\"Technical University of Munich\",\"Case Western Reserve University\",\"Vanderbilt University\",\"University of Notre Dame\",\"Monash University\",\"McMaster University\",\"University of California, Irvine\",\"Humboldt University of Berlin\",\"University of Rochester\",\"Pierre and Marie Curie University\",\"University of Colorado Boulder\",\"Maastricht University\",\"University of Groningen\",\"University of Helsinki\"],\"x\":[\"1\",\"2\",\"2\",\"4\",\"5\",\"6\",\"7\",\"8\",\"9\",\"10\",\"11\",\"12\",\"13\",\"14\",\"15\",\"16\",\"17\",\"18\",\"19\",\"20\",\"21\",\"22\",\"23\",\"24\",\"25\",\"26\",\"27\",\"28\",\"29\",\"30\",\"31\",\"32\",\"33\",\"34\",\"35\",\"36\",\"37\",\"38\",\"39\",\"40\",\"40\",\"42\",\"43\",\"44\",\"45\",\"46\",\"47\",\"48\",\"49\",\"50\",\"50\",\"52\",\"52\",\"52\",\"55\",\"56\",\"57\",\"58\",\"59\",\"60\",\"61\",\"62\",\"63\",\"63\",\"65\",\"65\",\"67\",\"68\",\"69\",\"70\",\"70\",\"72\",\"73\",\"74\",\"74\",\"76\",\"77\",\"78\",\"79\",\"80\",\"80\",\"80\",\"83\",\"83\",\"85\",\"86\",\"87\",\"88\",\"88\",\"90\",\"91\",\"92\",\"93\",\"94\",\"95\",\"96\",\"97\",\"98\",\"98\",\"100\"],\"y\":[99.8,99.1,95.4,99.1,100.0,99.7,95.7,99.3,98.0,90.0,93.5,95.6,95.6,85.0,95.0,95.0,96.7,90.8,90.8,84.5,84.1,97.1,69.8,93.9,95.6,66.4,91.3,87.9,79.4,87.2,83.7,69.2,99.4,80.2,74.5,76.0,95.9,87.6,87.6,87.9,96.7,96.4,61.5,47.3,62.8,81.2,90.2,71.2,79.4,95.3,59.9,91.3,58.2,81.2,83.3,67.0,72.3,77.3,79.4,85.7,72.9,67.0,73.3,89.6,99.9,87.0,84.2,76.0,47.2,81.2,82.3,66.6,81.2,81.4,82.0,67.5,74.1,84.4,84.9,88.2,90.8,93.9,71.5,75.0,74.9,64.8,80.7,82.8,86.5,91.8,65.4,79.4,89.7,68.4,89.7,82.3,97.3,65.8,71.1,77.8],\"type\":\"scatter\"},{\"marker\":{\"color\":\"rgba(255, 128, 2, 0.8)\"},\"mode\":\"markers\",\"name\":\"2015\",\"text\":[\"California Institute of Technology\",\"Harvard University\",\"University of Oxford\",\"Stanford University\",\"University of Cambridge\",\"Massachusetts Institute of Technology\",\"Princeton University\",\"University of California, Berkeley\",\"Imperial College London\",\"Yale University\",\"University of Chicago\",\"University of California, Los Angeles\",\"ETH Zurich \\u2013 Swiss Federal Institute of Technology Zurich\",\"Columbia University\",\"Johns Hopkins University\",\"University of Pennsylvania\",\"University of Michigan\",\"Duke University\",\"Cornell University\",\"University of Toronto\",\"Northwestern University\",\"University College London\",\"University of Tokyo\",\"Carnegie Mellon University\",\"National University of Singapore\",\"University of Washington\",\"Georgia Institute of Technology\",\"University of Texas at Austin\",\"LMU Munich\",\"University of Illinois at Urbana-Champaign\",\"University of Wisconsin-Madison\",\"University of British Columbia\",\"University of Melbourne\",\"London School of Economics and Political Science\",\"\\u00c9cole Polytechnique F\\u00e9d\\u00e9rale de Lausanne\",\"University of Edinburgh\",\"University of California, Santa Barbara\",\"New York University\",\"McGill University\",\"King\\u2019s College London\",\"University of California, San Diego\",\"Washington University in St Louis\",\"University of Hong Kong\",\"Karolinska Institute\",\"Australian National University\",\"University of Minnesota\",\"University of North Carolina at Chapel Hill\",\"Peking University\",\"Tsinghua University\",\"Seoul National University\",\"Hong Kong University of Science and Technology\",\"Korea Advanced Institute of Science and Technology (KAIST)\",\"University of Manchester\",\"Brown University\",\"KU Leuven\",\"University of California, Davis\",\"Boston University\",\"Pennsylvania State University\",\"Kyoto University\",\"University of Sydney\",\"Nanyang Technological University\",\"\\u00c9cole Polytechnique\",\"Scuola Normale Superiore di Pisa\",\"Leiden University\",\"The University of Queensland\",\"Pohang University of Science and Technology\",\"University of G\\u00f6ttingen\",\"Ohio State University\",\"Rice University\",\"Heidelberg University\",\"Delft University of Technology\",\"Erasmus University Rotterdam\",\"Wageningen University and Research Center\",\"University of Bristol\",\"University of Basel\",\"University of Southern California\",\"University of Amsterdam\",\"\\u00c9cole Normale Sup\\u00e9rieure\",\"Utrecht University\",\"Humboldt University of Berlin\",\"Free University of Berlin\",\"Michigan State University\",\"Durham University\",\"Monash University\",\"Middle East Technical University\",\"University of Arizona\",\"University of Notre Dame\",\"Tufts University\",\"University of California, Irvine\",\"Ghent University\",\"University of Massachusetts\",\"University of Pittsburgh\",\"Emory University\",\"McMaster University\",\"University of Glasgow\",\"Vanderbilt University\",\"University of Colorado Boulder\",\"Stockholm University\",\"Technical University of Munich\",\"Uppsala University\"],\"x\":[\"1\",\"2\",\"3\",\"4\",\"5\",\"6\",\"7\",\"8\",\"9\",\"9\",\"11\",\"12\",\"13\",\"14\",\"15\",\"16\",\"17\",\"18\",\"19\",\"20\",\"21\",\"22\",\"23\",\"24\",\"25\",\"26\",\"27\",\"28\",\"29\",\"29\",\"29\",\"32\",\"33\",\"34\",\"34\",\"36\",\"37\",\"38\",\"39\",\"40\",\"41\",\"42\",\"43\",\"44\",\"45\",\"46\",\"46\",\"48\",\"49\",\"50\",\"51\",\"52\",\"52\",\"54\",\"55\",\"55\",\"57\",\"58\",\"59\",\"60\",\"61\",\"61\",\"63\",\"64\",\"65\",\"66\",\"67\",\"68\",\"69\",\"70\",\"71\",\"72\",\"73\",\"74\",\"75\",\"75\",\"77\",\"78\",\"79\",\"80\",\"81\",\"82\",\"83\",\"83\",\"85\",\"86\",\"86\",\"88\",\"88\",\"90\",\"91\",\"91\",\"93\",\"94\",\"94\",\"96\",\"97\",\"98\",\"98\",\"98\"],\"y\":[99.7,98.9,95.5,99.1,95.2,100.0,99.6,99.1,89.4,94.0,97.3,95.3,83.5,95.3,93.6,94.4,88.9,96.6,91.5,83.0,96.9,85.1,74.7,92.0,66.0,95.0,85.8,91.5,83.0,77.8,87.7,85.3,80.6,71.3,95.0,88.3,99.2,89.5,76.0,88.3,96.4,97.1,65.1,76.8,71.1,82.9,91.0,63.7,65.0,48.7,72.9,71.4,74.3,92.0,71.8,80.4,94.4,76.0,57.0,69.0,75.9,79.9,96.4,82.3,74.2,84.4,92.3,80.4,99.9,81.4,42.6,82.3,77.5,85.1,81.4,81.3,76.6,84.8,80.0,71.9,67.6,74.0,88.9,65.7,92.0,74.0,90.0,92.9,89.5,73.8,78.7,84.4,89.5,78.8,83.7,87.7,97.4,90.9,78.8,70.9],\"type\":\"scatter\"},{\"marker\":{\"color\":\"rgba(0, 255, 200, 0.8)\"},\"mode\":\"markers\",\"name\":\"2016\",\"text\":[\"California Institute of Technology\",\"University of Oxford\",\"Stanford University\",\"University of Cambridge\",\"Massachusetts Institute of Technology\",\"Harvard University\",\"Princeton University\",\"Imperial College London\",\"ETH Zurich \\u2013 Swiss Federal Institute of Technology Zurich\",\"University of Chicago\",\"Johns Hopkins University\",\"Yale University\",\"University of California, Berkeley\",\"University College London\",\"Columbia University\",\"University of California, Los Angeles\",\"University of Pennsylvania\",\"Cornell University\",\"University of Toronto\",\"Duke University\",\"University of Michigan\",\"Carnegie Mellon University\",\"London School of Economics and Political Science\",\"University of Edinburgh\",\"Northwestern University\",\"National University of Singapore\",\"King\\u2019s College London\",\"Karolinska Institute\",\"LMU Munich\",\"New York University\",\"\\u00c9cole Polytechnique F\\u00e9d\\u00e9rale de Lausanne\",\"University of Washington\",\"University of Melbourne\",\"University of British Columbia\",\"KU Leuven\",\"University of Illinois at Urbana-Champaign\",\"Heidelberg University\",\"McGill University\",\"University of California, San Diego\",\"University of California, Santa Barbara\",\"Georgia Institute of Technology\",\"Peking University\",\"University of Tokyo\",\"University of California, Davis\",\"University of Hong Kong\",\"University of Texas at Austin\",\"Tsinghua University\",\"Wageningen University and Research Center\",\"Humboldt University of Berlin\",\"University of Wisconsin-Madison\",\"Brown University\",\"Australian National University\",\"Technical University of Munich\",\"\\u00c9cole Normale Sup\\u00e9rieure\",\"Nanyang Technological University\",\"University of Manchester\",\"University of Sydney\",\"University of Amsterdam\",\"Hong Kong University of Science and Technology\",\"The University of Queensland\",\"Washington University in St Louis\",\"Utrecht University\",\"University of North Carolina at Chapel Hill\",\"Boston University\",\"Delft University of Technology\",\"University of Minnesota\",\"Leiden University\",\"University of Southern California\",\"University of Bristol\",\"Durham University\",\"Erasmus University Rotterdam\",\"Free University of Berlin\",\"Monash University\",\"University of Groningen\",\"Pennsylvania State University\",\"University of Glasgow\",\"University of Helsinki\",\"University of T\\u00fcbingen\",\"University of Pittsburgh\",\"University of Warwick\",\"Uppsala University\",\"University of Copenhagen\",\"University of New South Wales\",\"University of Freiburg\",\"Seoul National University\",\"University of St Andrews\",\"Vanderbilt University\",\"Kyoto University\",\"Maastricht University\",\"Emory University\",\"Lund University\",\"Ohio State University\",\"University of Exeter\",\"University of Bonn\",\"Georgetown University\",\"McMaster University\",\"University of Sheffield\",\"Queen Mary University of London\",\"University of G\\u00f6ttingen\",\"Michigan State University\"],\"x\":[\"1\",\"2\",\"3\",\"4\",\"5\",\"6\",\"7\",\"8\",\"9\",\"10\",\"11\",\"12\",\"13\",\"14\",\"15\",\"16\",\"17\",\"18\",\"19\",\"20\",\"21\",\"22\",\"23\",\"24\",\"25\",\"26\",\"27\",\"28\",\"29\",\"30\",\"31\",\"32\",\"33\",\"34\",\"35\",\"36\",\"37\",\"38\",\"=39\",\"=39\",\"41\",\"42\",\"43\",\"=44\",\"=44\",\"46\",\"=47\",\"=47\",\"49\",\"50\",\"51\",\"52\",\"53\",\"54\",\"55\",\"=56\",\"=56\",\"58\",\"59\",\"=60\",\"=60\",\"62\",\"63\",\"64\",\"=65\",\"=65\",\"67\",\"68\",\"69\",\"70\",\"71\",\"72\",\"73\",\"74\",\"75\",\"=76\",\"=76\",\"78\",\"79\",\"80\",\"81\",\"=82\",\"=82\",\"84\",\"85\",\"86\",\"87\",\"=88\",\"=88\",\"=90\",\"=90\",\"=90\",\"93\",\"=94\",\"=94\",\"=94\",\"97\",\"98\",\"=99\",\"=99\"],\"y\":[99.8,98.8,99.9,97.0,99.7,99.8,99.3,96.7,91.1,99.2,98.2,97.2,99.7,94.2,98.1,98.5,98.6,97.2,90.9,99.0,94.4,99.1,94.3,96.3,96.5,79.4,93.8,92.2,85.7,95.3,94.6,98.6,86.6,91.5,87.3,86.8,88.2,78.9,98.7,99.2,86.0,69.1,60.9,84.3,70.1,92.2,58.8,87.8,73.6,86.6,96.4,72.3,80.1,87.1,85.6,77.3,77.5,87.4,82.6,82.4,99.2,88.1,95.9,97.7,61.5,88.0,85.2,93.0,91.2,87.7,95.6,60.2,73.3,84.0,80.5,92.3,82.1,79.3,92.3,78.2,80.9,86.2,82.1,80.5,50.0,78.8,95.7,46.6,82.7,96.7,81.3,83.2,94.3,85.3,82.5,84.9,80.1,93.3,72.7,76.8],\"type\":\"scatter\"}],                        {\"template\":{\"data\":{\"barpolar\":[{\"marker\":{\"line\":{\"color\":\"#E5ECF6\",\"width\":0.5},\"pattern\":{\"fillmode\":\"overlay\",\"size\":10,\"solidity\":0.2}},\"type\":\"barpolar\"}],\"bar\":[{\"error_x\":{\"color\":\"#2a3f5f\"},\"error_y\":{\"color\":\"#2a3f5f\"},\"marker\":{\"line\":{\"color\":\"#E5ECF6\",\"width\":0.5},\"pattern\":{\"fillmode\":\"overlay\",\"size\":10,\"solidity\":0.2}},\"type\":\"bar\"}],\"carpet\":[{\"aaxis\":{\"endlinecolor\":\"#2a3f5f\",\"gridcolor\":\"white\",\"linecolor\":\"white\",\"minorgridcolor\":\"white\",\"startlinecolor\":\"#2a3f5f\"},\"baxis\":{\"endlinecolor\":\"#2a3f5f\",\"gridcolor\":\"white\",\"linecolor\":\"white\",\"minorgridcolor\":\"white\",\"startlinecolor\":\"#2a3f5f\"},\"type\":\"carpet\"}],\"choropleth\":[{\"colorbar\":{\"outlinewidth\":0,\"ticks\":\"\"},\"type\":\"choropleth\"}],\"contourcarpet\":[{\"colorbar\":{\"outlinewidth\":0,\"ticks\":\"\"},\"type\":\"contourcarpet\"}],\"contour\":[{\"colorbar\":{\"outlinewidth\":0,\"ticks\":\"\"},\"colorscale\":[[0.0,\"#0d0887\"],[0.1111111111111111,\"#46039f\"],[0.2222222222222222,\"#7201a8\"],[0.3333333333333333,\"#9c179e\"],[0.4444444444444444,\"#bd3786\"],[0.5555555555555556,\"#d8576b\"],[0.6666666666666666,\"#ed7953\"],[0.7777777777777778,\"#fb9f3a\"],[0.8888888888888888,\"#fdca26\"],[1.0,\"#f0f921\"]],\"type\":\"contour\"}],\"heatmapgl\":[{\"colorbar\":{\"outlinewidth\":0,\"ticks\":\"\"},\"colorscale\":[[0.0,\"#0d0887\"],[0.1111111111111111,\"#46039f\"],[0.2222222222222222,\"#7201a8\"],[0.3333333333333333,\"#9c179e\"],[0.4444444444444444,\"#bd3786\"],[0.5555555555555556,\"#d8576b\"],[0.6666666666666666,\"#ed7953\"],[0.7777777777777778,\"#fb9f3a\"],[0.8888888888888888,\"#fdca26\"],[1.0,\"#f0f921\"]],\"type\":\"heatmapgl\"}],\"heatmap\":[{\"colorbar\":{\"outlinewidth\":0,\"ticks\":\"\"},\"colorscale\":[[0.0,\"#0d0887\"],[0.1111111111111111,\"#46039f\"],[0.2222222222222222,\"#7201a8\"],[0.3333333333333333,\"#9c179e\"],[0.4444444444444444,\"#bd3786\"],[0.5555555555555556,\"#d8576b\"],[0.6666666666666666,\"#ed7953\"],[0.7777777777777778,\"#fb9f3a\"],[0.8888888888888888,\"#fdca26\"],[1.0,\"#f0f921\"]],\"type\":\"heatmap\"}],\"histogram2dcontour\":[{\"colorbar\":{\"outlinewidth\":0,\"ticks\":\"\"},\"colorscale\":[[0.0,\"#0d0887\"],[0.1111111111111111,\"#46039f\"],[0.2222222222222222,\"#7201a8\"],[0.3333333333333333,\"#9c179e\"],[0.4444444444444444,\"#bd3786\"],[0.5555555555555556,\"#d8576b\"],[0.6666666666666666,\"#ed7953\"],[0.7777777777777778,\"#fb9f3a\"],[0.8888888888888888,\"#fdca26\"],[1.0,\"#f0f921\"]],\"type\":\"histogram2dcontour\"}],\"histogram2d\":[{\"colorbar\":{\"outlinewidth\":0,\"ticks\":\"\"},\"colorscale\":[[0.0,\"#0d0887\"],[0.1111111111111111,\"#46039f\"],[0.2222222222222222,\"#7201a8\"],[0.3333333333333333,\"#9c179e\"],[0.4444444444444444,\"#bd3786\"],[0.5555555555555556,\"#d8576b\"],[0.6666666666666666,\"#ed7953\"],[0.7777777777777778,\"#fb9f3a\"],[0.8888888888888888,\"#fdca26\"],[1.0,\"#f0f921\"]],\"type\":\"histogram2d\"}],\"histogram\":[{\"marker\":{\"pattern\":{\"fillmode\":\"overlay\",\"size\":10,\"solidity\":0.2}},\"type\":\"histogram\"}],\"mesh3d\":[{\"colorbar\":{\"outlinewidth\":0,\"ticks\":\"\"},\"type\":\"mesh3d\"}],\"parcoords\":[{\"line\":{\"colorbar\":{\"outlinewidth\":0,\"ticks\":\"\"}},\"type\":\"parcoords\"}],\"pie\":[{\"automargin\":true,\"type\":\"pie\"}],\"scatter3d\":[{\"line\":{\"colorbar\":{\"outlinewidth\":0,\"ticks\":\"\"}},\"marker\":{\"colorbar\":{\"outlinewidth\":0,\"ticks\":\"\"}},\"type\":\"scatter3d\"}],\"scattercarpet\":[{\"marker\":{\"colorbar\":{\"outlinewidth\":0,\"ticks\":\"\"}},\"type\":\"scattercarpet\"}],\"scattergeo\":[{\"marker\":{\"colorbar\":{\"outlinewidth\":0,\"ticks\":\"\"}},\"type\":\"scattergeo\"}],\"scattergl\":[{\"marker\":{\"colorbar\":{\"outlinewidth\":0,\"ticks\":\"\"}},\"type\":\"scattergl\"}],\"scattermapbox\":[{\"marker\":{\"colorbar\":{\"outlinewidth\":0,\"ticks\":\"\"}},\"type\":\"scattermapbox\"}],\"scatterpolargl\":[{\"marker\":{\"colorbar\":{\"outlinewidth\":0,\"ticks\":\"\"}},\"type\":\"scatterpolargl\"}],\"scatterpolar\":[{\"marker\":{\"colorbar\":{\"outlinewidth\":0,\"ticks\":\"\"}},\"type\":\"scatterpolar\"}],\"scatter\":[{\"fillpattern\":{\"fillmode\":\"overlay\",\"size\":10,\"solidity\":0.2},\"type\":\"scatter\"}],\"scatterternary\":[{\"marker\":{\"colorbar\":{\"outlinewidth\":0,\"ticks\":\"\"}},\"type\":\"scatterternary\"}],\"surface\":[{\"colorbar\":{\"outlinewidth\":0,\"ticks\":\"\"},\"colorscale\":[[0.0,\"#0d0887\"],[0.1111111111111111,\"#46039f\"],[0.2222222222222222,\"#7201a8\"],[0.3333333333333333,\"#9c179e\"],[0.4444444444444444,\"#bd3786\"],[0.5555555555555556,\"#d8576b\"],[0.6666666666666666,\"#ed7953\"],[0.7777777777777778,\"#fb9f3a\"],[0.8888888888888888,\"#fdca26\"],[1.0,\"#f0f921\"]],\"type\":\"surface\"}],\"table\":[{\"cells\":{\"fill\":{\"color\":\"#EBF0F8\"},\"line\":{\"color\":\"white\"}},\"header\":{\"fill\":{\"color\":\"#C8D4E3\"},\"line\":{\"color\":\"white\"}},\"type\":\"table\"}]},\"layout\":{\"annotationdefaults\":{\"arrowcolor\":\"#2a3f5f\",\"arrowhead\":0,\"arrowwidth\":1},\"autotypenumbers\":\"strict\",\"coloraxis\":{\"colorbar\":{\"outlinewidth\":0,\"ticks\":\"\"}},\"colorscale\":{\"diverging\":[[0,\"#8e0152\"],[0.1,\"#c51b7d\"],[0.2,\"#de77ae\"],[0.3,\"#f1b6da\"],[0.4,\"#fde0ef\"],[0.5,\"#f7f7f7\"],[0.6,\"#e6f5d0\"],[0.7,\"#b8e186\"],[0.8,\"#7fbc41\"],[0.9,\"#4d9221\"],[1,\"#276419\"]],\"sequential\":[[0.0,\"#0d0887\"],[0.1111111111111111,\"#46039f\"],[0.2222222222222222,\"#7201a8\"],[0.3333333333333333,\"#9c179e\"],[0.4444444444444444,\"#bd3786\"],[0.5555555555555556,\"#d8576b\"],[0.6666666666666666,\"#ed7953\"],[0.7777777777777778,\"#fb9f3a\"],[0.8888888888888888,\"#fdca26\"],[1.0,\"#f0f921\"]],\"sequentialminus\":[[0.0,\"#0d0887\"],[0.1111111111111111,\"#46039f\"],[0.2222222222222222,\"#7201a8\"],[0.3333333333333333,\"#9c179e\"],[0.4444444444444444,\"#bd3786\"],[0.5555555555555556,\"#d8576b\"],[0.6666666666666666,\"#ed7953\"],[0.7777777777777778,\"#fb9f3a\"],[0.8888888888888888,\"#fdca26\"],[1.0,\"#f0f921\"]]},\"colorway\":[\"#636efa\",\"#EF553B\",\"#00cc96\",\"#ab63fa\",\"#FFA15A\",\"#19d3f3\",\"#FF6692\",\"#B6E880\",\"#FF97FF\",\"#FECB52\"],\"font\":{\"color\":\"#2a3f5f\"},\"geo\":{\"bgcolor\":\"white\",\"lakecolor\":\"white\",\"landcolor\":\"#E5ECF6\",\"showlakes\":true,\"showland\":true,\"subunitcolor\":\"white\"},\"hoverlabel\":{\"align\":\"left\"},\"hovermode\":\"closest\",\"mapbox\":{\"style\":\"light\"},\"paper_bgcolor\":\"white\",\"plot_bgcolor\":\"#E5ECF6\",\"polar\":{\"angularaxis\":{\"gridcolor\":\"white\",\"linecolor\":\"white\",\"ticks\":\"\"},\"bgcolor\":\"#E5ECF6\",\"radialaxis\":{\"gridcolor\":\"white\",\"linecolor\":\"white\",\"ticks\":\"\"}},\"scene\":{\"xaxis\":{\"backgroundcolor\":\"#E5ECF6\",\"gridcolor\":\"white\",\"gridwidth\":2,\"linecolor\":\"white\",\"showbackground\":true,\"ticks\":\"\",\"zerolinecolor\":\"white\"},\"yaxis\":{\"backgroundcolor\":\"#E5ECF6\",\"gridcolor\":\"white\",\"gridwidth\":2,\"linecolor\":\"white\",\"showbackground\":true,\"ticks\":\"\",\"zerolinecolor\":\"white\"},\"zaxis\":{\"backgroundcolor\":\"#E5ECF6\",\"gridcolor\":\"white\",\"gridwidth\":2,\"linecolor\":\"white\",\"showbackground\":true,\"ticks\":\"\",\"zerolinecolor\":\"white\"}},\"shapedefaults\":{\"line\":{\"color\":\"#2a3f5f\"}},\"ternary\":{\"aaxis\":{\"gridcolor\":\"white\",\"linecolor\":\"white\",\"ticks\":\"\"},\"baxis\":{\"gridcolor\":\"white\",\"linecolor\":\"white\",\"ticks\":\"\"},\"bgcolor\":\"#E5ECF6\",\"caxis\":{\"gridcolor\":\"white\",\"linecolor\":\"white\",\"ticks\":\"\"}},\"title\":{\"x\":0.05},\"xaxis\":{\"automargin\":true,\"gridcolor\":\"white\",\"linecolor\":\"white\",\"ticks\":\"\",\"title\":{\"standoff\":15},\"zerolinecolor\":\"white\",\"zerolinewidth\":2},\"yaxis\":{\"automargin\":true,\"gridcolor\":\"white\",\"linecolor\":\"white\",\"ticks\":\"\",\"title\":{\"standoff\":15},\"zerolinecolor\":\"white\",\"zerolinewidth\":2}}},\"title\":{\"text\":\"Citation vs world rank of top 100 universities with 2014, 2015 and 2016 years\"},\"xaxis\":{\"ticklen\":5,\"title\":{\"text\":\"World Rank\"},\"zeroline\":false},\"yaxis\":{\"ticklen\":5,\"title\":{\"text\":\"Citation\"},\"zeroline\":false}},                        {\"responsive\": true}                    ).then(function(){\n",
       "                            \n",
       "var gd = document.getElementById('61fd9c04-7511-4569-b68b-54111105f3ea');\n",
       "var x = new MutationObserver(function (mutations, observer) {{\n",
       "        var display = window.getComputedStyle(gd).display;\n",
       "        if (!display || display === 'none') {{\n",
       "            console.log([gd, 'removed!']);\n",
       "            Plotly.purge(gd);\n",
       "            observer.disconnect();\n",
       "        }}\n",
       "}});\n",
       "\n",
       "// Listen for the removal of the full notebook cells\n",
       "var notebookContainer = gd.closest('#notebook-container');\n",
       "if (notebookContainer) {{\n",
       "    x.observe(notebookContainer, {childList: true});\n",
       "}}\n",
       "\n",
       "// Listen for the clearing of the current output cell\n",
       "var outputEl = gd.closest('.output');\n",
       "if (outputEl) {{\n",
       "    x.observe(outputEl, {childList: true});\n",
       "}}\n",
       "\n",
       "                        })                };                });            </script>        </div>"
      ]
     },
     "metadata": {},
     "output_type": "display_data"
    }
   ],
   "source": [
    "\n",
    "trace1 =go.Scatter( \n",
    "                    x = df2014.world_rank, \n",
    "                    y = df2014.citations,  \n",
    "                    mode = \"markers\",      \n",
    "                    name = \"2014\",         \n",
    "                    marker = dict(color = 'rgba(255, 128, 255, 0.8)'), \n",
    "                    text= df2014.university_name)  \n",
    "\n",
    "# creating trace2\n",
    "trace2 =go.Scatter(\n",
    "                    x = df2015.world_rank, \n",
    "                    y = df2015.citations,  \n",
    "                    mode = \"markers\",     \n",
    "                    name = \"2015\",       \n",
    "                    marker = dict(color = 'rgba(255, 128, 2, 0.8)'),  \n",
    "                    text= df2015.university_name)  \n",
    "\n",
    "# creating trace3\n",
    "trace3 =go.Scatter(\n",
    "                    x = df2016.world_rank, \n",
    "                    y = df2016.citations,  \n",
    "                    mode = \"markers\",      \n",
    "                    name = \"2016\",        \n",
    "                    marker = dict(color = 'rgba(0, 255, 200, 0.8)'),  \n",
    "                    text= df2016.university_name)  \n",
    "\n",
    "data = [trace1, trace2, trace3]  \n",
    "\n",
    "layout = dict(title = 'Citation vs world rank of top 100 universities with 2014, 2015 and 2016 years',\n",
    "              xaxis= dict(title= 'World Rank',ticklen= 5,zeroline= False),\n",
    "              yaxis= dict(title= 'Citation',ticklen= 5,zeroline= False) \n",
    "             )\n",
    "fig = dict(data = data, layout = layout)  \n",
    "\n",
    "iplot(fig) "
   ]
  },
  {
   "cell_type": "markdown",
   "metadata": {
    "id": "bJf6f3Io7rgL"
   },
   "source": [
    "![newplot (2).png](data:image/png;base64,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)"
   ]
  },
  {
   "cell_type": "code",
   "execution_count": 17,
   "metadata": {
    "colab": {
     "base_uri": "https://localhost:8080/",
     "height": 542
    },
    "id": "hdCV6Av97oop",
    "outputId": "dd745728-24be-4b7b-942a-f6b49fcad744"
   },
   "outputs": [
    {
     "data": {
      "application/vnd.plotly.v1+json": {
       "config": {
        "linkText": "Export to plot.ly",
        "plotlyServerURL": "https://plot.ly",
        "showLink": false
       },
       "data": [
        {
         "marker": {
          "color": "rgba(255, 128, 255, 0.8)"
         },
         "mode": "markers",
         "name": "2014",
         "text": [
          "California Institute of Technology",
          "Harvard University",
          "University of Oxford",
          "Stanford University",
          "Massachusetts Institute of Technology",
          "Princeton University",
          "University of Cambridge",
          "University of California, Berkeley",
          "University of Chicago",
          "Imperial College London",
          "Yale University",
          "University of California, Los Angeles",
          "Columbia University",
          "ETH Zurich – Swiss Federal Institute of Technology Zurich",
          "Johns Hopkins University",
          "University of Pennsylvania",
          "Duke University",
          "University of Michigan",
          "Cornell University",
          "University of Toronto",
          "University College London",
          "Northwestern University",
          "University of Tokyo",
          "Carnegie Mellon University",
          "University of Washington",
          "National University of Singapore",
          "University of Texas at Austin",
          "Georgia Institute of Technology",
          "University of Illinois at Urbana-Champaign",
          "University of Wisconsin-Madison",
          "University of British Columbia",
          "London School of Economics and Political Science",
          "University of California, Santa Barbara",
          "University of Melbourne",
          "McGill University",
          "Karolinska Institute",
          "École Polytechnique Fédérale de Lausanne",
          "King’s College London",
          "University of Edinburgh",
          "New York University",
          "University of California, San Diego",
          "Washington University in St Louis",
          "University of Hong Kong",
          "Seoul National University",
          "Peking University",
          "University of Minnesota",
          "University of North Carolina at Chapel Hill",
          "Australian National University",
          "Pennsylvania State University",
          "Boston University",
          "Tsinghua University",
          "Brown University",
          "Kyoto University",
          "University of California, Davis",
          "LMU Munich",
          "Korea Advanced Institute of Science and Technology (KAIST)",
          "Hong Kong University of Science and Technology",
          "University of Manchester",
          "Ohio State University",
          "Pohang University of Science and Technology",
          "KU Leuven",
          "Purdue University",
          "The University of Queensland",
          "University of Göttingen",
          "Rice University",
          "École Normale Supérieure",
          "Leiden University",
          "Heidelberg University",
          "Delft University of Technology",
          "University of Southern California",
          "École Polytechnique",
          "University of Sydney",
          "Erasmus University Rotterdam",
          "University of Basel",
          "Utrecht University",
          "Nanyang Technological University",
          "Wageningen University and Research Center",
          "University of Pittsburgh",
          "University of Bristol",
          "Durham University",
          "Emory University",
          "Tufts University",
          "Michigan State University",
          "University of Amsterdam",
          "Ghent University",
          "Free University of Berlin",
          "Technical University of Munich",
          "Case Western Reserve University",
          "Vanderbilt University",
          "University of Notre Dame",
          "Monash University",
          "McMaster University",
          "University of California, Irvine",
          "Humboldt University of Berlin",
          "University of Rochester",
          "Pierre and Marie Curie University",
          "University of Colorado Boulder",
          "Maastricht University",
          "University of Groningen",
          "University of Helsinki"
         ],
         "type": "scatter",
         "x": [
          "1",
          "2",
          "2",
          "4",
          "5",
          "6",
          "7",
          "8",
          "9",
          "10",
          "11",
          "12",
          "13",
          "14",
          "15",
          "16",
          "17",
          "18",
          "19",
          "20",
          "21",
          "22",
          "23",
          "24",
          "25",
          "26",
          "27",
          "28",
          "29",
          "30",
          "31",
          "32",
          "33",
          "34",
          "35",
          "36",
          "37",
          "38",
          "39",
          "40",
          "40",
          "42",
          "43",
          "44",
          "45",
          "46",
          "47",
          "48",
          "49",
          "50",
          "50",
          "52",
          "52",
          "52",
          "55",
          "56",
          "57",
          "58",
          "59",
          "60",
          "61",
          "62",
          "63",
          "63",
          "65",
          "65",
          "67",
          "68",
          "69",
          "70",
          "70",
          "72",
          "73",
          "74",
          "74",
          "76",
          "77",
          "78",
          "79",
          "80",
          "80",
          "80",
          "83",
          "83",
          "85",
          "86",
          "87",
          "88",
          "88",
          "90",
          "91",
          "92",
          "93",
          "94",
          "95",
          "96",
          "97",
          "98",
          "98",
          "100"
         ],
         "y": [
          "94.9",
          "93.9",
          "93.9",
          "93.8",
          "93.0",
          "92.7",
          "92.3",
          "89.8",
          "87.8",
          "87.5",
          "87.4",
          "86.3",
          "85.2",
          "84.5",
          "83.7",
          "81.0",
          "79.3",
          "79.2",
          "79.1",
          "78.3",
          "77.6",
          "77.1",
          "76.4",
          "76.0",
          "73.4",
          "72.4",
          "72.2",
          "71.6",
          "71.4",
          "71.1",
          "70.8",
          "69.8",
          "68.4",
          "68.2",
          "68.1",
          "67.8",
          "67.7",
          "67.6",
          "67.5",
          "67.4",
          "67.4",
          "67.2",
          "65.3",
          "65.2",
          "65.0",
          "64.9",
          "64.5",
          "64.4",
          "64.2",
          "63.5",
          "63.5",
          "63.2",
          "63.2",
          "63.2",
          "63.1",
          "62.9",
          "62.5",
          "62.3",
          "62.0",
          "61.7",
          "61.3",
          "60.7",
          "59.9",
          "59.9",
          "59.8",
          "59.8",
          "59.4",
          "59.2",
          "59.1",
          "59.0",
          "59.0",
          "58.8",
          "58.1",
          "57.7",
          "57.7",
          "57.2",
          "56.8",
          "56.7",
          "56.3",
          "56.1",
          "56.1",
          "56.1",
          "55.9",
          "55.9",
          "55.5",
          "55.3",
          "55.2",
          "55.0",
          "55.0",
          "54.7",
          "54.6",
          "54.5",
          "54.1",
          "53.8",
          "53.6",
          "53.5",
          "53.4",
          "52.9",
          "52.9",
          "52.6"
         ]
        },
        {
         "marker": {
          "color": "rgba(255, 128, 2, 0.8)"
         },
         "mode": "markers",
         "name": "2015",
         "text": [
          "California Institute of Technology",
          "Harvard University",
          "University of Oxford",
          "Stanford University",
          "University of Cambridge",
          "Massachusetts Institute of Technology",
          "Princeton University",
          "University of California, Berkeley",
          "Imperial College London",
          "Yale University",
          "University of Chicago",
          "University of California, Los Angeles",
          "ETH Zurich – Swiss Federal Institute of Technology Zurich",
          "Columbia University",
          "Johns Hopkins University",
          "University of Pennsylvania",
          "University of Michigan",
          "Duke University",
          "Cornell University",
          "University of Toronto",
          "Northwestern University",
          "University College London",
          "University of Tokyo",
          "Carnegie Mellon University",
          "National University of Singapore",
          "University of Washington",
          "Georgia Institute of Technology",
          "University of Texas at Austin",
          "LMU Munich",
          "University of Illinois at Urbana-Champaign",
          "University of Wisconsin-Madison",
          "University of British Columbia",
          "University of Melbourne",
          "London School of Economics and Political Science",
          "École Polytechnique Fédérale de Lausanne",
          "University of Edinburgh",
          "University of California, Santa Barbara",
          "New York University",
          "McGill University",
          "King’s College London",
          "University of California, San Diego",
          "Washington University in St Louis",
          "University of Hong Kong",
          "Karolinska Institute",
          "Australian National University",
          "University of Minnesota",
          "University of North Carolina at Chapel Hill",
          "Peking University",
          "Tsinghua University",
          "Seoul National University",
          "Hong Kong University of Science and Technology",
          "Korea Advanced Institute of Science and Technology (KAIST)",
          "University of Manchester",
          "Brown University",
          "KU Leuven",
          "University of California, Davis",
          "Boston University",
          "Pennsylvania State University",
          "Kyoto University",
          "University of Sydney",
          "Nanyang Technological University",
          "École Polytechnique",
          "Scuola Normale Superiore di Pisa",
          "Leiden University",
          "The University of Queensland",
          "Pohang University of Science and Technology",
          "University of Göttingen",
          "Ohio State University",
          "Rice University",
          "Heidelberg University",
          "Delft University of Technology",
          "Erasmus University Rotterdam",
          "Wageningen University and Research Center",
          "University of Bristol",
          "University of Basel",
          "University of Southern California",
          "University of Amsterdam",
          "École Normale Supérieure",
          "Utrecht University",
          "Humboldt University of Berlin",
          "Free University of Berlin",
          "Michigan State University",
          "Durham University",
          "Monash University",
          "Middle East Technical University",
          "University of Arizona",
          "University of Notre Dame",
          "Tufts University",
          "University of California, Irvine",
          "Ghent University",
          "University of Massachusetts",
          "University of Pittsburgh",
          "Emory University",
          "McMaster University",
          "University of Glasgow",
          "Vanderbilt University",
          "University of Colorado Boulder",
          "Stockholm University",
          "Technical University of Munich",
          "Uppsala University"
         ],
         "type": "scatter",
         "x": [
          "1",
          "2",
          "3",
          "4",
          "5",
          "6",
          "7",
          "8",
          "9",
          "9",
          "11",
          "12",
          "13",
          "14",
          "15",
          "16",
          "17",
          "18",
          "19",
          "20",
          "21",
          "22",
          "23",
          "24",
          "25",
          "26",
          "27",
          "28",
          "29",
          "29",
          "29",
          "32",
          "33",
          "34",
          "34",
          "36",
          "37",
          "38",
          "39",
          "40",
          "41",
          "42",
          "43",
          "44",
          "45",
          "46",
          "46",
          "48",
          "49",
          "50",
          "51",
          "52",
          "52",
          "54",
          "55",
          "55",
          "57",
          "58",
          "59",
          "60",
          "61",
          "61",
          "63",
          "64",
          "65",
          "66",
          "67",
          "68",
          "69",
          "70",
          "71",
          "72",
          "73",
          "74",
          "75",
          "75",
          "77",
          "78",
          "79",
          "80",
          "81",
          "82",
          "83",
          "83",
          "85",
          "86",
          "86",
          "88",
          "88",
          "90",
          "91",
          "91",
          "93",
          "94",
          "94",
          "96",
          "97",
          "98",
          "98",
          "98"
         ],
         "y": [
          "94.3",
          "93.3",
          "93.2",
          "92.9",
          "92.0",
          "91.9",
          "90.9",
          "89.5",
          "87.5",
          "87.5",
          "87.1",
          "85.5",
          "84.6",
          "84.4",
          "83.0",
          "81.0",
          "80.9",
          "79.9",
          "79.4",
          "79.3",
          "79.2",
          "78.7",
          "76.1",
          "74.3",
          "73.3",
          "73.2",
          "72.8",
          "72.3",
          "71.9",
          "71.9",
          "71.9",
          "71.8",
          "71.2",
          "70.9",
          "70.9",
          "70.4",
          "70.0",
          "69.9",
          "69.6",
          "69.4",
          "68.6",
          "67.8",
          "67.5",
          "66.8",
          "66.5",
          "65.9",
          "65.9",
          "65.2",
          "65.1",
          "64.8",
          "64.7",
          "64.5",
          "64.5",
          "64.1",
          "63.7",
          "63.7",
          "63.6",
          "62.9",
          "62.8",
          "62.7",
          "62.2",
          "62.2",
          "61.9",
          "61.3",
          "61.2",
          "61.1",
          "61.0",
          "60.7",
          "59.8",
          "59.6",
          "59.2",
          "59.1",
          "59.0",
          "58.9",
          "58.4",
          "58.4",
          "58.2",
          "58.1",
          "58.0",
          "57.9",
          "57.6",
          "57.3",
          "56.9",
          "56.9",
          "56.6",
          "56.5",
          "56.5",
          "56.4",
          "56.4",
          "56.2",
          "56.1",
          "56.1",
          "55.5",
          "55.3",
          "55.3",
          "55.2",
          "55.1",
          "54.6",
          "54.6",
          "54.6"
         ]
        },
        {
         "marker": {
          "color": "rgba(0, 255, 200, 0.8)"
         },
         "mode": "markers",
         "name": "2016",
         "text": [
          "California Institute of Technology",
          "University of Oxford",
          "Stanford University",
          "University of Cambridge",
          "Massachusetts Institute of Technology",
          "Harvard University",
          "Princeton University",
          "Imperial College London",
          "ETH Zurich – Swiss Federal Institute of Technology Zurich",
          "University of Chicago",
          "Johns Hopkins University",
          "Yale University",
          "University of California, Berkeley",
          "University College London",
          "Columbia University",
          "University of California, Los Angeles",
          "University of Pennsylvania",
          "Cornell University",
          "University of Toronto",
          "Duke University",
          "University of Michigan",
          "Carnegie Mellon University",
          "London School of Economics and Political Science",
          "University of Edinburgh",
          "Northwestern University",
          "National University of Singapore",
          "King’s College London",
          "Karolinska Institute",
          "LMU Munich",
          "New York University",
          "École Polytechnique Fédérale de Lausanne",
          "University of Washington",
          "University of Melbourne",
          "University of British Columbia",
          "KU Leuven",
          "University of Illinois at Urbana-Champaign",
          "Heidelberg University",
          "McGill University",
          "University of California, San Diego",
          "University of California, Santa Barbara",
          "Georgia Institute of Technology",
          "Peking University",
          "University of Tokyo",
          "University of California, Davis",
          "University of Hong Kong",
          "University of Texas at Austin",
          "Tsinghua University",
          "Wageningen University and Research Center",
          "Humboldt University of Berlin",
          "University of Wisconsin-Madison",
          "Brown University",
          "Australian National University",
          "Technical University of Munich",
          "École Normale Supérieure",
          "Nanyang Technological University",
          "University of Manchester",
          "University of Sydney",
          "University of Amsterdam",
          "Hong Kong University of Science and Technology",
          "The University of Queensland",
          "Washington University in St Louis",
          "Utrecht University",
          "University of North Carolina at Chapel Hill",
          "Boston University",
          "Delft University of Technology",
          "University of Minnesota",
          "Leiden University",
          "University of Southern California",
          "University of Bristol",
          "Durham University",
          "Erasmus University Rotterdam",
          "Free University of Berlin",
          "Monash University",
          "University of Groningen",
          "Pennsylvania State University",
          "University of Glasgow",
          "University of Helsinki",
          "University of Tübingen",
          "University of Pittsburgh",
          "University of Warwick",
          "Uppsala University",
          "University of Copenhagen",
          "University of New South Wales",
          "University of Freiburg",
          "Seoul National University",
          "University of St Andrews",
          "Vanderbilt University",
          "Kyoto University",
          "Maastricht University",
          "Emory University",
          "Lund University",
          "Ohio State University",
          "University of Exeter",
          "University of Bonn",
          "Georgetown University",
          "McMaster University",
          "University of Sheffield",
          "Queen Mary University of London",
          "University of Göttingen",
          "Michigan State University"
         ],
         "type": "scatter",
         "x": [
          "1",
          "2",
          "3",
          "4",
          "5",
          "6",
          "7",
          "8",
          "9",
          "10",
          "11",
          "12",
          "13",
          "14",
          "15",
          "16",
          "17",
          "18",
          "19",
          "20",
          "21",
          "22",
          "23",
          "24",
          "25",
          "26",
          "27",
          "28",
          "29",
          "30",
          "31",
          "32",
          "33",
          "34",
          "35",
          "36",
          "37",
          "38",
          "=39",
          "=39",
          "41",
          "42",
          "43",
          "=44",
          "=44",
          "46",
          "=47",
          "=47",
          "49",
          "50",
          "51",
          "52",
          "53",
          "54",
          "55",
          "=56",
          "=56",
          "58",
          "59",
          "=60",
          "=60",
          "62",
          "63",
          "64",
          "=65",
          "=65",
          "67",
          "68",
          "69",
          "70",
          "71",
          "72",
          "73",
          "74",
          "75",
          "=76",
          "=76",
          "78",
          "79",
          "80",
          "81",
          "=82",
          "=82",
          "84",
          "85",
          "86",
          "87",
          "=88",
          "=88",
          "=90",
          "=90",
          "=90",
          "93",
          "=94",
          "=94",
          "=94",
          "97",
          "98",
          "=99",
          "=99"
         ],
         "y": [
          "95.2",
          "94.2",
          "93.9",
          "92.8",
          "92.0",
          "91.6",
          "90.1",
          "89.1",
          "88.3",
          "87.9",
          "87.6",
          "87.4",
          "87.2",
          "87.1",
          "86.1",
          "85.8",
          "85.2",
          "84.0",
          "83.9",
          "82.7",
          "82.4",
          "82.3",
          "81.3",
          "80.3",
          "79.5",
          "79.2",
          "78.2",
          "77.5",
          "77.3",
          "77.2",
          "76.1",
          "75.6",
          "75.4",
          "75.3",
          "74.8",
          "74.5",
          "74.4",
          "72.6",
          "72.2",
          "72.2",
          "72.1",
          "72.0",
          "71.1",
          "71.0",
          "71.0",
          "70.3",
          "70.0",
          "70.0",
          "69.9",
          "69.7",
          "69.6",
          "69.5",
          "69.4",
          "69.0",
          "68.2",
          "68.1",
          "68.1",
          "67.8",
          "67.2",
          "67.0",
          "67.0",
          "66.6",
          "66.4",
          "66.1",
          "65.9",
          "65.9",
          "65.7",
          "65.5",
          "64.3",
          "63.6",
          "63.5",
          "63.2",
          "62.5",
          "62.4",
          "62.3",
          "61.9",
          "61.9",
          "61.7",
          "61.5",
          "61.3",
          "61.2",
          "61.0",
          "61.0",
          "60.7",
          "60.5",
          "60.4",
          "60.1",
          "59.9",
          "59.9",
          "59.7",
          "59.7",
          "59.7",
          "59.5",
          "58.8",
          "58.8",
          "58.8",
          "58.6",
          "58.5",
          "58.0",
          "58.0"
         ]
        }
       ],
       "layout": {
        "autosize": true,
        "template": {
         "data": {
          "bar": [
           {
            "error_x": {
             "color": "#2a3f5f"
            },
            "error_y": {
             "color": "#2a3f5f"
            },
            "marker": {
             "line": {
              "color": "#E5ECF6",
              "width": 0.5
             },
             "pattern": {
              "fillmode": "overlay",
              "size": 10,
              "solidity": 0.2
             }
            },
            "type": "bar"
           }
          ],
          "barpolar": [
           {
            "marker": {
             "line": {
              "color": "#E5ECF6",
              "width": 0.5
             },
             "pattern": {
              "fillmode": "overlay",
              "size": 10,
              "solidity": 0.2
             }
            },
            "type": "barpolar"
           }
          ],
          "carpet": [
           {
            "aaxis": {
             "endlinecolor": "#2a3f5f",
             "gridcolor": "white",
             "linecolor": "white",
             "minorgridcolor": "white",
             "startlinecolor": "#2a3f5f"
            },
            "baxis": {
             "endlinecolor": "#2a3f5f",
             "gridcolor": "white",
             "linecolor": "white",
             "minorgridcolor": "white",
             "startlinecolor": "#2a3f5f"
            },
            "type": "carpet"
           }
          ],
          "choropleth": [
           {
            "colorbar": {
             "outlinewidth": 0,
             "ticks": ""
            },
            "type": "choropleth"
           }
          ],
          "contour": [
           {
            "colorbar": {
             "outlinewidth": 0,
             "ticks": ""
            },
            "colorscale": [
             [
              0,
              "#0d0887"
             ],
             [
              0.1111111111111111,
              "#46039f"
             ],
             [
              0.2222222222222222,
              "#7201a8"
             ],
             [
              0.3333333333333333,
              "#9c179e"
             ],
             [
              0.4444444444444444,
              "#bd3786"
             ],
             [
              0.5555555555555556,
              "#d8576b"
             ],
             [
              0.6666666666666666,
              "#ed7953"
             ],
             [
              0.7777777777777778,
              "#fb9f3a"
             ],
             [
              0.8888888888888888,
              "#fdca26"
             ],
             [
              1,
              "#f0f921"
             ]
            ],
            "type": "contour"
           }
          ],
          "contourcarpet": [
           {
            "colorbar": {
             "outlinewidth": 0,
             "ticks": ""
            },
            "type": "contourcarpet"
           }
          ],
          "heatmap": [
           {
            "colorbar": {
             "outlinewidth": 0,
             "ticks": ""
            },
            "colorscale": [
             [
              0,
              "#0d0887"
             ],
             [
              0.1111111111111111,
              "#46039f"
             ],
             [
              0.2222222222222222,
              "#7201a8"
             ],
             [
              0.3333333333333333,
              "#9c179e"
             ],
             [
              0.4444444444444444,
              "#bd3786"
             ],
             [
              0.5555555555555556,
              "#d8576b"
             ],
             [
              0.6666666666666666,
              "#ed7953"
             ],
             [
              0.7777777777777778,
              "#fb9f3a"
             ],
             [
              0.8888888888888888,
              "#fdca26"
             ],
             [
              1,
              "#f0f921"
             ]
            ],
            "type": "heatmap"
           }
          ],
          "heatmapgl": [
           {
            "colorbar": {
             "outlinewidth": 0,
             "ticks": ""
            },
            "colorscale": [
             [
              0,
              "#0d0887"
             ],
             [
              0.1111111111111111,
              "#46039f"
             ],
             [
              0.2222222222222222,
              "#7201a8"
             ],
             [
              0.3333333333333333,
              "#9c179e"
             ],
             [
              0.4444444444444444,
              "#bd3786"
             ],
             [
              0.5555555555555556,
              "#d8576b"
             ],
             [
              0.6666666666666666,
              "#ed7953"
             ],
             [
              0.7777777777777778,
              "#fb9f3a"
             ],
             [
              0.8888888888888888,
              "#fdca26"
             ],
             [
              1,
              "#f0f921"
             ]
            ],
            "type": "heatmapgl"
           }
          ],
          "histogram": [
           {
            "marker": {
             "pattern": {
              "fillmode": "overlay",
              "size": 10,
              "solidity": 0.2
             }
            },
            "type": "histogram"
           }
          ],
          "histogram2d": [
           {
            "colorbar": {
             "outlinewidth": 0,
             "ticks": ""
            },
            "colorscale": [
             [
              0,
              "#0d0887"
             ],
             [
              0.1111111111111111,
              "#46039f"
             ],
             [
              0.2222222222222222,
              "#7201a8"
             ],
             [
              0.3333333333333333,
              "#9c179e"
             ],
             [
              0.4444444444444444,
              "#bd3786"
             ],
             [
              0.5555555555555556,
              "#d8576b"
             ],
             [
              0.6666666666666666,
              "#ed7953"
             ],
             [
              0.7777777777777778,
              "#fb9f3a"
             ],
             [
              0.8888888888888888,
              "#fdca26"
             ],
             [
              1,
              "#f0f921"
             ]
            ],
            "type": "histogram2d"
           }
          ],
          "histogram2dcontour": [
           {
            "colorbar": {
             "outlinewidth": 0,
             "ticks": ""
            },
            "colorscale": [
             [
              0,
              "#0d0887"
             ],
             [
              0.1111111111111111,
              "#46039f"
             ],
             [
              0.2222222222222222,
              "#7201a8"
             ],
             [
              0.3333333333333333,
              "#9c179e"
             ],
             [
              0.4444444444444444,
              "#bd3786"
             ],
             [
              0.5555555555555556,
              "#d8576b"
             ],
             [
              0.6666666666666666,
              "#ed7953"
             ],
             [
              0.7777777777777778,
              "#fb9f3a"
             ],
             [
              0.8888888888888888,
              "#fdca26"
             ],
             [
              1,
              "#f0f921"
             ]
            ],
            "type": "histogram2dcontour"
           }
          ],
          "mesh3d": [
           {
            "colorbar": {
             "outlinewidth": 0,
             "ticks": ""
            },
            "type": "mesh3d"
           }
          ],
          "parcoords": [
           {
            "line": {
             "colorbar": {
              "outlinewidth": 0,
              "ticks": ""
             }
            },
            "type": "parcoords"
           }
          ],
          "pie": [
           {
            "automargin": true,
            "type": "pie"
           }
          ],
          "scatter": [
           {
            "fillpattern": {
             "fillmode": "overlay",
             "size": 10,
             "solidity": 0.2
            },
            "type": "scatter"
           }
          ],
          "scatter3d": [
           {
            "line": {
             "colorbar": {
              "outlinewidth": 0,
              "ticks": ""
             }
            },
            "marker": {
             "colorbar": {
              "outlinewidth": 0,
              "ticks": ""
             }
            },
            "type": "scatter3d"
           }
          ],
          "scattercarpet": [
           {
            "marker": {
             "colorbar": {
              "outlinewidth": 0,
              "ticks": ""
             }
            },
            "type": "scattercarpet"
           }
          ],
          "scattergeo": [
           {
            "marker": {
             "colorbar": {
              "outlinewidth": 0,
              "ticks": ""
             }
            },
            "type": "scattergeo"
           }
          ],
          "scattergl": [
           {
            "marker": {
             "colorbar": {
              "outlinewidth": 0,
              "ticks": ""
             }
            },
            "type": "scattergl"
           }
          ],
          "scattermapbox": [
           {
            "marker": {
             "colorbar": {
              "outlinewidth": 0,
              "ticks": ""
             }
            },
            "type": "scattermapbox"
           }
          ],
          "scatterpolar": [
           {
            "marker": {
             "colorbar": {
              "outlinewidth": 0,
              "ticks": ""
             }
            },
            "type": "scatterpolar"
           }
          ],
          "scatterpolargl": [
           {
            "marker": {
             "colorbar": {
              "outlinewidth": 0,
              "ticks": ""
             }
            },
            "type": "scatterpolargl"
           }
          ],
          "scatterternary": [
           {
            "marker": {
             "colorbar": {
              "outlinewidth": 0,
              "ticks": ""
             }
            },
            "type": "scatterternary"
           }
          ],
          "surface": [
           {
            "colorbar": {
             "outlinewidth": 0,
             "ticks": ""
            },
            "colorscale": [
             [
              0,
              "#0d0887"
             ],
             [
              0.1111111111111111,
              "#46039f"
             ],
             [
              0.2222222222222222,
              "#7201a8"
             ],
             [
              0.3333333333333333,
              "#9c179e"
             ],
             [
              0.4444444444444444,
              "#bd3786"
             ],
             [
              0.5555555555555556,
              "#d8576b"
             ],
             [
              0.6666666666666666,
              "#ed7953"
             ],
             [
              0.7777777777777778,
              "#fb9f3a"
             ],
             [
              0.8888888888888888,
              "#fdca26"
             ],
             [
              1,
              "#f0f921"
             ]
            ],
            "type": "surface"
           }
          ],
          "table": [
           {
            "cells": {
             "fill": {
              "color": "#EBF0F8"
             },
             "line": {
              "color": "white"
             }
            },
            "header": {
             "fill": {
              "color": "#C8D4E3"
             },
             "line": {
              "color": "white"
             }
            },
            "type": "table"
           }
          ]
         },
         "layout": {
          "annotationdefaults": {
           "arrowcolor": "#2a3f5f",
           "arrowhead": 0,
           "arrowwidth": 1
          },
          "autotypenumbers": "strict",
          "coloraxis": {
           "colorbar": {
            "outlinewidth": 0,
            "ticks": ""
           }
          },
          "colorscale": {
           "diverging": [
            [
             0,
             "#8e0152"
            ],
            [
             0.1,
             "#c51b7d"
            ],
            [
             0.2,
             "#de77ae"
            ],
            [
             0.3,
             "#f1b6da"
            ],
            [
             0.4,
             "#fde0ef"
            ],
            [
             0.5,
             "#f7f7f7"
            ],
            [
             0.6,
             "#e6f5d0"
            ],
            [
             0.7,
             "#b8e186"
            ],
            [
             0.8,
             "#7fbc41"
            ],
            [
             0.9,
             "#4d9221"
            ],
            [
             1,
             "#276419"
            ]
           ],
           "sequential": [
            [
             0,
             "#0d0887"
            ],
            [
             0.1111111111111111,
             "#46039f"
            ],
            [
             0.2222222222222222,
             "#7201a8"
            ],
            [
             0.3333333333333333,
             "#9c179e"
            ],
            [
             0.4444444444444444,
             "#bd3786"
            ],
            [
             0.5555555555555556,
             "#d8576b"
            ],
            [
             0.6666666666666666,
             "#ed7953"
            ],
            [
             0.7777777777777778,
             "#fb9f3a"
            ],
            [
             0.8888888888888888,
             "#fdca26"
            ],
            [
             1,
             "#f0f921"
            ]
           ],
           "sequentialminus": [
            [
             0,
             "#0d0887"
            ],
            [
             0.1111111111111111,
             "#46039f"
            ],
            [
             0.2222222222222222,
             "#7201a8"
            ],
            [
             0.3333333333333333,
             "#9c179e"
            ],
            [
             0.4444444444444444,
             "#bd3786"
            ],
            [
             0.5555555555555556,
             "#d8576b"
            ],
            [
             0.6666666666666666,
             "#ed7953"
            ],
            [
             0.7777777777777778,
             "#fb9f3a"
            ],
            [
             0.8888888888888888,
             "#fdca26"
            ],
            [
             1,
             "#f0f921"
            ]
           ]
          },
          "colorway": [
           "#636efa",
           "#EF553B",
           "#00cc96",
           "#ab63fa",
           "#FFA15A",
           "#19d3f3",
           "#FF6692",
           "#B6E880",
           "#FF97FF",
           "#FECB52"
          ],
          "font": {
           "color": "#2a3f5f"
          },
          "geo": {
           "bgcolor": "white",
           "lakecolor": "white",
           "landcolor": "#E5ECF6",
           "showlakes": true,
           "showland": true,
           "subunitcolor": "white"
          },
          "hoverlabel": {
           "align": "left"
          },
          "hovermode": "closest",
          "mapbox": {
           "style": "light"
          },
          "paper_bgcolor": "white",
          "plot_bgcolor": "#E5ECF6",
          "polar": {
           "angularaxis": {
            "gridcolor": "white",
            "linecolor": "white",
            "ticks": ""
           },
           "bgcolor": "#E5ECF6",
           "radialaxis": {
            "gridcolor": "white",
            "linecolor": "white",
            "ticks": ""
           }
          },
          "scene": {
           "xaxis": {
            "backgroundcolor": "#E5ECF6",
            "gridcolor": "white",
            "gridwidth": 2,
            "linecolor": "white",
            "showbackground": true,
            "ticks": "",
            "zerolinecolor": "white"
           },
           "yaxis": {
            "backgroundcolor": "#E5ECF6",
            "gridcolor": "white",
            "gridwidth": 2,
            "linecolor": "white",
            "showbackground": true,
            "ticks": "",
            "zerolinecolor": "white"
           },
           "zaxis": {
            "backgroundcolor": "#E5ECF6",
            "gridcolor": "white",
            "gridwidth": 2,
            "linecolor": "white",
            "showbackground": true,
            "ticks": "",
            "zerolinecolor": "white"
           }
          },
          "shapedefaults": {
           "line": {
            "color": "#2a3f5f"
           }
          },
          "ternary": {
           "aaxis": {
            "gridcolor": "white",
            "linecolor": "white",
            "ticks": ""
           },
           "baxis": {
            "gridcolor": "white",
            "linecolor": "white",
            "ticks": ""
           },
           "bgcolor": "#E5ECF6",
           "caxis": {
            "gridcolor": "white",
            "linecolor": "white",
            "ticks": ""
           }
          },
          "title": {
           "x": 0.05
          },
          "xaxis": {
           "automargin": true,
           "gridcolor": "white",
           "linecolor": "white",
           "ticks": "",
           "title": {
            "standoff": 15
           },
           "zerolinecolor": "white",
           "zerolinewidth": 2
          },
          "yaxis": {
           "automargin": true,
           "gridcolor": "white",
           "linecolor": "white",
           "ticks": "",
           "title": {
            "standoff": 15
           },
           "zerolinecolor": "white",
           "zerolinewidth": 2
          }
         }
        },
        "title": {
         "text": "Total score vs world rank of top 100 universities with 2014, 2015 and 2016 years"
        },
        "xaxis": {
         "autorange": true,
         "range": [
          -6.4542621367746476,
          115.45426213677464
         ],
         "ticklen": 5,
         "title": {
          "text": "World Rank"
         },
         "type": "category",
         "zeroline": false
        },
        "yaxis": {
         "autorange": true,
         "range": [
          -16.66990291262136,
          218.66990291262135
         ],
         "ticklen": 5,
         "title": {
          "text": "Total Score"
         },
         "type": "category",
         "zeroline": false
        }
       }
      },
      "image/png": "[encoded data removed]",
      "text/html": [
       "<div>                            <div id=\"5373e56e-a0c9-4b00-b348-a1d0b96e4f6e\" class=\"plotly-graph-div\" style=\"height:525px; width:100%;\"></div>            <script type=\"text/javascript\">                require([\"plotly\"], function(Plotly) {                    window.PLOTLYENV=window.PLOTLYENV || {};                                    if (document.getElementById(\"5373e56e-a0c9-4b00-b348-a1d0b96e4f6e\")) {                    Plotly.newPlot(                        \"5373e56e-a0c9-4b00-b348-a1d0b96e4f6e\",                        [{\"marker\":{\"color\":\"rgba(255, 128, 255, 0.8)\"},\"mode\":\"markers\",\"name\":\"2014\",\"text\":[\"California Institute of Technology\",\"Harvard University\",\"University of Oxford\",\"Stanford University\",\"Massachusetts Institute of Technology\",\"Princeton University\",\"University of Cambridge\",\"University of California, Berkeley\",\"University of Chicago\",\"Imperial College London\",\"Yale University\",\"University of California, Los Angeles\",\"Columbia University\",\"ETH Zurich \\u2013 Swiss Federal Institute of Technology Zurich\",\"Johns Hopkins University\",\"University of Pennsylvania\",\"Duke University\",\"University of Michigan\",\"Cornell University\",\"University of Toronto\",\"University College London\",\"Northwestern University\",\"University of Tokyo\",\"Carnegie Mellon University\",\"University of Washington\",\"National University of Singapore\",\"University of Texas at Austin\",\"Georgia Institute of Technology\",\"University of Illinois at Urbana-Champaign\",\"University of Wisconsin-Madison\",\"University of British Columbia\",\"London School of Economics and Political Science\",\"University of California, Santa Barbara\",\"University of Melbourne\",\"McGill University\",\"Karolinska Institute\",\"\\u00c9cole Polytechnique F\\u00e9d\\u00e9rale de Lausanne\",\"King\\u2019s College London\",\"University of Edinburgh\",\"New York University\",\"University of California, San Diego\",\"Washington University in St Louis\",\"University of Hong Kong\",\"Seoul National University\",\"Peking University\",\"University of Minnesota\",\"University of North Carolina at Chapel Hill\",\"Australian National University\",\"Pennsylvania State University\",\"Boston University\",\"Tsinghua University\",\"Brown University\",\"Kyoto University\",\"University of California, Davis\",\"LMU Munich\",\"Korea Advanced Institute of Science and Technology (KAIST)\",\"Hong Kong University of Science and Technology\",\"University of Manchester\",\"Ohio State University\",\"Pohang University of Science and Technology\",\"KU Leuven\",\"Purdue University\",\"The University of Queensland\",\"University of G\\u00f6ttingen\",\"Rice University\",\"\\u00c9cole Normale Sup\\u00e9rieure\",\"Leiden University\",\"Heidelberg University\",\"Delft University of Technology\",\"University of Southern California\",\"\\u00c9cole Polytechnique\",\"University of Sydney\",\"Erasmus University Rotterdam\",\"University of Basel\",\"Utrecht University\",\"Nanyang Technological University\",\"Wageningen University and Research Center\",\"University of Pittsburgh\",\"University of Bristol\",\"Durham University\",\"Emory University\",\"Tufts University\",\"Michigan State University\",\"University of Amsterdam\",\"Ghent University\",\"Free University of Berlin\",\"Technical University of Munich\",\"Case Western Reserve University\",\"Vanderbilt University\",\"University of Notre Dame\",\"Monash University\",\"McMaster University\",\"University of California, Irvine\",\"Humboldt University of Berlin\",\"University of Rochester\",\"Pierre and Marie Curie University\",\"University of Colorado Boulder\",\"Maastricht University\",\"University of Groningen\",\"University of Helsinki\"],\"x\":[\"1\",\"2\",\"2\",\"4\",\"5\",\"6\",\"7\",\"8\",\"9\",\"10\",\"11\",\"12\",\"13\",\"14\",\"15\",\"16\",\"17\",\"18\",\"19\",\"20\",\"21\",\"22\",\"23\",\"24\",\"25\",\"26\",\"27\",\"28\",\"29\",\"30\",\"31\",\"32\",\"33\",\"34\",\"35\",\"36\",\"37\",\"38\",\"39\",\"40\",\"40\",\"42\",\"43\",\"44\",\"45\",\"46\",\"47\",\"48\",\"49\",\"50\",\"50\",\"52\",\"52\",\"52\",\"55\",\"56\",\"57\",\"58\",\"59\",\"60\",\"61\",\"62\",\"63\",\"63\",\"65\",\"65\",\"67\",\"68\",\"69\",\"70\",\"70\",\"72\",\"73\",\"74\",\"74\",\"76\",\"77\",\"78\",\"79\",\"80\",\"80\",\"80\",\"83\",\"83\",\"85\",\"86\",\"87\",\"88\",\"88\",\"90\",\"91\",\"92\",\"93\",\"94\",\"95\",\"96\",\"97\",\"98\",\"98\",\"100\"],\"y\":[\"94.9\",\"93.9\",\"93.9\",\"93.8\",\"93.0\",\"92.7\",\"92.3\",\"89.8\",\"87.8\",\"87.5\",\"87.4\",\"86.3\",\"85.2\",\"84.5\",\"83.7\",\"81.0\",\"79.3\",\"79.2\",\"79.1\",\"78.3\",\"77.6\",\"77.1\",\"76.4\",\"76.0\",\"73.4\",\"72.4\",\"72.2\",\"71.6\",\"71.4\",\"71.1\",\"70.8\",\"69.8\",\"68.4\",\"68.2\",\"68.1\",\"67.8\",\"67.7\",\"67.6\",\"67.5\",\"67.4\",\"67.4\",\"67.2\",\"65.3\",\"65.2\",\"65.0\",\"64.9\",\"64.5\",\"64.4\",\"64.2\",\"63.5\",\"63.5\",\"63.2\",\"63.2\",\"63.2\",\"63.1\",\"62.9\",\"62.5\",\"62.3\",\"62.0\",\"61.7\",\"61.3\",\"60.7\",\"59.9\",\"59.9\",\"59.8\",\"59.8\",\"59.4\",\"59.2\",\"59.1\",\"59.0\",\"59.0\",\"58.8\",\"58.1\",\"57.7\",\"57.7\",\"57.2\",\"56.8\",\"56.7\",\"56.3\",\"56.1\",\"56.1\",\"56.1\",\"55.9\",\"55.9\",\"55.5\",\"55.3\",\"55.2\",\"55.0\",\"55.0\",\"54.7\",\"54.6\",\"54.5\",\"54.1\",\"53.8\",\"53.6\",\"53.5\",\"53.4\",\"52.9\",\"52.9\",\"52.6\"],\"type\":\"scatter\"},{\"marker\":{\"color\":\"rgba(255, 128, 2, 0.8)\"},\"mode\":\"markers\",\"name\":\"2015\",\"text\":[\"California Institute of Technology\",\"Harvard University\",\"University of Oxford\",\"Stanford University\",\"University of Cambridge\",\"Massachusetts Institute of Technology\",\"Princeton University\",\"University of California, Berkeley\",\"Imperial College London\",\"Yale University\",\"University of Chicago\",\"University of California, Los Angeles\",\"ETH Zurich \\u2013 Swiss Federal Institute of Technology Zurich\",\"Columbia University\",\"Johns Hopkins University\",\"University of Pennsylvania\",\"University of Michigan\",\"Duke University\",\"Cornell University\",\"University of Toronto\",\"Northwestern University\",\"University College London\",\"University of Tokyo\",\"Carnegie Mellon University\",\"National University of Singapore\",\"University of Washington\",\"Georgia Institute of Technology\",\"University of Texas at Austin\",\"LMU Munich\",\"University of Illinois at Urbana-Champaign\",\"University of Wisconsin-Madison\",\"University of British Columbia\",\"University of Melbourne\",\"London School of Economics and Political Science\",\"\\u00c9cole Polytechnique F\\u00e9d\\u00e9rale de Lausanne\",\"University of Edinburgh\",\"University of California, Santa Barbara\",\"New York University\",\"McGill University\",\"King\\u2019s College London\",\"University of California, San Diego\",\"Washington University in St Louis\",\"University of Hong Kong\",\"Karolinska Institute\",\"Australian National University\",\"University of Minnesota\",\"University of North Carolina at Chapel Hill\",\"Peking University\",\"Tsinghua University\",\"Seoul National University\",\"Hong Kong University of Science and Technology\",\"Korea Advanced Institute of Science and Technology (KAIST)\",\"University of Manchester\",\"Brown University\",\"KU Leuven\",\"University of California, Davis\",\"Boston University\",\"Pennsylvania State University\",\"Kyoto University\",\"University of Sydney\",\"Nanyang Technological University\",\"\\u00c9cole Polytechnique\",\"Scuola Normale Superiore di Pisa\",\"Leiden University\",\"The University of Queensland\",\"Pohang University of Science and Technology\",\"University of G\\u00f6ttingen\",\"Ohio State University\",\"Rice University\",\"Heidelberg University\",\"Delft University of Technology\",\"Erasmus University Rotterdam\",\"Wageningen University and Research Center\",\"University of Bristol\",\"University of Basel\",\"University of Southern California\",\"University of Amsterdam\",\"\\u00c9cole Normale Sup\\u00e9rieure\",\"Utrecht University\",\"Humboldt University of Berlin\",\"Free University of Berlin\",\"Michigan State University\",\"Durham University\",\"Monash University\",\"Middle East Technical University\",\"University of Arizona\",\"University of Notre Dame\",\"Tufts University\",\"University of California, Irvine\",\"Ghent University\",\"University of Massachusetts\",\"University of Pittsburgh\",\"Emory University\",\"McMaster University\",\"University of Glasgow\",\"Vanderbilt University\",\"University of Colorado Boulder\",\"Stockholm University\",\"Technical University of Munich\",\"Uppsala University\"],\"x\":[\"1\",\"2\",\"3\",\"4\",\"5\",\"6\",\"7\",\"8\",\"9\",\"9\",\"11\",\"12\",\"13\",\"14\",\"15\",\"16\",\"17\",\"18\",\"19\",\"20\",\"21\",\"22\",\"23\",\"24\",\"25\",\"26\",\"27\",\"28\",\"29\",\"29\",\"29\",\"32\",\"33\",\"34\",\"34\",\"36\",\"37\",\"38\",\"39\",\"40\",\"41\",\"42\",\"43\",\"44\",\"45\",\"46\",\"46\",\"48\",\"49\",\"50\",\"51\",\"52\",\"52\",\"54\",\"55\",\"55\",\"57\",\"58\",\"59\",\"60\",\"61\",\"61\",\"63\",\"64\",\"65\",\"66\",\"67\",\"68\",\"69\",\"70\",\"71\",\"72\",\"73\",\"74\",\"75\",\"75\",\"77\",\"78\",\"79\",\"80\",\"81\",\"82\",\"83\",\"83\",\"85\",\"86\",\"86\",\"88\",\"88\",\"90\",\"91\",\"91\",\"93\",\"94\",\"94\",\"96\",\"97\",\"98\",\"98\",\"98\"],\"y\":[\"94.3\",\"93.3\",\"93.2\",\"92.9\",\"92.0\",\"91.9\",\"90.9\",\"89.5\",\"87.5\",\"87.5\",\"87.1\",\"85.5\",\"84.6\",\"84.4\",\"83.0\",\"81.0\",\"80.9\",\"79.9\",\"79.4\",\"79.3\",\"79.2\",\"78.7\",\"76.1\",\"74.3\",\"73.3\",\"73.2\",\"72.8\",\"72.3\",\"71.9\",\"71.9\",\"71.9\",\"71.8\",\"71.2\",\"70.9\",\"70.9\",\"70.4\",\"70.0\",\"69.9\",\"69.6\",\"69.4\",\"68.6\",\"67.8\",\"67.5\",\"66.8\",\"66.5\",\"65.9\",\"65.9\",\"65.2\",\"65.1\",\"64.8\",\"64.7\",\"64.5\",\"64.5\",\"64.1\",\"63.7\",\"63.7\",\"63.6\",\"62.9\",\"62.8\",\"62.7\",\"62.2\",\"62.2\",\"61.9\",\"61.3\",\"61.2\",\"61.1\",\"61.0\",\"60.7\",\"59.8\",\"59.6\",\"59.2\",\"59.1\",\"59.0\",\"58.9\",\"58.4\",\"58.4\",\"58.2\",\"58.1\",\"58.0\",\"57.9\",\"57.6\",\"57.3\",\"56.9\",\"56.9\",\"56.6\",\"56.5\",\"56.5\",\"56.4\",\"56.4\",\"56.2\",\"56.1\",\"56.1\",\"55.5\",\"55.3\",\"55.3\",\"55.2\",\"55.1\",\"54.6\",\"54.6\",\"54.6\"],\"type\":\"scatter\"},{\"marker\":{\"color\":\"rgba(0, 255, 200, 0.8)\"},\"mode\":\"markers\",\"name\":\"2016\",\"text\":[\"California Institute of Technology\",\"University of Oxford\",\"Stanford University\",\"University of Cambridge\",\"Massachusetts Institute of Technology\",\"Harvard University\",\"Princeton University\",\"Imperial College London\",\"ETH Zurich \\u2013 Swiss Federal Institute of Technology Zurich\",\"University of Chicago\",\"Johns Hopkins University\",\"Yale University\",\"University of California, Berkeley\",\"University College London\",\"Columbia University\",\"University of California, Los Angeles\",\"University of Pennsylvania\",\"Cornell University\",\"University of Toronto\",\"Duke University\",\"University of Michigan\",\"Carnegie Mellon University\",\"London School of Economics and Political Science\",\"University of Edinburgh\",\"Northwestern University\",\"National University of Singapore\",\"King\\u2019s College London\",\"Karolinska Institute\",\"LMU Munich\",\"New York University\",\"\\u00c9cole Polytechnique F\\u00e9d\\u00e9rale de Lausanne\",\"University of Washington\",\"University of Melbourne\",\"University of British Columbia\",\"KU Leuven\",\"University of Illinois at Urbana-Champaign\",\"Heidelberg University\",\"McGill University\",\"University of California, San Diego\",\"University of California, Santa Barbara\",\"Georgia Institute of Technology\",\"Peking University\",\"University of Tokyo\",\"University of California, Davis\",\"University of Hong Kong\",\"University of Texas at Austin\",\"Tsinghua University\",\"Wageningen University and Research Center\",\"Humboldt University of Berlin\",\"University of Wisconsin-Madison\",\"Brown University\",\"Australian National University\",\"Technical University of Munich\",\"\\u00c9cole Normale Sup\\u00e9rieure\",\"Nanyang Technological University\",\"University of Manchester\",\"University of Sydney\",\"University of Amsterdam\",\"Hong Kong University of Science and Technology\",\"The University of Queensland\",\"Washington University in St Louis\",\"Utrecht University\",\"University of North Carolina at Chapel Hill\",\"Boston University\",\"Delft University of Technology\",\"University of Minnesota\",\"Leiden University\",\"University of Southern California\",\"University of Bristol\",\"Durham University\",\"Erasmus University Rotterdam\",\"Free University of Berlin\",\"Monash University\",\"University of Groningen\",\"Pennsylvania State University\",\"University of Glasgow\",\"University of Helsinki\",\"University of T\\u00fcbingen\",\"University of Pittsburgh\",\"University of Warwick\",\"Uppsala University\",\"University of Copenhagen\",\"University of New South Wales\",\"University of Freiburg\",\"Seoul National University\",\"University of St Andrews\",\"Vanderbilt University\",\"Kyoto University\",\"Maastricht University\",\"Emory University\",\"Lund University\",\"Ohio State University\",\"University of Exeter\",\"University of Bonn\",\"Georgetown University\",\"McMaster University\",\"University of Sheffield\",\"Queen Mary University of London\",\"University of G\\u00f6ttingen\",\"Michigan State University\"],\"x\":[\"1\",\"2\",\"3\",\"4\",\"5\",\"6\",\"7\",\"8\",\"9\",\"10\",\"11\",\"12\",\"13\",\"14\",\"15\",\"16\",\"17\",\"18\",\"19\",\"20\",\"21\",\"22\",\"23\",\"24\",\"25\",\"26\",\"27\",\"28\",\"29\",\"30\",\"31\",\"32\",\"33\",\"34\",\"35\",\"36\",\"37\",\"38\",\"=39\",\"=39\",\"41\",\"42\",\"43\",\"=44\",\"=44\",\"46\",\"=47\",\"=47\",\"49\",\"50\",\"51\",\"52\",\"53\",\"54\",\"55\",\"=56\",\"=56\",\"58\",\"59\",\"=60\",\"=60\",\"62\",\"63\",\"64\",\"=65\",\"=65\",\"67\",\"68\",\"69\",\"70\",\"71\",\"72\",\"73\",\"74\",\"75\",\"=76\",\"=76\",\"78\",\"79\",\"80\",\"81\",\"=82\",\"=82\",\"84\",\"85\",\"86\",\"87\",\"=88\",\"=88\",\"=90\",\"=90\",\"=90\",\"93\",\"=94\",\"=94\",\"=94\",\"97\",\"98\",\"=99\",\"=99\"],\"y\":[\"95.2\",\"94.2\",\"93.9\",\"92.8\",\"92.0\",\"91.6\",\"90.1\",\"89.1\",\"88.3\",\"87.9\",\"87.6\",\"87.4\",\"87.2\",\"87.1\",\"86.1\",\"85.8\",\"85.2\",\"84.0\",\"83.9\",\"82.7\",\"82.4\",\"82.3\",\"81.3\",\"80.3\",\"79.5\",\"79.2\",\"78.2\",\"77.5\",\"77.3\",\"77.2\",\"76.1\",\"75.6\",\"75.4\",\"75.3\",\"74.8\",\"74.5\",\"74.4\",\"72.6\",\"72.2\",\"72.2\",\"72.1\",\"72.0\",\"71.1\",\"71.0\",\"71.0\",\"70.3\",\"70.0\",\"70.0\",\"69.9\",\"69.7\",\"69.6\",\"69.5\",\"69.4\",\"69.0\",\"68.2\",\"68.1\",\"68.1\",\"67.8\",\"67.2\",\"67.0\",\"67.0\",\"66.6\",\"66.4\",\"66.1\",\"65.9\",\"65.9\",\"65.7\",\"65.5\",\"64.3\",\"63.6\",\"63.5\",\"63.2\",\"62.5\",\"62.4\",\"62.3\",\"61.9\",\"61.9\",\"61.7\",\"61.5\",\"61.3\",\"61.2\",\"61.0\",\"61.0\",\"60.7\",\"60.5\",\"60.4\",\"60.1\",\"59.9\",\"59.9\",\"59.7\",\"59.7\",\"59.7\",\"59.5\",\"58.8\",\"58.8\",\"58.8\",\"58.6\",\"58.5\",\"58.0\",\"58.0\"],\"type\":\"scatter\"}],                        {\"template\":{\"data\":{\"barpolar\":[{\"marker\":{\"line\":{\"color\":\"#E5ECF6\",\"width\":0.5},\"pattern\":{\"fillmode\":\"overlay\",\"size\":10,\"solidity\":0.2}},\"type\":\"barpolar\"}],\"bar\":[{\"error_x\":{\"color\":\"#2a3f5f\"},\"error_y\":{\"color\":\"#2a3f5f\"},\"marker\":{\"line\":{\"color\":\"#E5ECF6\",\"width\":0.5},\"pattern\":{\"fillmode\":\"overlay\",\"size\":10,\"solidity\":0.2}},\"type\":\"bar\"}],\"carpet\":[{\"aaxis\":{\"endlinecolor\":\"#2a3f5f\",\"gridcolor\":\"white\",\"linecolor\":\"white\",\"minorgridcolor\":\"white\",\"startlinecolor\":\"#2a3f5f\"},\"baxis\":{\"endlinecolor\":\"#2a3f5f\",\"gridcolor\":\"white\",\"linecolor\":\"white\",\"minorgridcolor\":\"white\",\"startlinecolor\":\"#2a3f5f\"},\"type\":\"carpet\"}],\"choropleth\":[{\"colorbar\":{\"outlinewidth\":0,\"ticks\":\"\"},\"type\":\"choropleth\"}],\"contourcarpet\":[{\"colorbar\":{\"outlinewidth\":0,\"ticks\":\"\"},\"type\":\"contourcarpet\"}],\"contour\":[{\"colorbar\":{\"outlinewidth\":0,\"ticks\":\"\"},\"colorscale\":[[0.0,\"#0d0887\"],[0.1111111111111111,\"#46039f\"],[0.2222222222222222,\"#7201a8\"],[0.3333333333333333,\"#9c179e\"],[0.4444444444444444,\"#bd3786\"],[0.5555555555555556,\"#d8576b\"],[0.6666666666666666,\"#ed7953\"],[0.7777777777777778,\"#fb9f3a\"],[0.8888888888888888,\"#fdca26\"],[1.0,\"#f0f921\"]],\"type\":\"contour\"}],\"heatmapgl\":[{\"colorbar\":{\"outlinewidth\":0,\"ticks\":\"\"},\"colorscale\":[[0.0,\"#0d0887\"],[0.1111111111111111,\"#46039f\"],[0.2222222222222222,\"#7201a8\"],[0.3333333333333333,\"#9c179e\"],[0.4444444444444444,\"#bd3786\"],[0.5555555555555556,\"#d8576b\"],[0.6666666666666666,\"#ed7953\"],[0.7777777777777778,\"#fb9f3a\"],[0.8888888888888888,\"#fdca26\"],[1.0,\"#f0f921\"]],\"type\":\"heatmapgl\"}],\"heatmap\":[{\"colorbar\":{\"outlinewidth\":0,\"ticks\":\"\"},\"colorscale\":[[0.0,\"#0d0887\"],[0.1111111111111111,\"#46039f\"],[0.2222222222222222,\"#7201a8\"],[0.3333333333333333,\"#9c179e\"],[0.4444444444444444,\"#bd3786\"],[0.5555555555555556,\"#d8576b\"],[0.6666666666666666,\"#ed7953\"],[0.7777777777777778,\"#fb9f3a\"],[0.8888888888888888,\"#fdca26\"],[1.0,\"#f0f921\"]],\"type\":\"heatmap\"}],\"histogram2dcontour\":[{\"colorbar\":{\"outlinewidth\":0,\"ticks\":\"\"},\"colorscale\":[[0.0,\"#0d0887\"],[0.1111111111111111,\"#46039f\"],[0.2222222222222222,\"#7201a8\"],[0.3333333333333333,\"#9c179e\"],[0.4444444444444444,\"#bd3786\"],[0.5555555555555556,\"#d8576b\"],[0.6666666666666666,\"#ed7953\"],[0.7777777777777778,\"#fb9f3a\"],[0.8888888888888888,\"#fdca26\"],[1.0,\"#f0f921\"]],\"type\":\"histogram2dcontour\"}],\"histogram2d\":[{\"colorbar\":{\"outlinewidth\":0,\"ticks\":\"\"},\"colorscale\":[[0.0,\"#0d0887\"],[0.1111111111111111,\"#46039f\"],[0.2222222222222222,\"#7201a8\"],[0.3333333333333333,\"#9c179e\"],[0.4444444444444444,\"#bd3786\"],[0.5555555555555556,\"#d8576b\"],[0.6666666666666666,\"#ed7953\"],[0.7777777777777778,\"#fb9f3a\"],[0.8888888888888888,\"#fdca26\"],[1.0,\"#f0f921\"]],\"type\":\"histogram2d\"}],\"histogram\":[{\"marker\":{\"pattern\":{\"fillmode\":\"overlay\",\"size\":10,\"solidity\":0.2}},\"type\":\"histogram\"}],\"mesh3d\":[{\"colorbar\":{\"outlinewidth\":0,\"ticks\":\"\"},\"type\":\"mesh3d\"}],\"parcoords\":[{\"line\":{\"colorbar\":{\"outlinewidth\":0,\"ticks\":\"\"}},\"type\":\"parcoords\"}],\"pie\":[{\"automargin\":true,\"type\":\"pie\"}],\"scatter3d\":[{\"line\":{\"colorbar\":{\"outlinewidth\":0,\"ticks\":\"\"}},\"marker\":{\"colorbar\":{\"outlinewidth\":0,\"ticks\":\"\"}},\"type\":\"scatter3d\"}],\"scattercarpet\":[{\"marker\":{\"colorbar\":{\"outlinewidth\":0,\"ticks\":\"\"}},\"type\":\"scattercarpet\"}],\"scattergeo\":[{\"marker\":{\"colorbar\":{\"outlinewidth\":0,\"ticks\":\"\"}},\"type\":\"scattergeo\"}],\"scattergl\":[{\"marker\":{\"colorbar\":{\"outlinewidth\":0,\"ticks\":\"\"}},\"type\":\"scattergl\"}],\"scattermapbox\":[{\"marker\":{\"colorbar\":{\"outlinewidth\":0,\"ticks\":\"\"}},\"type\":\"scattermapbox\"}],\"scatterpolargl\":[{\"marker\":{\"colorbar\":{\"outlinewidth\":0,\"ticks\":\"\"}},\"type\":\"scatterpolargl\"}],\"scatterpolar\":[{\"marker\":{\"colorbar\":{\"outlinewidth\":0,\"ticks\":\"\"}},\"type\":\"scatterpolar\"}],\"scatter\":[{\"fillpattern\":{\"fillmode\":\"overlay\",\"size\":10,\"solidity\":0.2},\"type\":\"scatter\"}],\"scatterternary\":[{\"marker\":{\"colorbar\":{\"outlinewidth\":0,\"ticks\":\"\"}},\"type\":\"scatterternary\"}],\"surface\":[{\"colorbar\":{\"outlinewidth\":0,\"ticks\":\"\"},\"colorscale\":[[0.0,\"#0d0887\"],[0.1111111111111111,\"#46039f\"],[0.2222222222222222,\"#7201a8\"],[0.3333333333333333,\"#9c179e\"],[0.4444444444444444,\"#bd3786\"],[0.5555555555555556,\"#d8576b\"],[0.6666666666666666,\"#ed7953\"],[0.7777777777777778,\"#fb9f3a\"],[0.8888888888888888,\"#fdca26\"],[1.0,\"#f0f921\"]],\"type\":\"surface\"}],\"table\":[{\"cells\":{\"fill\":{\"color\":\"#EBF0F8\"},\"line\":{\"color\":\"white\"}},\"header\":{\"fill\":{\"color\":\"#C8D4E3\"},\"line\":{\"color\":\"white\"}},\"type\":\"table\"}]},\"layout\":{\"annotationdefaults\":{\"arrowcolor\":\"#2a3f5f\",\"arrowhead\":0,\"arrowwidth\":1},\"autotypenumbers\":\"strict\",\"coloraxis\":{\"colorbar\":{\"outlinewidth\":0,\"ticks\":\"\"}},\"colorscale\":{\"diverging\":[[0,\"#8e0152\"],[0.1,\"#c51b7d\"],[0.2,\"#de77ae\"],[0.3,\"#f1b6da\"],[0.4,\"#fde0ef\"],[0.5,\"#f7f7f7\"],[0.6,\"#e6f5d0\"],[0.7,\"#b8e186\"],[0.8,\"#7fbc41\"],[0.9,\"#4d9221\"],[1,\"#276419\"]],\"sequential\":[[0.0,\"#0d0887\"],[0.1111111111111111,\"#46039f\"],[0.2222222222222222,\"#7201a8\"],[0.3333333333333333,\"#9c179e\"],[0.4444444444444444,\"#bd3786\"],[0.5555555555555556,\"#d8576b\"],[0.6666666666666666,\"#ed7953\"],[0.7777777777777778,\"#fb9f3a\"],[0.8888888888888888,\"#fdca26\"],[1.0,\"#f0f921\"]],\"sequentialminus\":[[0.0,\"#0d0887\"],[0.1111111111111111,\"#46039f\"],[0.2222222222222222,\"#7201a8\"],[0.3333333333333333,\"#9c179e\"],[0.4444444444444444,\"#bd3786\"],[0.5555555555555556,\"#d8576b\"],[0.6666666666666666,\"#ed7953\"],[0.7777777777777778,\"#fb9f3a\"],[0.8888888888888888,\"#fdca26\"],[1.0,\"#f0f921\"]]},\"colorway\":[\"#636efa\",\"#EF553B\",\"#00cc96\",\"#ab63fa\",\"#FFA15A\",\"#19d3f3\",\"#FF6692\",\"#B6E880\",\"#FF97FF\",\"#FECB52\"],\"font\":{\"color\":\"#2a3f5f\"},\"geo\":{\"bgcolor\":\"white\",\"lakecolor\":\"white\",\"landcolor\":\"#E5ECF6\",\"showlakes\":true,\"showland\":true,\"subunitcolor\":\"white\"},\"hoverlabel\":{\"align\":\"left\"},\"hovermode\":\"closest\",\"mapbox\":{\"style\":\"light\"},\"paper_bgcolor\":\"white\",\"plot_bgcolor\":\"#E5ECF6\",\"polar\":{\"angularaxis\":{\"gridcolor\":\"white\",\"linecolor\":\"white\",\"ticks\":\"\"},\"bgcolor\":\"#E5ECF6\",\"radialaxis\":{\"gridcolor\":\"white\",\"linecolor\":\"white\",\"ticks\":\"\"}},\"scene\":{\"xaxis\":{\"backgroundcolor\":\"#E5ECF6\",\"gridcolor\":\"white\",\"gridwidth\":2,\"linecolor\":\"white\",\"showbackground\":true,\"ticks\":\"\",\"zerolinecolor\":\"white\"},\"yaxis\":{\"backgroundcolor\":\"#E5ECF6\",\"gridcolor\":\"white\",\"gridwidth\":2,\"linecolor\":\"white\",\"showbackground\":true,\"ticks\":\"\",\"zerolinecolor\":\"white\"},\"zaxis\":{\"backgroundcolor\":\"#E5ECF6\",\"gridcolor\":\"white\",\"gridwidth\":2,\"linecolor\":\"white\",\"showbackground\":true,\"ticks\":\"\",\"zerolinecolor\":\"white\"}},\"shapedefaults\":{\"line\":{\"color\":\"#2a3f5f\"}},\"ternary\":{\"aaxis\":{\"gridcolor\":\"white\",\"linecolor\":\"white\",\"ticks\":\"\"},\"baxis\":{\"gridcolor\":\"white\",\"linecolor\":\"white\",\"ticks\":\"\"},\"bgcolor\":\"#E5ECF6\",\"caxis\":{\"gridcolor\":\"white\",\"linecolor\":\"white\",\"ticks\":\"\"}},\"title\":{\"x\":0.05},\"xaxis\":{\"automargin\":true,\"gridcolor\":\"white\",\"linecolor\":\"white\",\"ticks\":\"\",\"title\":{\"standoff\":15},\"zerolinecolor\":\"white\",\"zerolinewidth\":2},\"yaxis\":{\"automargin\":true,\"gridcolor\":\"white\",\"linecolor\":\"white\",\"ticks\":\"\",\"title\":{\"standoff\":15},\"zerolinecolor\":\"white\",\"zerolinewidth\":2}}},\"title\":{\"text\":\"Total score vs world rank of top 100 universities with 2014, 2015 and 2016 years\"},\"xaxis\":{\"ticklen\":5,\"title\":{\"text\":\"World Rank\"},\"zeroline\":false},\"yaxis\":{\"ticklen\":5,\"title\":{\"text\":\"Total Score\"},\"zeroline\":false}},                        {\"responsive\": true}                    ).then(function(){\n",
       "                            \n",
       "var gd = document.getElementById('5373e56e-a0c9-4b00-b348-a1d0b96e4f6e');\n",
       "var x = new MutationObserver(function (mutations, observer) {{\n",
       "        var display = window.getComputedStyle(gd).display;\n",
       "        if (!display || display === 'none') {{\n",
       "            console.log([gd, 'removed!']);\n",
       "            Plotly.purge(gd);\n",
       "            observer.disconnect();\n",
       "        }}\n",
       "}});\n",
       "\n",
       "// Listen for the removal of the full notebook cells\n",
       "var notebookContainer = gd.closest('#notebook-container');\n",
       "if (notebookContainer) {{\n",
       "    x.observe(notebookContainer, {childList: true});\n",
       "}}\n",
       "\n",
       "// Listen for the clearing of the current output cell\n",
       "var outputEl = gd.closest('.output');\n",
       "if (outputEl) {{\n",
       "    x.observe(outputEl, {childList: true});\n",
       "}}\n",
       "\n",
       "                        })                };                });            </script>        </div>"
      ]
     },
     "metadata": {},
     "output_type": "display_data"
    }
   ],
   "source": [
    "\n",
    "trace1 =go.Scatter( \n",
    "                    x = df2014.world_rank, \n",
    "                    y = df2014.total_score,  \n",
    "                    mode = \"markers\",      \n",
    "                    name = \"2014\",        \n",
    "                    marker = dict(color = 'rgba(255, 128, 255, 0.8)'), \n",
    "                    text= df2014.university_name) \n",
    "\n",
    "\n",
    "trace2 =go.Scatter(\n",
    "                    x = df2015.world_rank, \n",
    "                    y = df2015.total_score,  \n",
    "                    mode = \"markers\",      \n",
    "                    name = \"2015\",         \n",
    "                    marker = dict(color = 'rgba(255, 128, 2, 0.8)'), \n",
    "                    text= df2015.university_name) \n",
    "\n",
    "\n",
    "trace3 =go.Scatter(\n",
    "                    x = df2016.world_rank, \n",
    "                    y = df2016.total_score,  \n",
    "                    mode = \"markers\",     \n",
    "                    name = \"2016\",         #trace'in adı verilir.\n",
    "                    marker = dict(color = 'rgba(0, 255, 200, 0.8)'),  #renk ve saydamlık verilir.\n",
    "                    text= df2016.university_name)  #bir değerin üzerine gelindiğinde üniversite adı gözükür.\n",
    "\n",
    "data = [trace1, trace2, trace3]  #trace1, trace2 ve trace3 data değişkenine liste olarak atanır.\n",
    "\n",
    "layout = dict(title = 'Total score vs world rank of top 100 universities with 2014, 2015 and 2016 years',\n",
    "              xaxis= dict(title= 'World Rank',ticklen= 5,zeroline= False),\n",
    "              yaxis= dict(title= 'Total Score',ticklen= 5,zeroline= False)  #başlık, x ve y ekseninin bilgisi dictionary olarak layout değişkenine atanır.\n",
    "             )\n",
    "fig = dict(data = data, layout = layout)  #data parametresine data değişkeni, layout parametresine layout değişkeni atanarak figür oluşturulur.\n",
    "\n",
    "iplot(fig) "
   ]
  },
  {
   "cell_type": "markdown",
   "metadata": {
    "id": "GohoY3GN72Vk"
   },
   "source": []
  }
 ],
 "metadata": {
  "colab": {
   "collapsed_sections": [],
   "name": "scatter_plot_with_plotly.ipynb",
   "provenance": []
  },
  "kernelspec": {
   "display_name": "Python 3 (ipykernel)",
   "language": "python",
   "name": "python3"
  },
  "language_info": {
   "codemirror_mode": {
    "name": "ipython",
    "version": 3
   },
   "file_extension": ".py",
   "mimetype": "text/x-python",
   "name": "python",
   "nbconvert_exporter": "python",
   "pygments_lexer": "ipython3",
   "version": "3.9.13"
  }
 },
 "nbformat": 4,
 "nbformat_minor": 4
}
