{
 "cells": [
  {
   "cell_type": "code",
   "execution_count": 1,
   "id": "36b71c51-8f96-41d0-8094-9830d30ce8be",
   "metadata": {},
   "outputs": [
    {
     "name": "stdout",
     "output_type": "stream",
     "text": [
      "    Name   Age  Note\n",
      "0  gamze  22.0     4\n",
      "1  beren  21.0    54\n",
      "2   duru  23.0    78\n",
      "3  miray   NaN    23\n",
      "4  derya  24.0  2321\n"
     ]
    }
   ],
   "source": [
    "import pandas as pd\n",
    "\n",
    "dictionary = {\"Name\":[\"gamze\",\"beren\",\"duru\",\"miray\",\"derya\"],\n",
    "             \"Age\":[22,21,23,None,24,],\n",
    "             \"Note\":[4,54,78,23,2321]}\n",
    "\n",
    "dataframe1 = pd.DataFrame(dictionary) \n",
    "print(dataframe1)"
   ]
  },
  {
   "cell_type": "code",
   "execution_count": 2,
   "id": "b6db1dcc-cb15-4999-9116-7e24fbafdf27",
   "metadata": {},
   "outputs": [
    {
     "name": "stdout",
     "output_type": "stream",
     "text": [
      "    Name   Age  Note\n",
      "0  gamze  22.0     4\n",
      "1  beren  21.0    54\n",
      "2   duru  23.0    78\n",
      "3  miray   NaN    23\n",
      "4  derya  24.0  2321\n"
     ]
    }
   ],
   "source": [
    "head = dataframe1.head() \n",
    "print(head)"
   ]
  },
  {
   "cell_type": "code",
   "execution_count": 3,
   "id": "60a0fa3e-c240-4195-9015-8f66ec55c9e3",
   "metadata": {},
   "outputs": [
    {
     "name": "stdout",
     "output_type": "stream",
     "text": [
      "    Name   Age  Note\n",
      "0  gamze  22.0     4\n",
      "1  beren  21.0    54\n",
      "2   duru  23.0    78\n",
      "3  miray   NaN    23\n",
      "4  derya  24.0  2321\n"
     ]
    }
   ],
   "source": [
    "tail = dataframe1.tail()\n",
    "print(tail)"
   ]
  },
  {
   "cell_type": "code",
   "execution_count": 4,
   "id": "db71970c-5af4-4916-9fb4-1610d7cb6ba5",
   "metadata": {},
   "outputs": [
    {
     "name": "stdout",
     "output_type": "stream",
     "text": [
      "Index(['Name', 'Age', 'Note'], dtype='object')\n"
     ]
    }
   ],
   "source": [
    "print(dataframe1.columns)"
   ]
  },
  {
   "cell_type": "code",
   "execution_count": 5,
   "id": "bad56dfe-3a2c-45ef-9a60-a09302be3aa6",
   "metadata": {},
   "outputs": [
    {
     "name": "stdout",
     "output_type": "stream",
     "text": [
      "<class 'pandas.core.frame.DataFrame'>\n",
      "RangeIndex: 5 entries, 0 to 4\n",
      "Data columns (total 3 columns):\n",
      " #   Column  Non-Null Count  Dtype  \n",
      "---  ------  --------------  -----  \n",
      " 0   Name    5 non-null      object \n",
      " 1   Age     4 non-null      float64\n",
      " 2   Note    5 non-null      int64  \n",
      "dtypes: float64(1), int64(1), object(1)\n",
      "memory usage: 248.0+ bytes\n",
      "None\n"
     ]
    }
   ],
   "source": [
    "print(dataframe1.info())"
   ]
  },
  {
   "cell_type": "code",
   "execution_count": 6,
   "id": "bf3cf3ac-530a-4857-9524-63364328e63f",
   "metadata": {},
   "outputs": [
    {
     "name": "stdout",
     "output_type": "stream",
     "text": [
      "             Age         Note\n",
      "count   4.000000     5.000000\n",
      "mean   22.500000   496.000000\n",
      "std     1.290994  1020.601048\n",
      "min    21.000000     4.000000\n",
      "25%    21.750000    23.000000\n",
      "50%    22.500000    54.000000\n",
      "75%    23.250000    78.000000\n",
      "max    24.000000  2321.000000\n"
     ]
    }
   ],
   "source": [
    "print(dataframe1.describe()) "
   ]
  },
  {
   "cell_type": "code",
   "execution_count": 9,
   "id": "95529927-b070-46fa-b834-8f9ae7a9d5a6",
   "metadata": {},
   "outputs": [
    {
     "name": "stdout",
     "output_type": "stream",
     "text": [
      "0    gamze\n",
      "1    beren\n",
      "2     duru\n",
      "3    miray\n",
      "4    derya\n",
      "Name: Name, dtype: object\n",
      "0    22.0\n",
      "1    21.0\n",
      "2    23.0\n",
      "3     NaN\n",
      "4    24.0\n",
      "Name: Age, dtype: float64\n",
      "0    22.0\n",
      "1    21.0\n",
      "2    23.0\n",
      "3     NaN\n",
      "Name: Age, dtype: float64\n",
      "    Name   Age  Note\n",
      "0  gamze  22.0     4\n",
      "1  beren  21.0    54\n",
      "2   duru  23.0    78\n",
      "3  miray   NaN    23\n",
      "    Name   Age  Note  yeni_future\n",
      "4  derya  24.0  2321            5\n",
      "3  miray   NaN    23            4\n",
      "2   duru  23.0    78            3\n",
      "1  beren  21.0    54            2\n",
      "0  gamze  22.0     4            1\n"
     ]
    }
   ],
   "source": [
    "print(dataframe1[\"Name\"]) \n",
    "print(dataframe1.loc[:, \"Age\"])                      \n",
    "dataframe1[\"yeni_future\"] = [1,2,3,4,5]\n",
    "print(dataframe1.loc[:3,\"Age\"]) \n",
    "print(dataframe1.loc[:3, \"Name\":\"Note\"])                 \n",
    "print(dataframe1.loc[::-1])      "
   ]
  },
  {
   "cell_type": "code",
   "execution_count": 10,
   "id": "b1dba58c-0f29-4a71-a488-d54c193ffc14",
   "metadata": {},
   "outputs": [
    {
     "name": "stdout",
     "output_type": "stream",
     "text": [
      "0    1\n",
      "1    2\n",
      "2    3\n",
      "3    4\n",
      "4    5\n",
      "Name: yeni_future, dtype: int64\n"
     ]
    }
   ],
   "source": [
    "print(dataframe1.yeni_future) "
   ]
  },
  {
   "cell_type": "code",
   "execution_count": 13,
   "id": "2033c101-4fa7-4f04-a01e-764f3b17f0ab",
   "metadata": {},
   "outputs": [
    {
     "name": "stdout",
     "output_type": "stream",
     "text": [
      "0    22.0\n",
      "1    21.0\n",
      "Name: Age, dtype: float64\n"
     ]
    }
   ],
   "source": [
    "\n",
    "print(dataframe1.loc[:1,\"Age\"]) "
   ]
  },
  {
   "cell_type": "code",
   "execution_count": 14,
   "id": "003fce3d-7367-4e1d-9d2b-bb4a6e5a6ca5",
   "metadata": {},
   "outputs": [
    {
     "name": "stdout",
     "output_type": "stream",
     "text": [
      "    Name  Note\n",
      "0  gamze     4\n",
      "1  beren    54\n",
      "2   duru    78\n"
     ]
    }
   ],
   "source": [
    "print(dataframe1.loc[:2, [\"Name\",\"Note\"]])"
   ]
  },
  {
   "cell_type": "code",
   "execution_count": 15,
   "id": "b4d6384b-1143-45e3-b091-c8e39ca2b549",
   "metadata": {},
   "outputs": [
    {
     "name": "stdout",
     "output_type": "stream",
     "text": [
      "    Name   Age\n",
      "0  gamze  22.0\n",
      "1  beren  21.0\n",
      "2   duru  23.0\n",
      "3  miray   NaN\n",
      "4  derya  24.0\n"
     ]
    }
   ],
   "source": [
    "print(dataframe1.loc[:,:\"Age\"])"
   ]
  },
  {
   "cell_type": "code",
   "execution_count": 17,
   "id": "0bccddb8-ab41-473b-ad6d-70229a753c24",
   "metadata": {},
   "outputs": [
    {
     "name": "stdout",
     "output_type": "stream",
     "text": [
      "    Age\n",
      "0  22.0\n",
      "1  21.0\n",
      "2  23.0\n",
      "3   NaN\n",
      "4  24.0\n"
     ]
    }
   ],
   "source": [
    "print(dataframe1.iloc[:,[1]])"
   ]
  },
  {
   "cell_type": "code",
   "execution_count": 18,
   "id": "006bd90c-00b9-4f11-a0f2-9bfc3a327563",
   "metadata": {},
   "outputs": [
    {
     "name": "stdout",
     "output_type": "stream",
     "text": [
      "    Age   Bool\n",
      "0  22.0  False\n",
      "1  21.0  False\n",
      "2  23.0  False\n",
      "3   NaN  False\n",
      "4  24.0  False\n"
     ]
    }
   ],
   "source": [
    "filtre1 = dataframe1.Age>35                           \n",
    "dataframe1[\"Bool\"]= filtre1\n",
    "print(dataframe1.loc[:,[\"Age\",\"Bool\"]])"
   ]
  },
  {
   "cell_type": "code",
   "execution_count": 19,
   "id": "03a2fa6c-9260-44b7-a439-39203c414343",
   "metadata": {},
   "outputs": [
    {
     "data": {
      "text/plain": [
       "pandas.core.series.Series"
      ]
     },
     "execution_count": 19,
     "metadata": {},
     "output_type": "execute_result"
    }
   ],
   "source": [
    "type(filtre1)"
   ]
  },
  {
   "cell_type": "code",
   "execution_count": 20,
   "id": "36bce5a1-6ac0-4507-914e-da3c5a2e4eb0",
   "metadata": {},
   "outputs": [
    {
     "name": "stdout",
     "output_type": "stream",
     "text": [
      "Empty DataFrame\n",
      "Columns: [Name, Age, Note, yeni_future, Bool]\n",
      "Index: []\n"
     ]
    }
   ],
   "source": [
    "filtrelenmis_data= dataframe1[filtre1] \n",
    "print(filtrelenmis_data)"
   ]
  },
  {
   "cell_type": "code",
   "execution_count": 22,
   "id": "dba91ed0-c2e3-405f-8837-4b679d8d7dca",
   "metadata": {},
   "outputs": [
    {
     "name": "stdout",
     "output_type": "stream",
     "text": [
      "Empty DataFrame\n",
      "Columns: [Name, Age, Note, yeni_future, Bool]\n",
      "Index: []\n"
     ]
    }
   ],
   "source": [
    "filtre2 = dataframe1.Note>70\n",
    "filtrelenmis_data2 = dataframe1[filtre2&filtre1] \n",
    "print(filtrelenmis_data2)"
   ]
  },
  {
   "cell_type": "code",
   "execution_count": 23,
   "id": "9611b65c-41a5-4c61-8227-a5caa6586127",
   "metadata": {},
   "outputs": [
    {
     "data": {
      "text/html": [
       "<div>\n",
       "<style scoped>\n",
       "    .dataframe tbody tr th:only-of-type {\n",
       "        vertical-align: middle;\n",
       "    }\n",
       "\n",
       "    .dataframe tbody tr th {\n",
       "        vertical-align: top;\n",
       "    }\n",
       "\n",
       "    .dataframe thead th {\n",
       "        text-align: right;\n",
       "    }\n",
       "</style>\n",
       "<table border=\"1\" class=\"dataframe\">\n",
       "  <thead>\n",
       "    <tr style=\"text-align: right;\">\n",
       "      <th></th>\n",
       "      <th>Name</th>\n",
       "      <th>Age</th>\n",
       "      <th>Note</th>\n",
       "      <th>yeni_future</th>\n",
       "      <th>Bool</th>\n",
       "    </tr>\n",
       "  </thead>\n",
       "  <tbody>\n",
       "    <tr>\n",
       "      <th>0</th>\n",
       "      <td>gamze</td>\n",
       "      <td>22.0</td>\n",
       "      <td>4</td>\n",
       "      <td>1</td>\n",
       "      <td>False</td>\n",
       "    </tr>\n",
       "    <tr>\n",
       "      <th>1</th>\n",
       "      <td>beren</td>\n",
       "      <td>21.0</td>\n",
       "      <td>54</td>\n",
       "      <td>2</td>\n",
       "      <td>False</td>\n",
       "    </tr>\n",
       "    <tr>\n",
       "      <th>2</th>\n",
       "      <td>duru</td>\n",
       "      <td>23.0</td>\n",
       "      <td>78</td>\n",
       "      <td>3</td>\n",
       "      <td>False</td>\n",
       "    </tr>\n",
       "    <tr>\n",
       "      <th>4</th>\n",
       "      <td>derya</td>\n",
       "      <td>24.0</td>\n",
       "      <td>2321</td>\n",
       "      <td>5</td>\n",
       "      <td>False</td>\n",
       "    </tr>\n",
       "  </tbody>\n",
       "</table>\n",
       "</div>"
      ],
      "text/plain": [
       "    Name   Age  Note  yeni_future   Bool\n",
       "0  gamze  22.0     4            1  False\n",
       "1  beren  21.0    54            2  False\n",
       "2   duru  23.0    78            3  False\n",
       "4  derya  24.0  2321            5  False"
      ]
     },
     "execution_count": 23,
     "metadata": {},
     "output_type": "execute_result"
    }
   ],
   "source": [
    "dataframe1[dataframe1.Age>3]"
   ]
  },
  {
   "cell_type": "code",
   "execution_count": 24,
   "id": "34e05de7-f8c3-46df-9c1e-6103f504e105",
   "metadata": {},
   "outputs": [
    {
     "name": "stdout",
     "output_type": "stream",
     "text": [
      "496.0\n",
      "496.0\n"
     ]
    }
   ],
   "source": [
    "import numpy as np\n",
    "ortalama = dataframe1.Note.mean()\n",
    "print(ortalama)\n",
    "ortlama_np= np.mean(dataframe1.Note) \n",
    "print(ortlama_np)"
   ]
  },
  {
   "cell_type": "code",
   "execution_count": 26,
   "id": "a79eacab-06a8-4f88-93f3-22ef48693bbe",
   "metadata": {},
   "outputs": [
    {
     "data": {
      "text/html": [
       "<div>\n",
       "<style scoped>\n",
       "    .dataframe tbody tr th:only-of-type {\n",
       "        vertical-align: middle;\n",
       "    }\n",
       "\n",
       "    .dataframe tbody tr th {\n",
       "        vertical-align: top;\n",
       "    }\n",
       "\n",
       "    .dataframe thead th {\n",
       "        text-align: right;\n",
       "    }\n",
       "</style>\n",
       "<table border=\"1\" class=\"dataframe\">\n",
       "  <thead>\n",
       "    <tr style=\"text-align: right;\">\n",
       "      <th></th>\n",
       "      <th>Name</th>\n",
       "      <th>Age</th>\n",
       "      <th>Note</th>\n",
       "      <th>yeni_future</th>\n",
       "      <th>Bool</th>\n",
       "    </tr>\n",
       "  </thead>\n",
       "  <tbody>\n",
       "    <tr>\n",
       "      <th>0</th>\n",
       "      <td>gamze</td>\n",
       "      <td>22.0</td>\n",
       "      <td>4</td>\n",
       "      <td>1</td>\n",
       "      <td>False</td>\n",
       "    </tr>\n",
       "    <tr>\n",
       "      <th>1</th>\n",
       "      <td>beren</td>\n",
       "      <td>21.0</td>\n",
       "      <td>54</td>\n",
       "      <td>2</td>\n",
       "      <td>False</td>\n",
       "    </tr>\n",
       "    <tr>\n",
       "      <th>2</th>\n",
       "      <td>duru</td>\n",
       "      <td>23.0</td>\n",
       "      <td>78</td>\n",
       "      <td>3</td>\n",
       "      <td>False</td>\n",
       "    </tr>\n",
       "    <tr>\n",
       "      <th>4</th>\n",
       "      <td>derya</td>\n",
       "      <td>24.0</td>\n",
       "      <td>2321</td>\n",
       "      <td>5</td>\n",
       "      <td>False</td>\n",
       "    </tr>\n",
       "  </tbody>\n",
       "</table>\n",
       "</div>"
      ],
      "text/plain": [
       "    Name   Age  Note  yeni_future   Bool\n",
       "0  gamze  22.0     4            1  False\n",
       "1  beren  21.0    54            2  False\n",
       "2   duru  23.0    78            3  False\n",
       "4  derya  24.0  2321            5  False"
      ]
     },
     "execution_count": 26,
     "metadata": {},
     "output_type": "execute_result"
    }
   ],
   "source": [
    "dataframe1.dropna(inplace=True)\n",
    "\n",
    "dataframe1\n"
   ]
  },
  {
   "cell_type": "code",
   "execution_count": 27,
   "id": "eae87b20-f04f-4199-bf47-efc44d0e05ae",
   "metadata": {},
   "outputs": [
    {
     "name": "stdout",
     "output_type": "stream",
     "text": [
      "614.25\n"
     ]
    },
    {
     "data": {
      "text/html": [
       "<div>\n",
       "<style scoped>\n",
       "    .dataframe tbody tr th:only-of-type {\n",
       "        vertical-align: middle;\n",
       "    }\n",
       "\n",
       "    .dataframe tbody tr th {\n",
       "        vertical-align: top;\n",
       "    }\n",
       "\n",
       "    .dataframe thead th {\n",
       "        text-align: right;\n",
       "    }\n",
       "</style>\n",
       "<table border=\"1\" class=\"dataframe\">\n",
       "  <thead>\n",
       "    <tr style=\"text-align: right;\">\n",
       "      <th></th>\n",
       "      <th>Name</th>\n",
       "      <th>Age</th>\n",
       "      <th>Note</th>\n",
       "      <th>yeni_future</th>\n",
       "      <th>Bool</th>\n",
       "      <th>Ortalama</th>\n",
       "    </tr>\n",
       "  </thead>\n",
       "  <tbody>\n",
       "    <tr>\n",
       "      <th>0</th>\n",
       "      <td>gamze</td>\n",
       "      <td>22.0</td>\n",
       "      <td>4</td>\n",
       "      <td>1</td>\n",
       "      <td>False</td>\n",
       "      <td>ortalama altında</td>\n",
       "    </tr>\n",
       "    <tr>\n",
       "      <th>1</th>\n",
       "      <td>beren</td>\n",
       "      <td>21.0</td>\n",
       "      <td>54</td>\n",
       "      <td>2</td>\n",
       "      <td>False</td>\n",
       "      <td>ortalama altında</td>\n",
       "    </tr>\n",
       "    <tr>\n",
       "      <th>2</th>\n",
       "      <td>duru</td>\n",
       "      <td>23.0</td>\n",
       "      <td>78</td>\n",
       "      <td>3</td>\n",
       "      <td>False</td>\n",
       "      <td>ortalama altında</td>\n",
       "    </tr>\n",
       "    <tr>\n",
       "      <th>4</th>\n",
       "      <td>derya</td>\n",
       "      <td>24.0</td>\n",
       "      <td>2321</td>\n",
       "      <td>5</td>\n",
       "      <td>False</td>\n",
       "      <td>ortalama üstünde</td>\n",
       "    </tr>\n",
       "  </tbody>\n",
       "</table>\n",
       "</div>"
      ],
      "text/plain": [
       "    Name   Age  Note  yeni_future   Bool          Ortalama\n",
       "0  gamze  22.0     4            1  False  ortalama altında\n",
       "1  beren  21.0    54            2  False  ortalama altında\n",
       "2   duru  23.0    78            3  False  ortalama altında\n",
       "4  derya  24.0  2321            5  False  ortalama üstünde"
      ]
     },
     "execution_count": 27,
     "metadata": {},
     "output_type": "execute_result"
    }
   ],
   "source": [
    "print(dataframe1.Note.mean()) \n",
    "dataframe1[\"Ortalama\"]= [\"ortalama altında\" if dataframe1.Note.mean()>each else \"ortalama üstünde\" for each in dataframe1.Note]\n",
    "dataframe1"
   ]
  },
  {
   "cell_type": "code",
   "execution_count": 28,
   "id": "d3027e81-e6f9-47d8-96cf-b3c93afa93c8",
   "metadata": {},
   "outputs": [
    {
     "data": {
      "text/plain": [
       "Index(['NAME', 'AGE', 'NOTE', 'YENI_FUTURE', 'BOOL', 'ORTALAMA'], dtype='object')"
      ]
     },
     "execution_count": 28,
     "metadata": {},
     "output_type": "execute_result"
    }
   ],
   "source": [
    "dataframe1.columns = [each.upper() for each in dataframe1.columns]\n",
    "dataframe1.columns"
   ]
  },
  {
   "cell_type": "code",
   "execution_count": 30,
   "id": "ef92bc9e-ed49-4a51-aebf-bb6391b7f760",
   "metadata": {},
   "outputs": [
    {
     "data": {
      "text/plain": [
       "Index(['NAME', 'AGE', 'NOTE', 'YENI_FUTURE', 'BOOL', 'ORTALAMA'], dtype='object')"
      ]
     },
     "execution_count": 30,
     "metadata": {},
     "output_type": "execute_result"
    }
   ],
   "source": [
    "dataframe1.columns = [each.upper() for each in dataframe1.columns]\n",
    "dataframe1.columns"
   ]
  },
  {
   "cell_type": "code",
   "execution_count": 31,
   "id": "8b1f7b78-49fb-44cd-a797-e8f135408ec9",
   "metadata": {},
   "outputs": [
    {
     "data": {
      "text/html": [
       "<div>\n",
       "<style scoped>\n",
       "    .dataframe tbody tr th:only-of-type {\n",
       "        vertical-align: middle;\n",
       "    }\n",
       "\n",
       "    .dataframe tbody tr th {\n",
       "        vertical-align: top;\n",
       "    }\n",
       "\n",
       "    .dataframe thead th {\n",
       "        text-align: right;\n",
       "    }\n",
       "</style>\n",
       "<table border=\"1\" class=\"dataframe\">\n",
       "  <thead>\n",
       "    <tr style=\"text-align: right;\">\n",
       "      <th></th>\n",
       "      <th>NAME</th>\n",
       "      <th>AGE</th>\n",
       "      <th>NOTE</th>\n",
       "      <th>YENI_FUTURE</th>\n",
       "      <th>BOOL</th>\n",
       "      <th>ORTALAMA</th>\n",
       "    </tr>\n",
       "  </thead>\n",
       "  <tbody>\n",
       "    <tr>\n",
       "      <th>0</th>\n",
       "      <td>gamze</td>\n",
       "      <td>22.0</td>\n",
       "      <td>4</td>\n",
       "      <td>1</td>\n",
       "      <td>False</td>\n",
       "      <td>ortalama altında</td>\n",
       "    </tr>\n",
       "    <tr>\n",
       "      <th>1</th>\n",
       "      <td>beren</td>\n",
       "      <td>21.0</td>\n",
       "      <td>54</td>\n",
       "      <td>2</td>\n",
       "      <td>False</td>\n",
       "      <td>ortalama altında</td>\n",
       "    </tr>\n",
       "    <tr>\n",
       "      <th>2</th>\n",
       "      <td>duru</td>\n",
       "      <td>23.0</td>\n",
       "      <td>78</td>\n",
       "      <td>3</td>\n",
       "      <td>False</td>\n",
       "      <td>ortalama altında</td>\n",
       "    </tr>\n",
       "    <tr>\n",
       "      <th>4</th>\n",
       "      <td>derya</td>\n",
       "      <td>24.0</td>\n",
       "      <td>2321</td>\n",
       "      <td>5</td>\n",
       "      <td>False</td>\n",
       "      <td>ortalama üstünde</td>\n",
       "    </tr>\n",
       "  </tbody>\n",
       "</table>\n",
       "</div>"
      ],
      "text/plain": [
       "    NAME   AGE  NOTE  YENI_FUTURE   BOOL          ORTALAMA\n",
       "0  gamze  22.0     4            1  False  ortalama altında\n",
       "1  beren  21.0    54            2  False  ortalama altında\n",
       "2   duru  23.0    78            3  False  ortalama altında\n",
       "4  derya  24.0  2321            5  False  ortalama üstünde"
      ]
     },
     "execution_count": 31,
     "metadata": {},
     "output_type": "execute_result"
    }
   ],
   "source": [
    "dataframe1.columns = [ each.split(\" \")[0]+\"_\"+each.split(\" \")[1] if len(each.split(\" \"))>1 else each for each in dataframe1.columns]\n",
    "dataframe1"
   ]
  },
  {
   "cell_type": "code",
   "execution_count": 33,
   "id": "6552d8b5-697a-4a34-a956-8f0f90a8f6bd",
   "metadata": {},
   "outputs": [
    {
     "data": {
      "text/html": [
       "<div>\n",
       "<style scoped>\n",
       "    .dataframe tbody tr th:only-of-type {\n",
       "        vertical-align: middle;\n",
       "    }\n",
       "\n",
       "    .dataframe tbody tr th {\n",
       "        vertical-align: top;\n",
       "    }\n",
       "\n",
       "    .dataframe thead th {\n",
       "        text-align: right;\n",
       "    }\n",
       "</style>\n",
       "<table border=\"1\" class=\"dataframe\">\n",
       "  <thead>\n",
       "    <tr style=\"text-align: right;\">\n",
       "      <th></th>\n",
       "      <th>NAME</th>\n",
       "      <th>AGE</th>\n",
       "      <th>NOTE</th>\n",
       "      <th>YENI_FUTURE</th>\n",
       "      <th>BOOL</th>\n",
       "      <th>ORTALAMA</th>\n",
       "    </tr>\n",
       "  </thead>\n",
       "  <tbody>\n",
       "    <tr>\n",
       "      <th>0</th>\n",
       "      <td>gamze</td>\n",
       "      <td>22.0</td>\n",
       "      <td>4</td>\n",
       "      <td>1</td>\n",
       "      <td>False</td>\n",
       "      <td>ortalama altında</td>\n",
       "    </tr>\n",
       "    <tr>\n",
       "      <th>1</th>\n",
       "      <td>beren</td>\n",
       "      <td>21.0</td>\n",
       "      <td>54</td>\n",
       "      <td>2</td>\n",
       "      <td>False</td>\n",
       "      <td>ortalama altında</td>\n",
       "    </tr>\n",
       "    <tr>\n",
       "      <th>2</th>\n",
       "      <td>duru</td>\n",
       "      <td>23.0</td>\n",
       "      <td>78</td>\n",
       "      <td>3</td>\n",
       "      <td>False</td>\n",
       "      <td>ortalama altında</td>\n",
       "    </tr>\n",
       "    <tr>\n",
       "      <th>4</th>\n",
       "      <td>derya</td>\n",
       "      <td>24.0</td>\n",
       "      <td>2321</td>\n",
       "      <td>5</td>\n",
       "      <td>False</td>\n",
       "      <td>ortalama üstünde</td>\n",
       "    </tr>\n",
       "  </tbody>\n",
       "</table>\n",
       "</div>"
      ],
      "text/plain": [
       "    NAME   AGE  NOTE  YENI_FUTURE   BOOL          ORTALAMA\n",
       "0  gamze  22.0     4            1  False  ortalama altında\n",
       "1  beren  21.0    54            2  False  ortalama altında\n",
       "2   duru  23.0    78            3  False  ortalama altında\n",
       "4  derya  24.0  2321            5  False  ortalama üstünde"
      ]
     },
     "execution_count": 33,
     "metadata": {},
     "output_type": "execute_result"
    }
   ],
   "source": [
    "dataframe1.columns = [ each.split(\" \")[1]+\"_\"+each.split(\" \")[1] if len(each.split(\" \"))>2 else each for each in dataframe1.columns]\n",
    "dataframe1"
   ]
  },
  {
   "cell_type": "code",
   "execution_count": null,
   "id": "59b65b40-48e8-4146-a470-e84a3eb59062",
   "metadata": {},
   "outputs": [],
   "source": []
  }
 ],
 "metadata": {
  "kernelspec": {
   "display_name": "Python 3 (ipykernel)",
   "language": "python",
   "name": "python3"
  },
  "language_info": {
   "codemirror_mode": {
    "name": "ipython",
    "version": 3
   },
   "file_extension": ".py",
   "mimetype": "text/x-python",
   "name": "python",
   "nbconvert_exporter": "python",
   "pygments_lexer": "ipython3",
   "version": "3.9.13"
  }
 },
 "nbformat": 4,
 "nbformat_minor": 5
}
