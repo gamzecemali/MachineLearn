{
 "cells": [
  {
   "cell_type": "markdown",
   "metadata": {
    "id": "LrQuF2Xm806t"
   },
   "source": [
    "# **Bar Plot**"
   ]
  },
  {
   "cell_type": "code",
   "execution_count": 1,
   "metadata": {
    "colab": {
     "base_uri": "https://localhost:8080/"
    },
    "id": "CAgoJhuL8z3z",
    "outputId": "5a1a3513-c6b8-426a-ba96-8aff0f0f57ba"
   },
   "outputs": [],
   "source": [
    "import pandas as pd\n",
    "import numpy as np\n",
    "import matplotlib.pyplot as plt\n",
    "from plotly.offline import iplot\n",
    "import plotly.graph_objs as go\n"
   ]
  },
  {
   "cell_type": "code",
   "execution_count": 2,
   "metadata": {
    "id": "Ljd9aL7T9iP1"
   },
   "outputs": [
    {
     "name": "stdout",
     "output_type": "stream",
     "text": [
      "Requirement already satisfied: plotly in c:\\users\\asus\\anaconda3\\lib\\site-packages (5.13.1)\n",
      "Requirement already satisfied: tenacity>=6.2.0 in c:\\users\\asus\\anaconda3\\lib\\site-packages (from plotly) (8.0.1)\n"
     ]
    }
   ],
   "source": [
    "!pip install --upgrade plotly "
   ]
  },
  {
   "cell_type": "code",
   "execution_count": 3,
   "metadata": {
    "id": "P0FHMrC29kHG"
   },
   "outputs": [
    {
     "name": "stdout",
     "output_type": "stream",
     "text": [
      "Requirement already satisfied: jupyter-dash in c:\\users\\asus\\anaconda3\\lib\\site-packages (0.4.2)\n",
      "Requirement already satisfied: retrying in c:\\users\\asus\\anaconda3\\lib\\site-packages (from jupyter-dash) (1.3.4)\n",
      "Requirement already satisfied: ipython in c:\\users\\asus\\anaconda3\\lib\\site-packages (from jupyter-dash) (7.31.1)\n",
      "Requirement already satisfied: ipykernel in c:\\users\\asus\\anaconda3\\lib\\site-packages (from jupyter-dash) (6.15.2)\n",
      "Requirement already satisfied: requests in c:\\users\\asus\\anaconda3\\lib\\site-packages (from jupyter-dash) (2.28.1)\n",
      "Requirement already satisfied: ansi2html in c:\\users\\asus\\anaconda3\\lib\\site-packages (from jupyter-dash) (1.8.0)\n",
      "Requirement already satisfied: flask in c:\\users\\asus\\anaconda3\\lib\\site-packages (from jupyter-dash) (1.1.2)\n",
      "Requirement already satisfied: nest-asyncio in c:\\users\\asus\\anaconda3\\lib\\site-packages (from jupyter-dash) (1.5.5)\n",
      "Requirement already satisfied: dash in c:\\users\\asus\\anaconda3\\lib\\site-packages (from jupyter-dash) (2.9.1)\n",
      "Requirement already satisfied: plotly>=5.0.0 in c:\\users\\asus\\anaconda3\\lib\\site-packages (from dash->jupyter-dash) (5.13.1)\n",
      "Requirement already satisfied: dash-core-components==2.0.0 in c:\\users\\asus\\anaconda3\\lib\\site-packages (from dash->jupyter-dash) (2.0.0)\n",
      "Requirement already satisfied: dash-table==5.0.0 in c:\\users\\asus\\anaconda3\\lib\\site-packages (from dash->jupyter-dash) (5.0.0)\n",
      "Requirement already satisfied: dash-html-components==2.0.0 in c:\\users\\asus\\anaconda3\\lib\\site-packages (from dash->jupyter-dash) (2.0.0)\n",
      "Requirement already satisfied: Werkzeug>=0.15 in c:\\users\\asus\\anaconda3\\lib\\site-packages (from flask->jupyter-dash) (2.0.3)\n",
      "Requirement already satisfied: Jinja2>=2.10.1 in c:\\users\\asus\\anaconda3\\lib\\site-packages (from flask->jupyter-dash) (2.11.3)\n",
      "Requirement already satisfied: click>=5.1 in c:\\users\\asus\\anaconda3\\lib\\site-packages (from flask->jupyter-dash) (8.0.4)\n",
      "Requirement already satisfied: itsdangerous>=0.24 in c:\\users\\asus\\anaconda3\\lib\\site-packages (from flask->jupyter-dash) (2.0.1)\n",
      "Requirement already satisfied: psutil in c:\\users\\asus\\anaconda3\\lib\\site-packages (from ipykernel->jupyter-dash) (5.9.0)\n",
      "Requirement already satisfied: traitlets>=5.1.0 in c:\\users\\asus\\anaconda3\\lib\\site-packages (from ipykernel->jupyter-dash) (5.1.1)\n",
      "Requirement already satisfied: matplotlib-inline>=0.1 in c:\\users\\asus\\anaconda3\\lib\\site-packages (from ipykernel->jupyter-dash) (0.1.6)\n",
      "Requirement already satisfied: tornado>=6.1 in c:\\users\\asus\\anaconda3\\lib\\site-packages (from ipykernel->jupyter-dash) (6.1)\n",
      "Requirement already satisfied: debugpy>=1.0 in c:\\users\\asus\\anaconda3\\lib\\site-packages (from ipykernel->jupyter-dash) (1.5.1)\n",
      "Requirement already satisfied: pyzmq>=17 in c:\\users\\asus\\anaconda3\\lib\\site-packages (from ipykernel->jupyter-dash) (23.2.0)\n",
      "Requirement already satisfied: packaging in c:\\users\\asus\\anaconda3\\lib\\site-packages (from ipykernel->jupyter-dash) (21.3)\n",
      "Requirement already satisfied: jupyter-client>=6.1.12 in c:\\users\\asus\\anaconda3\\lib\\site-packages (from ipykernel->jupyter-dash) (7.3.4)\n",
      "Requirement already satisfied: decorator in c:\\users\\asus\\anaconda3\\lib\\site-packages (from ipython->jupyter-dash) (5.1.1)\n",
      "Requirement already satisfied: setuptools>=18.5 in c:\\users\\asus\\anaconda3\\lib\\site-packages (from ipython->jupyter-dash) (63.4.1)\n",
      "Requirement already satisfied: colorama in c:\\users\\asus\\anaconda3\\lib\\site-packages (from ipython->jupyter-dash) (0.4.5)\n",
      "Requirement already satisfied: backcall in c:\\users\\asus\\anaconda3\\lib\\site-packages (from ipython->jupyter-dash) (0.2.0)\n",
      "Requirement already satisfied: jedi>=0.16 in c:\\users\\asus\\anaconda3\\lib\\site-packages (from ipython->jupyter-dash) (0.18.1)\n",
      "Requirement already satisfied: pickleshare in c:\\users\\asus\\anaconda3\\lib\\site-packages (from ipython->jupyter-dash) (0.7.5)\n",
      "Requirement already satisfied: prompt-toolkit!=3.0.0,!=3.0.1,<3.1.0,>=2.0.0 in c:\\users\\asus\\anaconda3\\lib\\site-packages (from ipython->jupyter-dash) (3.0.20)\n",
      "Requirement already satisfied: pygments in c:\\users\\asus\\anaconda3\\lib\\site-packages (from ipython->jupyter-dash) (2.11.2)\n",
      "Requirement already satisfied: charset-normalizer<3,>=2 in c:\\users\\asus\\anaconda3\\lib\\site-packages (from requests->jupyter-dash) (2.0.4)\n",
      "Requirement already satisfied: certifi>=2017.4.17 in c:\\users\\asus\\anaconda3\\lib\\site-packages (from requests->jupyter-dash) (2022.9.14)\n",
      "Requirement already satisfied: urllib3<1.27,>=1.21.1 in c:\\users\\asus\\anaconda3\\lib\\site-packages (from requests->jupyter-dash) (1.26.11)\n",
      "Requirement already satisfied: idna<4,>=2.5 in c:\\users\\asus\\anaconda3\\lib\\site-packages (from requests->jupyter-dash) (3.3)\n",
      "Requirement already satisfied: six>=1.7.0 in c:\\users\\asus\\anaconda3\\lib\\site-packages (from retrying->jupyter-dash) (1.16.0)\n",
      "Requirement already satisfied: parso<0.9.0,>=0.8.0 in c:\\users\\asus\\anaconda3\\lib\\site-packages (from jedi>=0.16->ipython->jupyter-dash) (0.8.3)\n",
      "Requirement already satisfied: MarkupSafe>=0.23 in c:\\users\\asus\\anaconda3\\lib\\site-packages (from Jinja2>=2.10.1->flask->jupyter-dash) (2.0.1)\n",
      "Requirement already satisfied: python-dateutil>=2.8.2 in c:\\users\\asus\\anaconda3\\lib\\site-packages (from jupyter-client>=6.1.12->ipykernel->jupyter-dash) (2.8.2)\n",
      "Requirement already satisfied: entrypoints in c:\\users\\asus\\anaconda3\\lib\\site-packages (from jupyter-client>=6.1.12->ipykernel->jupyter-dash) (0.4)\n",
      "Requirement already satisfied: jupyter-core>=4.9.2 in c:\\users\\asus\\anaconda3\\lib\\site-packages (from jupyter-client>=6.1.12->ipykernel->jupyter-dash) (4.11.1)\n",
      "Requirement already satisfied: tenacity>=6.2.0 in c:\\users\\asus\\anaconda3\\lib\\site-packages (from plotly>=5.0.0->dash->jupyter-dash) (8.0.1)\n",
      "Requirement already satisfied: wcwidth in c:\\users\\asus\\anaconda3\\lib\\site-packages (from prompt-toolkit!=3.0.0,!=3.0.1,<3.1.0,>=2.0.0->ipython->jupyter-dash) (0.2.5)\n",
      "Requirement already satisfied: pyparsing!=3.0.5,>=2.0.2 in c:\\users\\asus\\anaconda3\\lib\\site-packages (from packaging->ipykernel->jupyter-dash) (3.0.9)\n",
      "Requirement already satisfied: pywin32>=1.0 in c:\\users\\asus\\anaconda3\\lib\\site-packages (from jupyter-core>=4.9.2->jupyter-client>=6.1.12->ipykernel->jupyter-dash) (302)\n"
     ]
    }
   ],
   "source": [
    "!pip install jupyter-dash"
   ]
  },
  {
   "cell_type": "code",
   "execution_count": 6,
   "metadata": {
    "id": "HgWzJlNx9kt-"
   },
   "outputs": [],
   "source": [
    "timesData = pd.read_csv(\"data/timesData.csv\")"
   ]
  },
  {
   "cell_type": "code",
   "execution_count": 7,
   "metadata": {
    "colab": {
     "base_uri": "https://localhost:8080/",
     "height": 530
    },
    "id": "86PDdG1b9nSw",
    "outputId": "dd252d2b-f20e-4536-8439-84e614871a7d"
   },
   "outputs": [
    {
     "data": {
      "text/html": [
       "<div>\n",
       "<style scoped>\n",
       "    .dataframe tbody tr th:only-of-type {\n",
       "        vertical-align: middle;\n",
       "    }\n",
       "\n",
       "    .dataframe tbody tr th {\n",
       "        vertical-align: top;\n",
       "    }\n",
       "\n",
       "    .dataframe thead th {\n",
       "        text-align: right;\n",
       "    }\n",
       "</style>\n",
       "<table border=\"1\" class=\"dataframe\">\n",
       "  <thead>\n",
       "    <tr style=\"text-align: right;\">\n",
       "      <th></th>\n",
       "      <th>world_rank</th>\n",
       "      <th>university_name</th>\n",
       "      <th>country</th>\n",
       "      <th>teaching</th>\n",
       "      <th>international</th>\n",
       "      <th>research</th>\n",
       "      <th>citations</th>\n",
       "      <th>income</th>\n",
       "      <th>total_score</th>\n",
       "      <th>num_students</th>\n",
       "      <th>student_staff_ratio</th>\n",
       "      <th>international_students</th>\n",
       "      <th>female_male_ratio</th>\n",
       "      <th>year</th>\n",
       "    </tr>\n",
       "  </thead>\n",
       "  <tbody>\n",
       "    <tr>\n",
       "      <th>0</th>\n",
       "      <td>1</td>\n",
       "      <td>Harvard University</td>\n",
       "      <td>United States of America</td>\n",
       "      <td>99.7</td>\n",
       "      <td>72.4</td>\n",
       "      <td>98.7</td>\n",
       "      <td>98.8</td>\n",
       "      <td>34.5</td>\n",
       "      <td>96.1</td>\n",
       "      <td>20,152</td>\n",
       "      <td>8.9</td>\n",
       "      <td>25%</td>\n",
       "      <td>NaN</td>\n",
       "      <td>2011</td>\n",
       "    </tr>\n",
       "    <tr>\n",
       "      <th>1</th>\n",
       "      <td>2</td>\n",
       "      <td>California Institute of Technology</td>\n",
       "      <td>United States of America</td>\n",
       "      <td>97.7</td>\n",
       "      <td>54.6</td>\n",
       "      <td>98.0</td>\n",
       "      <td>99.9</td>\n",
       "      <td>83.7</td>\n",
       "      <td>96.0</td>\n",
       "      <td>2,243</td>\n",
       "      <td>6.9</td>\n",
       "      <td>27%</td>\n",
       "      <td>33 : 67</td>\n",
       "      <td>2011</td>\n",
       "    </tr>\n",
       "    <tr>\n",
       "      <th>2</th>\n",
       "      <td>3</td>\n",
       "      <td>Massachusetts Institute of Technology</td>\n",
       "      <td>United States of America</td>\n",
       "      <td>97.8</td>\n",
       "      <td>82.3</td>\n",
       "      <td>91.4</td>\n",
       "      <td>99.9</td>\n",
       "      <td>87.5</td>\n",
       "      <td>95.6</td>\n",
       "      <td>11,074</td>\n",
       "      <td>9.0</td>\n",
       "      <td>33%</td>\n",
       "      <td>37 : 63</td>\n",
       "      <td>2011</td>\n",
       "    </tr>\n",
       "    <tr>\n",
       "      <th>3</th>\n",
       "      <td>4</td>\n",
       "      <td>Stanford University</td>\n",
       "      <td>United States of America</td>\n",
       "      <td>98.3</td>\n",
       "      <td>29.5</td>\n",
       "      <td>98.1</td>\n",
       "      <td>99.2</td>\n",
       "      <td>64.3</td>\n",
       "      <td>94.3</td>\n",
       "      <td>15,596</td>\n",
       "      <td>7.8</td>\n",
       "      <td>22%</td>\n",
       "      <td>42 : 58</td>\n",
       "      <td>2011</td>\n",
       "    </tr>\n",
       "    <tr>\n",
       "      <th>4</th>\n",
       "      <td>5</td>\n",
       "      <td>Princeton University</td>\n",
       "      <td>United States of America</td>\n",
       "      <td>90.9</td>\n",
       "      <td>70.3</td>\n",
       "      <td>95.4</td>\n",
       "      <td>99.9</td>\n",
       "      <td>-</td>\n",
       "      <td>94.2</td>\n",
       "      <td>7,929</td>\n",
       "      <td>8.4</td>\n",
       "      <td>27%</td>\n",
       "      <td>45 : 55</td>\n",
       "      <td>2011</td>\n",
       "    </tr>\n",
       "  </tbody>\n",
       "</table>\n",
       "</div>"
      ],
      "text/plain": [
       "  world_rank                        university_name                   country  \\\n",
       "0          1                     Harvard University  United States of America   \n",
       "1          2     California Institute of Technology  United States of America   \n",
       "2          3  Massachusetts Institute of Technology  United States of America   \n",
       "3          4                    Stanford University  United States of America   \n",
       "4          5                   Princeton University  United States of America   \n",
       "\n",
       "   teaching international  research  citations income total_score  \\\n",
       "0      99.7          72.4      98.7       98.8   34.5        96.1   \n",
       "1      97.7          54.6      98.0       99.9   83.7        96.0   \n",
       "2      97.8          82.3      91.4       99.9   87.5        95.6   \n",
       "3      98.3          29.5      98.1       99.2   64.3        94.3   \n",
       "4      90.9          70.3      95.4       99.9      -        94.2   \n",
       "\n",
       "  num_students  student_staff_ratio international_students female_male_ratio  \\\n",
       "0       20,152                  8.9                    25%               NaN   \n",
       "1        2,243                  6.9                    27%           33 : 67   \n",
       "2       11,074                  9.0                    33%           37 : 63   \n",
       "3       15,596                  7.8                    22%           42 : 58   \n",
       "4        7,929                  8.4                    27%           45 : 55   \n",
       "\n",
       "   year  \n",
       "0  2011  \n",
       "1  2011  \n",
       "2  2011  \n",
       "3  2011  \n",
       "4  2011  "
      ]
     },
     "execution_count": 7,
     "metadata": {},
     "output_type": "execute_result"
    }
   ],
   "source": [
    "timesData.head()"
   ]
  },
  {
   "cell_type": "code",
   "execution_count": 9,
   "metadata": {
    "colab": {
     "base_uri": "https://localhost:8080/",
     "height": 294
    },
    "id": "mcuRxxo49eMj",
    "outputId": "9c4b72bf-828f-435d-ecaa-a79c7716f67f"
   },
   "outputs": [
    {
     "data": {
      "text/html": [
       "<div>\n",
       "<style scoped>\n",
       "    .dataframe tbody tr th:only-of-type {\n",
       "        vertical-align: middle;\n",
       "    }\n",
       "\n",
       "    .dataframe tbody tr th {\n",
       "        vertical-align: top;\n",
       "    }\n",
       "\n",
       "    .dataframe thead th {\n",
       "        text-align: right;\n",
       "    }\n",
       "</style>\n",
       "<table border=\"1\" class=\"dataframe\">\n",
       "  <thead>\n",
       "    <tr style=\"text-align: right;\">\n",
       "      <th></th>\n",
       "      <th>world_rank</th>\n",
       "      <th>university_name</th>\n",
       "      <th>country</th>\n",
       "      <th>teaching</th>\n",
       "      <th>international</th>\n",
       "      <th>research</th>\n",
       "      <th>citations</th>\n",
       "      <th>income</th>\n",
       "      <th>total_score</th>\n",
       "      <th>num_students</th>\n",
       "      <th>student_staff_ratio</th>\n",
       "      <th>international_students</th>\n",
       "      <th>female_male_ratio</th>\n",
       "      <th>year</th>\n",
       "    </tr>\n",
       "  </thead>\n",
       "  <tbody>\n",
       "    <tr>\n",
       "      <th>1002</th>\n",
       "      <td>1</td>\n",
       "      <td>California Institute of Technology</td>\n",
       "      <td>United States of America</td>\n",
       "      <td>94.4</td>\n",
       "      <td>65.8</td>\n",
       "      <td>98.2</td>\n",
       "      <td>99.8</td>\n",
       "      <td>91.2</td>\n",
       "      <td>94.9</td>\n",
       "      <td>2,243</td>\n",
       "      <td>6.9</td>\n",
       "      <td>27%</td>\n",
       "      <td>33 : 67</td>\n",
       "      <td>2014</td>\n",
       "    </tr>\n",
       "    <tr>\n",
       "      <th>1003</th>\n",
       "      <td>2</td>\n",
       "      <td>Harvard University</td>\n",
       "      <td>United States of America</td>\n",
       "      <td>95.3</td>\n",
       "      <td>66.2</td>\n",
       "      <td>98.5</td>\n",
       "      <td>99.1</td>\n",
       "      <td>40.6</td>\n",
       "      <td>93.9</td>\n",
       "      <td>20,152</td>\n",
       "      <td>8.9</td>\n",
       "      <td>25%</td>\n",
       "      <td>NaN</td>\n",
       "      <td>2014</td>\n",
       "    </tr>\n",
       "    <tr>\n",
       "      <th>1004</th>\n",
       "      <td>2</td>\n",
       "      <td>University of Oxford</td>\n",
       "      <td>United Kingdom</td>\n",
       "      <td>89.0</td>\n",
       "      <td>90.2</td>\n",
       "      <td>98.5</td>\n",
       "      <td>95.4</td>\n",
       "      <td>90.3</td>\n",
       "      <td>93.9</td>\n",
       "      <td>19,919</td>\n",
       "      <td>11.6</td>\n",
       "      <td>34%</td>\n",
       "      <td>46 : 54</td>\n",
       "      <td>2014</td>\n",
       "    </tr>\n",
       "    <tr>\n",
       "      <th>1005</th>\n",
       "      <td>4</td>\n",
       "      <td>Stanford University</td>\n",
       "      <td>United States of America</td>\n",
       "      <td>94.7</td>\n",
       "      <td>68.0</td>\n",
       "      <td>96.8</td>\n",
       "      <td>99.1</td>\n",
       "      <td>61.3</td>\n",
       "      <td>93.8</td>\n",
       "      <td>15,596</td>\n",
       "      <td>7.8</td>\n",
       "      <td>22%</td>\n",
       "      <td>42 : 58</td>\n",
       "      <td>2014</td>\n",
       "    </tr>\n",
       "    <tr>\n",
       "      <th>1006</th>\n",
       "      <td>5</td>\n",
       "      <td>Massachusetts Institute of Technology</td>\n",
       "      <td>United States of America</td>\n",
       "      <td>92.9</td>\n",
       "      <td>82.0</td>\n",
       "      <td>89.0</td>\n",
       "      <td>100.0</td>\n",
       "      <td>94.3</td>\n",
       "      <td>93.0</td>\n",
       "      <td>11,074</td>\n",
       "      <td>9.0</td>\n",
       "      <td>33%</td>\n",
       "      <td>37 : 63</td>\n",
       "      <td>2014</td>\n",
       "    </tr>\n",
       "  </tbody>\n",
       "</table>\n",
       "</div>"
      ],
      "text/plain": [
       "     world_rank                        university_name  \\\n",
       "1002          1     California Institute of Technology   \n",
       "1003          2                     Harvard University   \n",
       "1004          2                   University of Oxford   \n",
       "1005          4                    Stanford University   \n",
       "1006          5  Massachusetts Institute of Technology   \n",
       "\n",
       "                       country  teaching international  research  citations  \\\n",
       "1002  United States of America      94.4          65.8      98.2       99.8   \n",
       "1003  United States of America      95.3          66.2      98.5       99.1   \n",
       "1004            United Kingdom      89.0          90.2      98.5       95.4   \n",
       "1005  United States of America      94.7          68.0      96.8       99.1   \n",
       "1006  United States of America      92.9          82.0      89.0      100.0   \n",
       "\n",
       "     income total_score num_students  student_staff_ratio  \\\n",
       "1002   91.2        94.9        2,243                  6.9   \n",
       "1003   40.6        93.9       20,152                  8.9   \n",
       "1004   90.3        93.9       19,919                 11.6   \n",
       "1005   61.3        93.8       15,596                  7.8   \n",
       "1006   94.3        93.0       11,074                  9.0   \n",
       "\n",
       "     international_students female_male_ratio  year  \n",
       "1002                    27%           33 : 67  2014  \n",
       "1003                    25%               NaN  2014  \n",
       "1004                    34%           46 : 54  2014  \n",
       "1005                    22%           42 : 58  2014  \n",
       "1006                    33%           37 : 63  2014  "
      ]
     },
     "execution_count": 9,
     "metadata": {},
     "output_type": "execute_result"
    }
   ],
   "source": [
    "df2014 = timesData[timesData.year == 2014].iloc[:5,:] \n",
    "df2014"
   ]
  },
  {
   "cell_type": "code",
   "execution_count": 11,
   "metadata": {
    "colab": {
     "base_uri": "https://localhost:8080/",
     "height": 542
    },
    "id": "l6ZtHJEf98K6",
    "outputId": "81db768a-272e-4bbf-f00f-93a75a750089"
   },
   "outputs": [
    {
     "data": {
      "application/vnd.plotly.v1+json": {
       "config": {
        "linkText": "Export to plot.ly",
        "plotlyServerURL": "https://plot.ly",
        "showLink": false
       },
       "data": [
        {
         "marker": {
          "color": "rgba(255, 174, 255, 0.5)",
          "line": {
           "color": "rgb(0, 0, 0)",
           "width": 1.5
          }
         },
         "name": "citations",
         "text": [
          "United States of America",
          "United States of America",
          "United Kingdom",
          "United States of America",
          "United States of America"
         ],
         "type": "bar",
         "x": [
          "California Institute of Technology",
          "Harvard University",
          "University of Oxford",
          "Stanford University",
          "Massachusetts Institute of Technology"
         ],
         "y": [
          99.8,
          99.1,
          95.4,
          99.1,
          100
         ]
        },
        {
         "marker": {
          "color": "rgba(255, 255, 128, 0.5)",
          "line": {
           "color": "rgb(0, 0, 0)",
           "width": 1.5
          }
         },
         "name": "teaching",
         "text": [
          "United States of America",
          "United States of America",
          "United Kingdom",
          "United States of America",
          "United States of America"
         ],
         "type": "bar",
         "x": [
          "California Institute of Technology",
          "Harvard University",
          "University of Oxford",
          "Stanford University",
          "Massachusetts Institute of Technology"
         ],
         "y": [
          94.4,
          95.3,
          89,
          94.7,
          92.9
         ]
        }
       ],
       "layout": {
        "autosize": true,
        "barmode": "group",
        "template": {
         "data": {
          "bar": [
           {
            "error_x": {
             "color": "#2a3f5f"
            },
            "error_y": {
             "color": "#2a3f5f"
            },
            "marker": {
             "line": {
              "color": "#E5ECF6",
              "width": 0.5
             },
             "pattern": {
              "fillmode": "overlay",
              "size": 10,
              "solidity": 0.2
             }
            },
            "type": "bar"
           }
          ],
          "barpolar": [
           {
            "marker": {
             "line": {
              "color": "#E5ECF6",
              "width": 0.5
             },
             "pattern": {
              "fillmode": "overlay",
              "size": 10,
              "solidity": 0.2
             }
            },
            "type": "barpolar"
           }
          ],
          "carpet": [
           {
            "aaxis": {
             "endlinecolor": "#2a3f5f",
             "gridcolor": "white",
             "linecolor": "white",
             "minorgridcolor": "white",
             "startlinecolor": "#2a3f5f"
            },
            "baxis": {
             "endlinecolor": "#2a3f5f",
             "gridcolor": "white",
             "linecolor": "white",
             "minorgridcolor": "white",
             "startlinecolor": "#2a3f5f"
            },
            "type": "carpet"
           }
          ],
          "choropleth": [
           {
            "colorbar": {
             "outlinewidth": 0,
             "ticks": ""
            },
            "type": "choropleth"
           }
          ],
          "contour": [
           {
            "colorbar": {
             "outlinewidth": 0,
             "ticks": ""
            },
            "colorscale": [
             [
              0,
              "#0d0887"
             ],
             [
              0.1111111111111111,
              "#46039f"
             ],
             [
              0.2222222222222222,
              "#7201a8"
             ],
             [
              0.3333333333333333,
              "#9c179e"
             ],
             [
              0.4444444444444444,
              "#bd3786"
             ],
             [
              0.5555555555555556,
              "#d8576b"
             ],
             [
              0.6666666666666666,
              "#ed7953"
             ],
             [
              0.7777777777777778,
              "#fb9f3a"
             ],
             [
              0.8888888888888888,
              "#fdca26"
             ],
             [
              1,
              "#f0f921"
             ]
            ],
            "type": "contour"
           }
          ],
          "contourcarpet": [
           {
            "colorbar": {
             "outlinewidth": 0,
             "ticks": ""
            },
            "type": "contourcarpet"
           }
          ],
          "heatmap": [
           {
            "colorbar": {
             "outlinewidth": 0,
             "ticks": ""
            },
            "colorscale": [
             [
              0,
              "#0d0887"
             ],
             [
              0.1111111111111111,
              "#46039f"
             ],
             [
              0.2222222222222222,
              "#7201a8"
             ],
             [
              0.3333333333333333,
              "#9c179e"
             ],
             [
              0.4444444444444444,
              "#bd3786"
             ],
             [
              0.5555555555555556,
              "#d8576b"
             ],
             [
              0.6666666666666666,
              "#ed7953"
             ],
             [
              0.7777777777777778,
              "#fb9f3a"
             ],
             [
              0.8888888888888888,
              "#fdca26"
             ],
             [
              1,
              "#f0f921"
             ]
            ],
            "type": "heatmap"
           }
          ],
          "heatmapgl": [
           {
            "colorbar": {
             "outlinewidth": 0,
             "ticks": ""
            },
            "colorscale": [
             [
              0,
              "#0d0887"
             ],
             [
              0.1111111111111111,
              "#46039f"
             ],
             [
              0.2222222222222222,
              "#7201a8"
             ],
             [
              0.3333333333333333,
              "#9c179e"
             ],
             [
              0.4444444444444444,
              "#bd3786"
             ],
             [
              0.5555555555555556,
              "#d8576b"
             ],
             [
              0.6666666666666666,
              "#ed7953"
             ],
             [
              0.7777777777777778,
              "#fb9f3a"
             ],
             [
              0.8888888888888888,
              "#fdca26"
             ],
             [
              1,
              "#f0f921"
             ]
            ],
            "type": "heatmapgl"
           }
          ],
          "histogram": [
           {
            "marker": {
             "pattern": {
              "fillmode": "overlay",
              "size": 10,
              "solidity": 0.2
             }
            },
            "type": "histogram"
           }
          ],
          "histogram2d": [
           {
            "colorbar": {
             "outlinewidth": 0,
             "ticks": ""
            },
            "colorscale": [
             [
              0,
              "#0d0887"
             ],
             [
              0.1111111111111111,
              "#46039f"
             ],
             [
              0.2222222222222222,
              "#7201a8"
             ],
             [
              0.3333333333333333,
              "#9c179e"
             ],
             [
              0.4444444444444444,
              "#bd3786"
             ],
             [
              0.5555555555555556,
              "#d8576b"
             ],
             [
              0.6666666666666666,
              "#ed7953"
             ],
             [
              0.7777777777777778,
              "#fb9f3a"
             ],
             [
              0.8888888888888888,
              "#fdca26"
             ],
             [
              1,
              "#f0f921"
             ]
            ],
            "type": "histogram2d"
           }
          ],
          "histogram2dcontour": [
           {
            "colorbar": {
             "outlinewidth": 0,
             "ticks": ""
            },
            "colorscale": [
             [
              0,
              "#0d0887"
             ],
             [
              0.1111111111111111,
              "#46039f"
             ],
             [
              0.2222222222222222,
              "#7201a8"
             ],
             [
              0.3333333333333333,
              "#9c179e"
             ],
             [
              0.4444444444444444,
              "#bd3786"
             ],
             [
              0.5555555555555556,
              "#d8576b"
             ],
             [
              0.6666666666666666,
              "#ed7953"
             ],
             [
              0.7777777777777778,
              "#fb9f3a"
             ],
             [
              0.8888888888888888,
              "#fdca26"
             ],
             [
              1,
              "#f0f921"
             ]
            ],
            "type": "histogram2dcontour"
           }
          ],
          "mesh3d": [
           {
            "colorbar": {
             "outlinewidth": 0,
             "ticks": ""
            },
            "type": "mesh3d"
           }
          ],
          "parcoords": [
           {
            "line": {
             "colorbar": {
              "outlinewidth": 0,
              "ticks": ""
             }
            },
            "type": "parcoords"
           }
          ],
          "pie": [
           {
            "automargin": true,
            "type": "pie"
           }
          ],
          "scatter": [
           {
            "fillpattern": {
             "fillmode": "overlay",
             "size": 10,
             "solidity": 0.2
            },
            "type": "scatter"
           }
          ],
          "scatter3d": [
           {
            "line": {
             "colorbar": {
              "outlinewidth": 0,
              "ticks": ""
             }
            },
            "marker": {
             "colorbar": {
              "outlinewidth": 0,
              "ticks": ""
             }
            },
            "type": "scatter3d"
           }
          ],
          "scattercarpet": [
           {
            "marker": {
             "colorbar": {
              "outlinewidth": 0,
              "ticks": ""
             }
            },
            "type": "scattercarpet"
           }
          ],
          "scattergeo": [
           {
            "marker": {
             "colorbar": {
              "outlinewidth": 0,
              "ticks": ""
             }
            },
            "type": "scattergeo"
           }
          ],
          "scattergl": [
           {
            "marker": {
             "colorbar": {
              "outlinewidth": 0,
              "ticks": ""
             }
            },
            "type": "scattergl"
           }
          ],
          "scattermapbox": [
           {
            "marker": {
             "colorbar": {
              "outlinewidth": 0,
              "ticks": ""
             }
            },
            "type": "scattermapbox"
           }
          ],
          "scatterpolar": [
           {
            "marker": {
             "colorbar": {
              "outlinewidth": 0,
              "ticks": ""
             }
            },
            "type": "scatterpolar"
           }
          ],
          "scatterpolargl": [
           {
            "marker": {
             "colorbar": {
              "outlinewidth": 0,
              "ticks": ""
             }
            },
            "type": "scatterpolargl"
           }
          ],
          "scatterternary": [
           {
            "marker": {
             "colorbar": {
              "outlinewidth": 0,
              "ticks": ""
             }
            },
            "type": "scatterternary"
           }
          ],
          "surface": [
           {
            "colorbar": {
             "outlinewidth": 0,
             "ticks": ""
            },
            "colorscale": [
             [
              0,
              "#0d0887"
             ],
             [
              0.1111111111111111,
              "#46039f"
             ],
             [
              0.2222222222222222,
              "#7201a8"
             ],
             [
              0.3333333333333333,
              "#9c179e"
             ],
             [
              0.4444444444444444,
              "#bd3786"
             ],
             [
              0.5555555555555556,
              "#d8576b"
             ],
             [
              0.6666666666666666,
              "#ed7953"
             ],
             [
              0.7777777777777778,
              "#fb9f3a"
             ],
             [
              0.8888888888888888,
              "#fdca26"
             ],
             [
              1,
              "#f0f921"
             ]
            ],
            "type": "surface"
           }
          ],
          "table": [
           {
            "cells": {
             "fill": {
              "color": "#EBF0F8"
             },
             "line": {
              "color": "white"
             }
            },
            "header": {
             "fill": {
              "color": "#C8D4E3"
             },
             "line": {
              "color": "white"
             }
            },
            "type": "table"
           }
          ]
         },
         "layout": {
          "annotationdefaults": {
           "arrowcolor": "#2a3f5f",
           "arrowhead": 0,
           "arrowwidth": 1
          },
          "autotypenumbers": "strict",
          "coloraxis": {
           "colorbar": {
            "outlinewidth": 0,
            "ticks": ""
           }
          },
          "colorscale": {
           "diverging": [
            [
             0,
             "#8e0152"
            ],
            [
             0.1,
             "#c51b7d"
            ],
            [
             0.2,
             "#de77ae"
            ],
            [
             0.3,
             "#f1b6da"
            ],
            [
             0.4,
             "#fde0ef"
            ],
            [
             0.5,
             "#f7f7f7"
            ],
            [
             0.6,
             "#e6f5d0"
            ],
            [
             0.7,
             "#b8e186"
            ],
            [
             0.8,
             "#7fbc41"
            ],
            [
             0.9,
             "#4d9221"
            ],
            [
             1,
             "#276419"
            ]
           ],
           "sequential": [
            [
             0,
             "#0d0887"
            ],
            [
             0.1111111111111111,
             "#46039f"
            ],
            [
             0.2222222222222222,
             "#7201a8"
            ],
            [
             0.3333333333333333,
             "#9c179e"
            ],
            [
             0.4444444444444444,
             "#bd3786"
            ],
            [
             0.5555555555555556,
             "#d8576b"
            ],
            [
             0.6666666666666666,
             "#ed7953"
            ],
            [
             0.7777777777777778,
             "#fb9f3a"
            ],
            [
             0.8888888888888888,
             "#fdca26"
            ],
            [
             1,
             "#f0f921"
            ]
           ],
           "sequentialminus": [
            [
             0,
             "#0d0887"
            ],
            [
             0.1111111111111111,
             "#46039f"
            ],
            [
             0.2222222222222222,
             "#7201a8"
            ],
            [
             0.3333333333333333,
             "#9c179e"
            ],
            [
             0.4444444444444444,
             "#bd3786"
            ],
            [
             0.5555555555555556,
             "#d8576b"
            ],
            [
             0.6666666666666666,
             "#ed7953"
            ],
            [
             0.7777777777777778,
             "#fb9f3a"
            ],
            [
             0.8888888888888888,
             "#fdca26"
            ],
            [
             1,
             "#f0f921"
            ]
           ]
          },
          "colorway": [
           "#636efa",
           "#EF553B",
           "#00cc96",
           "#ab63fa",
           "#FFA15A",
           "#19d3f3",
           "#FF6692",
           "#B6E880",
           "#FF97FF",
           "#FECB52"
          ],
          "font": {
           "color": "#2a3f5f"
          },
          "geo": {
           "bgcolor": "white",
           "lakecolor": "white",
           "landcolor": "#E5ECF6",
           "showlakes": true,
           "showland": true,
           "subunitcolor": "white"
          },
          "hoverlabel": {
           "align": "left"
          },
          "hovermode": "closest",
          "mapbox": {
           "style": "light"
          },
          "paper_bgcolor": "white",
          "plot_bgcolor": "#E5ECF6",
          "polar": {
           "angularaxis": {
            "gridcolor": "white",
            "linecolor": "white",
            "ticks": ""
           },
           "bgcolor": "#E5ECF6",
           "radialaxis": {
            "gridcolor": "white",
            "linecolor": "white",
            "ticks": ""
           }
          },
          "scene": {
           "xaxis": {
            "backgroundcolor": "#E5ECF6",
            "gridcolor": "white",
            "gridwidth": 2,
            "linecolor": "white",
            "showbackground": true,
            "ticks": "",
            "zerolinecolor": "white"
           },
           "yaxis": {
            "backgroundcolor": "#E5ECF6",
            "gridcolor": "white",
            "gridwidth": 2,
            "linecolor": "white",
            "showbackground": true,
            "ticks": "",
            "zerolinecolor": "white"
           },
           "zaxis": {
            "backgroundcolor": "#E5ECF6",
            "gridcolor": "white",
            "gridwidth": 2,
            "linecolor": "white",
            "showbackground": true,
            "ticks": "",
            "zerolinecolor": "white"
           }
          },
          "shapedefaults": {
           "line": {
            "color": "#2a3f5f"
           }
          },
          "ternary": {
           "aaxis": {
            "gridcolor": "white",
            "linecolor": "white",
            "ticks": ""
           },
           "baxis": {
            "gridcolor": "white",
            "linecolor": "white",
            "ticks": ""
           },
           "bgcolor": "#E5ECF6",
           "caxis": {
            "gridcolor": "white",
            "linecolor": "white",
            "ticks": ""
           }
          },
          "title": {
           "x": 0.05
          },
          "xaxis": {
           "automargin": true,
           "gridcolor": "white",
           "linecolor": "white",
           "ticks": "",
           "title": {
            "standoff": 15
           },
           "zerolinecolor": "white",
           "zerolinewidth": 2
          },
          "yaxis": {
           "automargin": true,
           "gridcolor": "white",
           "linecolor": "white",
           "ticks": "",
           "title": {
            "standoff": 15
           },
           "zerolinecolor": "white",
           "zerolinewidth": 2
          }
         }
        },
        "xaxis": {
         "autorange": true,
         "range": [
          -0.5,
          4.5
         ],
         "type": "category"
        },
        "yaxis": {
         "autorange": true,
         "range": [
          0,
          105.26315789473684
         ],
         "type": "linear"
        }
       }
      },
      "image/png": "[encoded data removed]",
      "text/html": [
       "<div>                            <div id=\"5ae3d832-b5dd-4262-820e-c6ccffb12ea0\" class=\"plotly-graph-div\" style=\"height:525px; width:100%;\"></div>            <script type=\"text/javascript\">                require([\"plotly\"], function(Plotly) {                    window.PLOTLYENV=window.PLOTLYENV || {};                                    if (document.getElementById(\"5ae3d832-b5dd-4262-820e-c6ccffb12ea0\")) {                    Plotly.newPlot(                        \"5ae3d832-b5dd-4262-820e-c6ccffb12ea0\",                        [{\"marker\":{\"color\":\"rgba(255, 174, 255, 0.5)\",\"line\":{\"color\":\"rgb(0,0,0)\",\"width\":1.5}},\"name\":\"citations\",\"text\":[\"United States of America\",\"United States of America\",\"United Kingdom\",\"United States of America\",\"United States of America\"],\"x\":[\"California Institute of Technology\",\"Harvard University\",\"University of Oxford\",\"Stanford University\",\"Massachusetts Institute of Technology\"],\"y\":[99.8,99.1,95.4,99.1,100.0],\"type\":\"bar\"},{\"marker\":{\"color\":\"rgba(255, 255, 128, 0.5)\",\"line\":{\"color\":\"rgb(0,0,0)\",\"width\":1.5}},\"name\":\"teaching\",\"text\":[\"United States of America\",\"United States of America\",\"United Kingdom\",\"United States of America\",\"United States of America\"],\"x\":[\"California Institute of Technology\",\"Harvard University\",\"University of Oxford\",\"Stanford University\",\"Massachusetts Institute of Technology\"],\"y\":[94.4,95.3,89.0,94.7,92.9],\"type\":\"bar\"}],                        {\"barmode\":\"group\",\"template\":{\"data\":{\"barpolar\":[{\"marker\":{\"line\":{\"color\":\"#E5ECF6\",\"width\":0.5},\"pattern\":{\"fillmode\":\"overlay\",\"size\":10,\"solidity\":0.2}},\"type\":\"barpolar\"}],\"bar\":[{\"error_x\":{\"color\":\"#2a3f5f\"},\"error_y\":{\"color\":\"#2a3f5f\"},\"marker\":{\"line\":{\"color\":\"#E5ECF6\",\"width\":0.5},\"pattern\":{\"fillmode\":\"overlay\",\"size\":10,\"solidity\":0.2}},\"type\":\"bar\"}],\"carpet\":[{\"aaxis\":{\"endlinecolor\":\"#2a3f5f\",\"gridcolor\":\"white\",\"linecolor\":\"white\",\"minorgridcolor\":\"white\",\"startlinecolor\":\"#2a3f5f\"},\"baxis\":{\"endlinecolor\":\"#2a3f5f\",\"gridcolor\":\"white\",\"linecolor\":\"white\",\"minorgridcolor\":\"white\",\"startlinecolor\":\"#2a3f5f\"},\"type\":\"carpet\"}],\"choropleth\":[{\"colorbar\":{\"outlinewidth\":0,\"ticks\":\"\"},\"type\":\"choropleth\"}],\"contourcarpet\":[{\"colorbar\":{\"outlinewidth\":0,\"ticks\":\"\"},\"type\":\"contourcarpet\"}],\"contour\":[{\"colorbar\":{\"outlinewidth\":0,\"ticks\":\"\"},\"colorscale\":[[0.0,\"#0d0887\"],[0.1111111111111111,\"#46039f\"],[0.2222222222222222,\"#7201a8\"],[0.3333333333333333,\"#9c179e\"],[0.4444444444444444,\"#bd3786\"],[0.5555555555555556,\"#d8576b\"],[0.6666666666666666,\"#ed7953\"],[0.7777777777777778,\"#fb9f3a\"],[0.8888888888888888,\"#fdca26\"],[1.0,\"#f0f921\"]],\"type\":\"contour\"}],\"heatmapgl\":[{\"colorbar\":{\"outlinewidth\":0,\"ticks\":\"\"},\"colorscale\":[[0.0,\"#0d0887\"],[0.1111111111111111,\"#46039f\"],[0.2222222222222222,\"#7201a8\"],[0.3333333333333333,\"#9c179e\"],[0.4444444444444444,\"#bd3786\"],[0.5555555555555556,\"#d8576b\"],[0.6666666666666666,\"#ed7953\"],[0.7777777777777778,\"#fb9f3a\"],[0.8888888888888888,\"#fdca26\"],[1.0,\"#f0f921\"]],\"type\":\"heatmapgl\"}],\"heatmap\":[{\"colorbar\":{\"outlinewidth\":0,\"ticks\":\"\"},\"colorscale\":[[0.0,\"#0d0887\"],[0.1111111111111111,\"#46039f\"],[0.2222222222222222,\"#7201a8\"],[0.3333333333333333,\"#9c179e\"],[0.4444444444444444,\"#bd3786\"],[0.5555555555555556,\"#d8576b\"],[0.6666666666666666,\"#ed7953\"],[0.7777777777777778,\"#fb9f3a\"],[0.8888888888888888,\"#fdca26\"],[1.0,\"#f0f921\"]],\"type\":\"heatmap\"}],\"histogram2dcontour\":[{\"colorbar\":{\"outlinewidth\":0,\"ticks\":\"\"},\"colorscale\":[[0.0,\"#0d0887\"],[0.1111111111111111,\"#46039f\"],[0.2222222222222222,\"#7201a8\"],[0.3333333333333333,\"#9c179e\"],[0.4444444444444444,\"#bd3786\"],[0.5555555555555556,\"#d8576b\"],[0.6666666666666666,\"#ed7953\"],[0.7777777777777778,\"#fb9f3a\"],[0.8888888888888888,\"#fdca26\"],[1.0,\"#f0f921\"]],\"type\":\"histogram2dcontour\"}],\"histogram2d\":[{\"colorbar\":{\"outlinewidth\":0,\"ticks\":\"\"},\"colorscale\":[[0.0,\"#0d0887\"],[0.1111111111111111,\"#46039f\"],[0.2222222222222222,\"#7201a8\"],[0.3333333333333333,\"#9c179e\"],[0.4444444444444444,\"#bd3786\"],[0.5555555555555556,\"#d8576b\"],[0.6666666666666666,\"#ed7953\"],[0.7777777777777778,\"#fb9f3a\"],[0.8888888888888888,\"#fdca26\"],[1.0,\"#f0f921\"]],\"type\":\"histogram2d\"}],\"histogram\":[{\"marker\":{\"pattern\":{\"fillmode\":\"overlay\",\"size\":10,\"solidity\":0.2}},\"type\":\"histogram\"}],\"mesh3d\":[{\"colorbar\":{\"outlinewidth\":0,\"ticks\":\"\"},\"type\":\"mesh3d\"}],\"parcoords\":[{\"line\":{\"colorbar\":{\"outlinewidth\":0,\"ticks\":\"\"}},\"type\":\"parcoords\"}],\"pie\":[{\"automargin\":true,\"type\":\"pie\"}],\"scatter3d\":[{\"line\":{\"colorbar\":{\"outlinewidth\":0,\"ticks\":\"\"}},\"marker\":{\"colorbar\":{\"outlinewidth\":0,\"ticks\":\"\"}},\"type\":\"scatter3d\"}],\"scattercarpet\":[{\"marker\":{\"colorbar\":{\"outlinewidth\":0,\"ticks\":\"\"}},\"type\":\"scattercarpet\"}],\"scattergeo\":[{\"marker\":{\"colorbar\":{\"outlinewidth\":0,\"ticks\":\"\"}},\"type\":\"scattergeo\"}],\"scattergl\":[{\"marker\":{\"colorbar\":{\"outlinewidth\":0,\"ticks\":\"\"}},\"type\":\"scattergl\"}],\"scattermapbox\":[{\"marker\":{\"colorbar\":{\"outlinewidth\":0,\"ticks\":\"\"}},\"type\":\"scattermapbox\"}],\"scatterpolargl\":[{\"marker\":{\"colorbar\":{\"outlinewidth\":0,\"ticks\":\"\"}},\"type\":\"scatterpolargl\"}],\"scatterpolar\":[{\"marker\":{\"colorbar\":{\"outlinewidth\":0,\"ticks\":\"\"}},\"type\":\"scatterpolar\"}],\"scatter\":[{\"fillpattern\":{\"fillmode\":\"overlay\",\"size\":10,\"solidity\":0.2},\"type\":\"scatter\"}],\"scatterternary\":[{\"marker\":{\"colorbar\":{\"outlinewidth\":0,\"ticks\":\"\"}},\"type\":\"scatterternary\"}],\"surface\":[{\"colorbar\":{\"outlinewidth\":0,\"ticks\":\"\"},\"colorscale\":[[0.0,\"#0d0887\"],[0.1111111111111111,\"#46039f\"],[0.2222222222222222,\"#7201a8\"],[0.3333333333333333,\"#9c179e\"],[0.4444444444444444,\"#bd3786\"],[0.5555555555555556,\"#d8576b\"],[0.6666666666666666,\"#ed7953\"],[0.7777777777777778,\"#fb9f3a\"],[0.8888888888888888,\"#fdca26\"],[1.0,\"#f0f921\"]],\"type\":\"surface\"}],\"table\":[{\"cells\":{\"fill\":{\"color\":\"#EBF0F8\"},\"line\":{\"color\":\"white\"}},\"header\":{\"fill\":{\"color\":\"#C8D4E3\"},\"line\":{\"color\":\"white\"}},\"type\":\"table\"}]},\"layout\":{\"annotationdefaults\":{\"arrowcolor\":\"#2a3f5f\",\"arrowhead\":0,\"arrowwidth\":1},\"autotypenumbers\":\"strict\",\"coloraxis\":{\"colorbar\":{\"outlinewidth\":0,\"ticks\":\"\"}},\"colorscale\":{\"diverging\":[[0,\"#8e0152\"],[0.1,\"#c51b7d\"],[0.2,\"#de77ae\"],[0.3,\"#f1b6da\"],[0.4,\"#fde0ef\"],[0.5,\"#f7f7f7\"],[0.6,\"#e6f5d0\"],[0.7,\"#b8e186\"],[0.8,\"#7fbc41\"],[0.9,\"#4d9221\"],[1,\"#276419\"]],\"sequential\":[[0.0,\"#0d0887\"],[0.1111111111111111,\"#46039f\"],[0.2222222222222222,\"#7201a8\"],[0.3333333333333333,\"#9c179e\"],[0.4444444444444444,\"#bd3786\"],[0.5555555555555556,\"#d8576b\"],[0.6666666666666666,\"#ed7953\"],[0.7777777777777778,\"#fb9f3a\"],[0.8888888888888888,\"#fdca26\"],[1.0,\"#f0f921\"]],\"sequentialminus\":[[0.0,\"#0d0887\"],[0.1111111111111111,\"#46039f\"],[0.2222222222222222,\"#7201a8\"],[0.3333333333333333,\"#9c179e\"],[0.4444444444444444,\"#bd3786\"],[0.5555555555555556,\"#d8576b\"],[0.6666666666666666,\"#ed7953\"],[0.7777777777777778,\"#fb9f3a\"],[0.8888888888888888,\"#fdca26\"],[1.0,\"#f0f921\"]]},\"colorway\":[\"#636efa\",\"#EF553B\",\"#00cc96\",\"#ab63fa\",\"#FFA15A\",\"#19d3f3\",\"#FF6692\",\"#B6E880\",\"#FF97FF\",\"#FECB52\"],\"font\":{\"color\":\"#2a3f5f\"},\"geo\":{\"bgcolor\":\"white\",\"lakecolor\":\"white\",\"landcolor\":\"#E5ECF6\",\"showlakes\":true,\"showland\":true,\"subunitcolor\":\"white\"},\"hoverlabel\":{\"align\":\"left\"},\"hovermode\":\"closest\",\"mapbox\":{\"style\":\"light\"},\"paper_bgcolor\":\"white\",\"plot_bgcolor\":\"#E5ECF6\",\"polar\":{\"angularaxis\":{\"gridcolor\":\"white\",\"linecolor\":\"white\",\"ticks\":\"\"},\"bgcolor\":\"#E5ECF6\",\"radialaxis\":{\"gridcolor\":\"white\",\"linecolor\":\"white\",\"ticks\":\"\"}},\"scene\":{\"xaxis\":{\"backgroundcolor\":\"#E5ECF6\",\"gridcolor\":\"white\",\"gridwidth\":2,\"linecolor\":\"white\",\"showbackground\":true,\"ticks\":\"\",\"zerolinecolor\":\"white\"},\"yaxis\":{\"backgroundcolor\":\"#E5ECF6\",\"gridcolor\":\"white\",\"gridwidth\":2,\"linecolor\":\"white\",\"showbackground\":true,\"ticks\":\"\",\"zerolinecolor\":\"white\"},\"zaxis\":{\"backgroundcolor\":\"#E5ECF6\",\"gridcolor\":\"white\",\"gridwidth\":2,\"linecolor\":\"white\",\"showbackground\":true,\"ticks\":\"\",\"zerolinecolor\":\"white\"}},\"shapedefaults\":{\"line\":{\"color\":\"#2a3f5f\"}},\"ternary\":{\"aaxis\":{\"gridcolor\":\"white\",\"linecolor\":\"white\",\"ticks\":\"\"},\"baxis\":{\"gridcolor\":\"white\",\"linecolor\":\"white\",\"ticks\":\"\"},\"bgcolor\":\"#E5ECF6\",\"caxis\":{\"gridcolor\":\"white\",\"linecolor\":\"white\",\"ticks\":\"\"}},\"title\":{\"x\":0.05},\"xaxis\":{\"automargin\":true,\"gridcolor\":\"white\",\"linecolor\":\"white\",\"ticks\":\"\",\"title\":{\"standoff\":15},\"zerolinecolor\":\"white\",\"zerolinewidth\":2},\"yaxis\":{\"automargin\":true,\"gridcolor\":\"white\",\"linecolor\":\"white\",\"ticks\":\"\",\"title\":{\"standoff\":15},\"zerolinecolor\":\"white\",\"zerolinewidth\":2}}}},                        {\"responsive\": true}                    ).then(function(){\n",
       "                            \n",
       "var gd = document.getElementById('5ae3d832-b5dd-4262-820e-c6ccffb12ea0');\n",
       "var x = new MutationObserver(function (mutations, observer) {{\n",
       "        var display = window.getComputedStyle(gd).display;\n",
       "        if (!display || display === 'none') {{\n",
       "            console.log([gd, 'removed!']);\n",
       "            Plotly.purge(gd);\n",
       "            observer.disconnect();\n",
       "        }}\n",
       "}});\n",
       "\n",
       "// Listen for the removal of the full notebook cells\n",
       "var notebookContainer = gd.closest('#notebook-container');\n",
       "if (notebookContainer) {{\n",
       "    x.observe(notebookContainer, {childList: true});\n",
       "}}\n",
       "\n",
       "// Listen for the clearing of the current output cell\n",
       "var outputEl = gd.closest('.output');\n",
       "if (outputEl) {{\n",
       "    x.observe(outputEl, {childList: true});\n",
       "}}\n",
       "\n",
       "                        })                };                });            </script>        </div>"
      ]
     },
     "metadata": {},
     "output_type": "display_data"
    }
   ],
   "source": [
    "\n",
    "trace1 = go.Bar( \n",
    "                x = df2014.university_name, \n",
    "                y = df2014.citations,  \n",
    "                name = \"citations\",    \n",
    "                marker = dict(color = 'rgba(255, 174, 255, 0.5)', \n",
    "                             line=dict(color='rgb(0,0,0)',width=1.5)), \n",
    "                text = df2014.country) \n",
    "\n",
    "# create trace2 \n",
    "trace2 = go.Bar(\n",
    "                x = df2014.university_name,  \n",
    "                y = df2014.teaching,   \n",
    "                name = \"teaching\",     \n",
    "                marker = dict(color = 'rgba(255, 255, 128, 0.5)',  \n",
    "                              line=dict(color='rgb(0,0,0)',width=1.5)), \n",
    "                text = df2014.country)  \n",
    "\n",
    "data = [trace1, trace2]\n",
    "\n",
    "layout = go.Layout(barmode = \"group\") \n",
    "                                     \n",
    "\n",
    "fig = go.Figure(data = data, layout = layout) \n",
    "\n",
    "iplot(fig) "
   ]
  },
  {
   "cell_type": "markdown",
   "metadata": {
    "id": "HZOVgpYiF4aG"
   },
   "source": [
    "![newplot (4).png](data:image/png;base64,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)"
   ]
  },
  {
   "cell_type": "markdown",
   "metadata": {
    "id": "WLfG-fS4FrUx"
   },
   "source": [
    "Bar plot görselleştirmesi seaborn'da yapılsaydı yaklaşık değerler görülürdü. Plotly'da tam değer gözükür."
   ]
  },
  {
   "cell_type": "code",
   "execution_count": 8,
   "metadata": {
    "colab": {
     "base_uri": "https://localhost:8080/",
     "height": 542
    },
    "id": "i32WD0OnGfBW",
    "outputId": "6da376d0-1093-4e7e-ccb2-0ce68052164c"
   },
   "outputs": [
    {
     "data": {
      "text/html": [
       "<html>\n",
       "<head><meta charset=\"utf-8\" /></head>\n",
       "<body>\n",
       "    <div>            <script src=\"https://cdnjs.cloudflare.com/ajax/libs/mathjax/2.7.5/MathJax.js?config=TeX-AMS-MML_SVG\"></script><script type=\"text/javascript\">if (window.MathJax && window.MathJax.Hub && window.MathJax.Hub.Config) {window.MathJax.Hub.Config({SVG: {font: \"STIX-Web\"}});}</script>                <script type=\"text/javascript\">window.PlotlyConfig = {MathJaxConfig: 'local'};</script>\n",
       "        <script src=\"https://cdn.plot.ly/plotly-2.8.3.min.js\"></script>                <div id=\"7d6a0483-1820-461d-9d6c-aab5bf4a38b3\" class=\"plotly-graph-div\" style=\"height:525px; width:100%;\"></div>            <script type=\"text/javascript\">                                    window.PLOTLYENV=window.PLOTLYENV || {};                                    if (document.getElementById(\"7d6a0483-1820-461d-9d6c-aab5bf4a38b3\")) {                    Plotly.newPlot(                        \"7d6a0483-1820-461d-9d6c-aab5bf4a38b3\",                        [{\"name\":\"citation\",\"x\":[\"California Institute of Technology\",\"Harvard University\",\"University of Oxford\"],\"y\":[99.8,99.1,95.4],\"type\":\"bar\"},{\"name\":\"teaching\",\"x\":[\"California Institute of Technology\",\"Harvard University\",\"University of Oxford\"],\"y\":[94.4,95.3,89.0],\"type\":\"bar\"}],                        {\"barmode\":\"relative\",\"template\":{\"data\":{\"barpolar\":[{\"marker\":{\"line\":{\"color\":\"#E5ECF6\",\"width\":0.5},\"pattern\":{\"fillmode\":\"overlay\",\"size\":10,\"solidity\":0.2}},\"type\":\"barpolar\"}],\"bar\":[{\"error_x\":{\"color\":\"#2a3f5f\"},\"error_y\":{\"color\":\"#2a3f5f\"},\"marker\":{\"line\":{\"color\":\"#E5ECF6\",\"width\":0.5},\"pattern\":{\"fillmode\":\"overlay\",\"size\":10,\"solidity\":0.2}},\"type\":\"bar\"}],\"carpet\":[{\"aaxis\":{\"endlinecolor\":\"#2a3f5f\",\"gridcolor\":\"white\",\"linecolor\":\"white\",\"minorgridcolor\":\"white\",\"startlinecolor\":\"#2a3f5f\"},\"baxis\":{\"endlinecolor\":\"#2a3f5f\",\"gridcolor\":\"white\",\"linecolor\":\"white\",\"minorgridcolor\":\"white\",\"startlinecolor\":\"#2a3f5f\"},\"type\":\"carpet\"}],\"choropleth\":[{\"colorbar\":{\"outlinewidth\":0,\"ticks\":\"\"},\"type\":\"choropleth\"}],\"contourcarpet\":[{\"colorbar\":{\"outlinewidth\":0,\"ticks\":\"\"},\"type\":\"contourcarpet\"}],\"contour\":[{\"colorbar\":{\"outlinewidth\":0,\"ticks\":\"\"},\"colorscale\":[[0.0,\"#0d0887\"],[0.1111111111111111,\"#46039f\"],[0.2222222222222222,\"#7201a8\"],[0.3333333333333333,\"#9c179e\"],[0.4444444444444444,\"#bd3786\"],[0.5555555555555556,\"#d8576b\"],[0.6666666666666666,\"#ed7953\"],[0.7777777777777778,\"#fb9f3a\"],[0.8888888888888888,\"#fdca26\"],[1.0,\"#f0f921\"]],\"type\":\"contour\"}],\"heatmapgl\":[{\"colorbar\":{\"outlinewidth\":0,\"ticks\":\"\"},\"colorscale\":[[0.0,\"#0d0887\"],[0.1111111111111111,\"#46039f\"],[0.2222222222222222,\"#7201a8\"],[0.3333333333333333,\"#9c179e\"],[0.4444444444444444,\"#bd3786\"],[0.5555555555555556,\"#d8576b\"],[0.6666666666666666,\"#ed7953\"],[0.7777777777777778,\"#fb9f3a\"],[0.8888888888888888,\"#fdca26\"],[1.0,\"#f0f921\"]],\"type\":\"heatmapgl\"}],\"heatmap\":[{\"colorbar\":{\"outlinewidth\":0,\"ticks\":\"\"},\"colorscale\":[[0.0,\"#0d0887\"],[0.1111111111111111,\"#46039f\"],[0.2222222222222222,\"#7201a8\"],[0.3333333333333333,\"#9c179e\"],[0.4444444444444444,\"#bd3786\"],[0.5555555555555556,\"#d8576b\"],[0.6666666666666666,\"#ed7953\"],[0.7777777777777778,\"#fb9f3a\"],[0.8888888888888888,\"#fdca26\"],[1.0,\"#f0f921\"]],\"type\":\"heatmap\"}],\"histogram2dcontour\":[{\"colorbar\":{\"outlinewidth\":0,\"ticks\":\"\"},\"colorscale\":[[0.0,\"#0d0887\"],[0.1111111111111111,\"#46039f\"],[0.2222222222222222,\"#7201a8\"],[0.3333333333333333,\"#9c179e\"],[0.4444444444444444,\"#bd3786\"],[0.5555555555555556,\"#d8576b\"],[0.6666666666666666,\"#ed7953\"],[0.7777777777777778,\"#fb9f3a\"],[0.8888888888888888,\"#fdca26\"],[1.0,\"#f0f921\"]],\"type\":\"histogram2dcontour\"}],\"histogram2d\":[{\"colorbar\":{\"outlinewidth\":0,\"ticks\":\"\"},\"colorscale\":[[0.0,\"#0d0887\"],[0.1111111111111111,\"#46039f\"],[0.2222222222222222,\"#7201a8\"],[0.3333333333333333,\"#9c179e\"],[0.4444444444444444,\"#bd3786\"],[0.5555555555555556,\"#d8576b\"],[0.6666666666666666,\"#ed7953\"],[0.7777777777777778,\"#fb9f3a\"],[0.8888888888888888,\"#fdca26\"],[1.0,\"#f0f921\"]],\"type\":\"histogram2d\"}],\"histogram\":[{\"marker\":{\"pattern\":{\"fillmode\":\"overlay\",\"size\":10,\"solidity\":0.2}},\"type\":\"histogram\"}],\"mesh3d\":[{\"colorbar\":{\"outlinewidth\":0,\"ticks\":\"\"},\"type\":\"mesh3d\"}],\"parcoords\":[{\"line\":{\"colorbar\":{\"outlinewidth\":0,\"ticks\":\"\"}},\"type\":\"parcoords\"}],\"pie\":[{\"automargin\":true,\"type\":\"pie\"}],\"scatter3d\":[{\"line\":{\"colorbar\":{\"outlinewidth\":0,\"ticks\":\"\"}},\"marker\":{\"colorbar\":{\"outlinewidth\":0,\"ticks\":\"\"}},\"type\":\"scatter3d\"}],\"scattercarpet\":[{\"marker\":{\"colorbar\":{\"outlinewidth\":0,\"ticks\":\"\"}},\"type\":\"scattercarpet\"}],\"scattergeo\":[{\"marker\":{\"colorbar\":{\"outlinewidth\":0,\"ticks\":\"\"}},\"type\":\"scattergeo\"}],\"scattergl\":[{\"marker\":{\"colorbar\":{\"outlinewidth\":0,\"ticks\":\"\"}},\"type\":\"scattergl\"}],\"scattermapbox\":[{\"marker\":{\"colorbar\":{\"outlinewidth\":0,\"ticks\":\"\"}},\"type\":\"scattermapbox\"}],\"scatterpolargl\":[{\"marker\":{\"colorbar\":{\"outlinewidth\":0,\"ticks\":\"\"}},\"type\":\"scatterpolargl\"}],\"scatterpolar\":[{\"marker\":{\"colorbar\":{\"outlinewidth\":0,\"ticks\":\"\"}},\"type\":\"scatterpolar\"}],\"scatter\":[{\"fillpattern\":{\"fillmode\":\"overlay\",\"size\":10,\"solidity\":0.2},\"type\":\"scatter\"}],\"scatterternary\":[{\"marker\":{\"colorbar\":{\"outlinewidth\":0,\"ticks\":\"\"}},\"type\":\"scatterternary\"}],\"surface\":[{\"colorbar\":{\"outlinewidth\":0,\"ticks\":\"\"},\"colorscale\":[[0.0,\"#0d0887\"],[0.1111111111111111,\"#46039f\"],[0.2222222222222222,\"#7201a8\"],[0.3333333333333333,\"#9c179e\"],[0.4444444444444444,\"#bd3786\"],[0.5555555555555556,\"#d8576b\"],[0.6666666666666666,\"#ed7953\"],[0.7777777777777778,\"#fb9f3a\"],[0.8888888888888888,\"#fdca26\"],[1.0,\"#f0f921\"]],\"type\":\"surface\"}],\"table\":[{\"cells\":{\"fill\":{\"color\":\"#EBF0F8\"},\"line\":{\"color\":\"white\"}},\"header\":{\"fill\":{\"color\":\"#C8D4E3\"},\"line\":{\"color\":\"white\"}},\"type\":\"table\"}]},\"layout\":{\"annotationdefaults\":{\"arrowcolor\":\"#2a3f5f\",\"arrowhead\":0,\"arrowwidth\":1},\"autotypenumbers\":\"strict\",\"coloraxis\":{\"colorbar\":{\"outlinewidth\":0,\"ticks\":\"\"}},\"colorscale\":{\"diverging\":[[0,\"#8e0152\"],[0.1,\"#c51b7d\"],[0.2,\"#de77ae\"],[0.3,\"#f1b6da\"],[0.4,\"#fde0ef\"],[0.5,\"#f7f7f7\"],[0.6,\"#e6f5d0\"],[0.7,\"#b8e186\"],[0.8,\"#7fbc41\"],[0.9,\"#4d9221\"],[1,\"#276419\"]],\"sequential\":[[0.0,\"#0d0887\"],[0.1111111111111111,\"#46039f\"],[0.2222222222222222,\"#7201a8\"],[0.3333333333333333,\"#9c179e\"],[0.4444444444444444,\"#bd3786\"],[0.5555555555555556,\"#d8576b\"],[0.6666666666666666,\"#ed7953\"],[0.7777777777777778,\"#fb9f3a\"],[0.8888888888888888,\"#fdca26\"],[1.0,\"#f0f921\"]],\"sequentialminus\":[[0.0,\"#0d0887\"],[0.1111111111111111,\"#46039f\"],[0.2222222222222222,\"#7201a8\"],[0.3333333333333333,\"#9c179e\"],[0.4444444444444444,\"#bd3786\"],[0.5555555555555556,\"#d8576b\"],[0.6666666666666666,\"#ed7953\"],[0.7777777777777778,\"#fb9f3a\"],[0.8888888888888888,\"#fdca26\"],[1.0,\"#f0f921\"]]},\"colorway\":[\"#636efa\",\"#EF553B\",\"#00cc96\",\"#ab63fa\",\"#FFA15A\",\"#19d3f3\",\"#FF6692\",\"#B6E880\",\"#FF97FF\",\"#FECB52\"],\"font\":{\"color\":\"#2a3f5f\"},\"geo\":{\"bgcolor\":\"white\",\"lakecolor\":\"white\",\"landcolor\":\"#E5ECF6\",\"showlakes\":true,\"showland\":true,\"subunitcolor\":\"white\"},\"hoverlabel\":{\"align\":\"left\"},\"hovermode\":\"closest\",\"mapbox\":{\"style\":\"light\"},\"paper_bgcolor\":\"white\",\"plot_bgcolor\":\"#E5ECF6\",\"polar\":{\"angularaxis\":{\"gridcolor\":\"white\",\"linecolor\":\"white\",\"ticks\":\"\"},\"bgcolor\":\"#E5ECF6\",\"radialaxis\":{\"gridcolor\":\"white\",\"linecolor\":\"white\",\"ticks\":\"\"}},\"scene\":{\"xaxis\":{\"backgroundcolor\":\"#E5ECF6\",\"gridcolor\":\"white\",\"gridwidth\":2,\"linecolor\":\"white\",\"showbackground\":true,\"ticks\":\"\",\"zerolinecolor\":\"white\"},\"yaxis\":{\"backgroundcolor\":\"#E5ECF6\",\"gridcolor\":\"white\",\"gridwidth\":2,\"linecolor\":\"white\",\"showbackground\":true,\"ticks\":\"\",\"zerolinecolor\":\"white\"},\"zaxis\":{\"backgroundcolor\":\"#E5ECF6\",\"gridcolor\":\"white\",\"gridwidth\":2,\"linecolor\":\"white\",\"showbackground\":true,\"ticks\":\"\",\"zerolinecolor\":\"white\"}},\"shapedefaults\":{\"line\":{\"color\":\"#2a3f5f\"}},\"ternary\":{\"aaxis\":{\"gridcolor\":\"white\",\"linecolor\":\"white\",\"ticks\":\"\"},\"baxis\":{\"gridcolor\":\"white\",\"linecolor\":\"white\",\"ticks\":\"\"},\"bgcolor\":\"#E5ECF6\",\"caxis\":{\"gridcolor\":\"white\",\"linecolor\":\"white\",\"ticks\":\"\"}},\"title\":{\"x\":0.05},\"xaxis\":{\"automargin\":true,\"gridcolor\":\"white\",\"linecolor\":\"white\",\"ticks\":\"\",\"title\":{\"standoff\":15},\"zerolinecolor\":\"white\",\"zerolinewidth\":2},\"yaxis\":{\"automargin\":true,\"gridcolor\":\"white\",\"linecolor\":\"white\",\"ticks\":\"\",\"title\":{\"standoff\":15},\"zerolinecolor\":\"white\",\"zerolinewidth\":2}}},\"title\":{\"text\":\"citations and teaching of top 3 universities in 2014\"},\"xaxis\":{\"title\":{\"text\":\"Top 3 universities\"}}},                        {\"responsive\": true}                    ).then(function(){\n",
       "                            \n",
       "var gd = document.getElementById('7d6a0483-1820-461d-9d6c-aab5bf4a38b3');\n",
       "var x = new MutationObserver(function (mutations, observer) {{\n",
       "        var display = window.getComputedStyle(gd).display;\n",
       "        if (!display || display === 'none') {{\n",
       "            console.log([gd, 'removed!']);\n",
       "            Plotly.purge(gd);\n",
       "            observer.disconnect();\n",
       "        }}\n",
       "}});\n",
       "\n",
       "// Listen for the removal of the full notebook cells\n",
       "var notebookContainer = gd.closest('#notebook-container');\n",
       "if (notebookContainer) {{\n",
       "    x.observe(notebookContainer, {childList: true});\n",
       "}}\n",
       "\n",
       "// Listen for the clearing of the current output cell\n",
       "var outputEl = gd.closest('.output');\n",
       "if (outputEl) {{\n",
       "    x.observe(outputEl, {childList: true});\n",
       "}}\n",
       "\n",
       "                        })                };                            </script>        </div>\n",
       "</body>\n",
       "</html>"
      ]
     },
     "metadata": {},
     "output_type": "display_data"
    }
   ],
   "source": [
    "x = df2014.university_name\n",
    "\n",
    "trace1 = { #burada bir dictionary yaratılır.\n",
    "  'x': x, #x eksenine üniversite adı koyulur.\n",
    "  'y': df2014.citations, #y eksenine alıntı değerleri koyulur.\n",
    "  'name': 'citation', #trace'in adı verilir.\n",
    "  'type': 'bar'  #plot türü belirlenir.\n",
    "};\n",
    "trace2 = {\n",
    "  'x': x,  #x eksenine üniversite adı koyulur.\n",
    "  'y': df2014.teaching,  #y eksenine alıntı değerleri koyulur.\n",
    "  'name': 'teaching',   #trace'in adı verilir.\n",
    "  'type': 'bar'  #plot türü belirlenir.\n",
    "};\n",
    "\n",
    "data = [trace1, trace2]; #trace1 ve trace2 data değişkenine liste olarak atanır.\n",
    "\n",
    "layout = {\n",
    "  'xaxis': {'title': 'Top 3 universities'},\n",
    "  'barmode': 'relative',  #trace1 ve trace2 alt alta koyulur.\n",
    "  'title': 'citations and teaching of top 3 universities in 2014'\n",
    "};\n",
    "\n",
    "fig = go.Figure(data = data, layout = layout) #data parametresine data değişkeni, layout parametresine layout değişkeni atanarak figür oluşturulur.\n",
    "\n",
    "iplot(fig) #figür plot edilir."
   ]
  },
  {
   "cell_type": "markdown",
   "metadata": {
    "id": "TAvuMxR4Gtv_"
   },
   "source": [
    "![newplot (5).png](data:image/png;base64,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)"
   ]
  },
  {
   "cell_type": "markdown",
   "metadata": {
    "id": "IadOa0RHGz9b"
   },
   "source": [
    "Bu bar plot görselleştirmesinde aynı konu üzerinde görselleştirme yapılmıştır.\n",
    "\n",
    "Farklı bir syntax kullanılmıştır.\n",
    "\n",
    "**barmode=group** olduğunda trace1 ve trace2 yan yana gözükür.\n",
    "\n",
    "**barmode=relative** olduğunda trace1 ve trace2 alt alta gözükür."
   ]
  }
 ],
 "metadata": {
  "colab": {
   "collapsed_sections": [],
   "name": "bar_plot_with_plotly.ipynb",
   "provenance": []
  },
  "kernelspec": {
   "display_name": "Python 3 (ipykernel)",
   "language": "python",
   "name": "python3"
  },
  "language_info": {
   "codemirror_mode": {
    "name": "ipython",
    "version": 3
   },
   "file_extension": ".py",
   "mimetype": "text/x-python",
   "name": "python",
   "nbconvert_exporter": "python",
   "pygments_lexer": "ipython3",
   "version": "3.9.13"
  }
 },
 "nbformat": 4,
 "nbformat_minor": 4
}
