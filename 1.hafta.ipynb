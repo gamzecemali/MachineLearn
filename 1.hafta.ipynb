{
 "cells": [
  {
   "cell_type": "markdown",
   "id": "d08071dd",
   "metadata": {},
   "source": [
    "Python Review"
   ]
  },
  {
   "cell_type": "code",
   "execution_count": 1,
   "id": "2837ef3d",
   "metadata": {},
   "outputs": [],
   "source": [
    "var1 = 6\n",
    "var2 = 15\n",
    "\n",
    "gun = 'sali'\n",
    "year = '1989'\n",
    "var3 = 9.0"
   ]
  },
  {
   "cell_type": "code",
   "execution_count": 2,
   "id": "b90fc26c",
   "metadata": {},
   "outputs": [
    {
     "data": {
      "text/plain": [
       "list"
      ]
     },
     "execution_count": 2,
     "metadata": {},
     "output_type": "execute_result"
    }
   ],
   "source": [
    "list_int =[1,2,3,4,5,6]\n",
    "type(list_int)"
   ]
  },
  {
   "cell_type": "code",
   "execution_count": 3,
   "id": "55575ba6",
   "metadata": {},
   "outputs": [
    {
     "name": "stdout",
     "output_type": "stream",
     "text": [
      "1\n"
     ]
    }
   ],
   "source": [
    "value = list_int[0]\n",
    "print(value)"
   ]
  },
  {
   "cell_type": "code",
   "execution_count": 4,
   "id": "5f007a51",
   "metadata": {},
   "outputs": [
    {
     "data": {
      "text/plain": [
       "1"
      ]
     },
     "execution_count": 4,
     "metadata": {},
     "output_type": "execute_result"
    }
   ],
   "source": [
    "value"
   ]
  },
  {
   "cell_type": "code",
   "execution_count": 5,
   "id": "c06d62b2",
   "metadata": {},
   "outputs": [
    {
     "data": {
      "text/plain": [
       "6"
      ]
     },
     "execution_count": 5,
     "metadata": {},
     "output_type": "execute_result"
    }
   ],
   "source": [
    "list_int[-1]"
   ]
  },
  {
   "cell_type": "code",
   "execution_count": 6,
   "id": "05c1990f",
   "metadata": {},
   "outputs": [
    {
     "data": {
      "text/plain": [
       "[1, 2, 3]"
      ]
     },
     "execution_count": 6,
     "metadata": {},
     "output_type": "execute_result"
    }
   ],
   "source": [
    "list_int[0:3]"
   ]
  },
  {
   "cell_type": "code",
   "execution_count": 7,
   "id": "33179014",
   "metadata": {},
   "outputs": [
    {
     "data": {
      "text/plain": [
       "['__add__',\n",
       " '__class__',\n",
       " '__class_getitem__',\n",
       " '__contains__',\n",
       " '__delattr__',\n",
       " '__delitem__',\n",
       " '__dir__',\n",
       " '__doc__',\n",
       " '__eq__',\n",
       " '__format__',\n",
       " '__ge__',\n",
       " '__getattribute__',\n",
       " '__getitem__',\n",
       " '__gt__',\n",
       " '__hash__',\n",
       " '__iadd__',\n",
       " '__imul__',\n",
       " '__init__',\n",
       " '__init_subclass__',\n",
       " '__iter__',\n",
       " '__le__',\n",
       " '__len__',\n",
       " '__lt__',\n",
       " '__mul__',\n",
       " '__ne__',\n",
       " '__new__',\n",
       " '__reduce__',\n",
       " '__reduce_ex__',\n",
       " '__repr__',\n",
       " '__reversed__',\n",
       " '__rmul__',\n",
       " '__setattr__',\n",
       " '__setitem__',\n",
       " '__sizeof__',\n",
       " '__str__',\n",
       " '__subclasshook__',\n",
       " 'append',\n",
       " 'clear',\n",
       " 'copy',\n",
       " 'count',\n",
       " 'extend',\n",
       " 'index',\n",
       " 'insert',\n",
       " 'pop',\n",
       " 'remove',\n",
       " 'reverse',\n",
       " 'sort']"
      ]
     },
     "execution_count": 7,
     "metadata": {},
     "output_type": "execute_result"
    }
   ],
   "source": [
    "dir(list_int)"
   ]
  },
  {
   "cell_type": "code",
   "execution_count": 10,
   "id": "ec2e323a",
   "metadata": {},
   "outputs": [
    {
     "name": "stdout",
     "output_type": "stream",
     "text": [
      "[6, 5, 4, 3, 2, 1, 4]\n"
     ]
    }
   ],
   "source": [
    "list_int.append(4)\n",
    "print(list_int)"
   ]
  },
  {
   "cell_type": "code",
   "execution_count": 11,
   "id": "20740ec8",
   "metadata": {},
   "outputs": [
    {
     "name": "stdout",
     "output_type": "stream",
     "text": [
      "[6, 5, 4, 3, 1, 4]\n"
     ]
    }
   ],
   "source": [
    "list_int.remove(2)\n",
    "print(list_int)"
   ]
  },
  {
   "cell_type": "code",
   "execution_count": 12,
   "id": "cc7c3a91",
   "metadata": {},
   "outputs": [
    {
     "name": "stdout",
     "output_type": "stream",
     "text": [
      "[1, 3, 4, 4, 5, 6]\n"
     ]
    }
   ],
   "source": [
    "list_int.sort()\n",
    "print(list_int)"
   ]
  },
  {
   "cell_type": "code",
   "execution_count": 13,
   "id": "cb02cf42",
   "metadata": {},
   "outputs": [
    {
     "name": "stdout",
     "output_type": "stream",
     "text": [
      "2\n",
      "3\n"
     ]
    }
   ],
   "source": [
    "for each in range(2,4):\n",
    "    print(each)"
   ]
  },
  {
   "cell_type": "code",
   "execution_count": 14,
   "id": "51f68331",
   "metadata": {},
   "outputs": [
    {
     "data": {
      "text/plain": [
       "93"
      ]
     },
     "execution_count": 14,
     "metadata": {},
     "output_type": "execute_result"
    }
   ],
   "source": [
    "list =[1,8,78,6]\n",
    "sum(list)"
   ]
  },
  {
   "cell_type": "code",
   "execution_count": 15,
   "id": "f8c3c810",
   "metadata": {},
   "outputs": [
    {
     "data": {
      "text/plain": [
       "1"
      ]
     },
     "execution_count": 15,
     "metadata": {},
     "output_type": "execute_result"
    }
   ],
   "source": [
    "min(list)\n"
   ]
  },
  {
   "cell_type": "code",
   "execution_count": 20,
   "id": "21b35c86",
   "metadata": {},
   "outputs": [
    {
     "name": "stdout",
     "output_type": "stream",
     "text": [
      "0\n",
      "1\n",
      "2\n",
      "3\n",
      "4\n"
     ]
    }
   ],
   "source": [
    "i=0\n",
    "while(i<5):\n",
    "    print(i)\n",
    "    i=i+1"
   ]
  },
  {
   "cell_type": "code",
   "execution_count": 17,
   "id": "0b9b3904",
   "metadata": {},
   "outputs": [
    {
     "data": {
      "text/plain": [
       "12.56"
      ]
     },
     "execution_count": 17,
     "metadata": {},
     "output_type": "execute_result"
    }
   ],
   "source": [
    "def area(r,pi=3.14):\n",
    "    result=pi*r*r\n",
    "    return result\n",
    "area(2)"
   ]
  },
  {
   "cell_type": "code",
   "execution_count": 19,
   "id": "1a1da8c5",
   "metadata": {},
   "outputs": [
    {
     "name": "stdout",
     "output_type": "stream",
     "text": [
      "16\n"
     ]
    }
   ],
   "source": [
    "def calculate(a):\n",
    "    r=a*a\n",
    "    return a\n",
    "result=calculate(2)\n",
    "result=lambda a:a*a\n",
    "print(result(4))"
   ]
  },
  {
   "cell_type": "code",
   "execution_count": 21,
   "id": "34ade901",
   "metadata": {},
   "outputs": [],
   "source": [
    "dictionary={\"gamze\":22,\"gizem\":12,\"busra\":45}"
   ]
  },
  {
   "cell_type": "code",
   "execution_count": 22,
   "id": "9eda240c",
   "metadata": {},
   "outputs": [
    {
     "data": {
      "text/plain": [
       "12"
      ]
     },
     "execution_count": 22,
     "metadata": {},
     "output_type": "execute_result"
    }
   ],
   "source": [
    "dictionary[\"gizem\"]"
   ]
  },
  {
   "cell_type": "code",
   "execution_count": 23,
   "id": "df5de4ef",
   "metadata": {},
   "outputs": [
    {
     "data": {
      "text/plain": [
       "dict_keys(['gamze', 'gizem', 'busra'])"
      ]
     },
     "execution_count": 23,
     "metadata": {},
     "output_type": "execute_result"
    }
   ],
   "source": [
    "dictionary.keys()"
   ]
  },
  {
   "cell_type": "code",
   "execution_count": 24,
   "id": "52759338",
   "metadata": {},
   "outputs": [
    {
     "data": {
      "text/plain": [
       "dict_values([22, 12, 45])"
      ]
     },
     "execution_count": 24,
     "metadata": {},
     "output_type": "execute_result"
    }
   ],
   "source": [
    "dictionary.values()"
   ]
  },
  {
   "cell_type": "code",
   "execution_count": 25,
   "id": "51b63925",
   "metadata": {},
   "outputs": [],
   "source": [
    "def test():\n",
    "    dictionary={\"gamze\":22,\"gizem\":12,\"busra\":45}\n",
    "    return dictionary\n",
    "dict=test()"
   ]
  },
  {
   "cell_type": "code",
   "execution_count": 26,
   "id": "287edc0a",
   "metadata": {},
   "outputs": [
    {
     "name": "stdout",
     "output_type": "stream",
     "text": [
      "<function test at 0x0000025DF54DE310>\n"
     ]
    }
   ],
   "source": [
    "print(test)"
   ]
  },
  {
   "cell_type": "code",
   "execution_count": 27,
   "id": "abe9f557",
   "metadata": {},
   "outputs": [
    {
     "name": "stdout",
     "output_type": "stream",
     "text": [
      "yes\n"
     ]
    }
   ],
   "source": [
    "keys = dictionary.keys()\n",
    "if \"gamze\" in keys:\n",
    "    print(\"yes\")\n",
    "else:\n",
    "    print(\"no\")"
   ]
  },
  {
   "cell_type": "code",
   "execution_count": null,
   "id": "5fbef6e8",
   "metadata": {},
   "outputs": [],
   "source": []
  }
 ],
 "metadata": {
  "kernelspec": {
   "display_name": "Python 3 (ipykernel)",
   "language": "python",
   "name": "python3"
  },
  "language_info": {
   "codemirror_mode": {
    "name": "ipython",
    "version": 3
   },
   "file_extension": ".py",
   "mimetype": "text/x-python",
   "name": "python",
   "nbconvert_exporter": "python",
   "pygments_lexer": "ipython3",
   "version": "3.9.13"
  }
 },
 "nbformat": 4,
 "nbformat_minor": 5
}
