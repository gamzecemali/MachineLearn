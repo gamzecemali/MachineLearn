{
 "cells": [
  {
   "cell_type": "code",
   "execution_count": 1,
   "id": "1a72e45d-82d0-4c6a-b7ff-d0f5bc0bb2f2",
   "metadata": {},
   "outputs": [],
   "source": [
    "import numpy as np"
   ]
  },
  {
   "cell_type": "code",
   "execution_count": 3,
   "id": "dfe50041-7a3f-412f-a4ef-e181c6af3229",
   "metadata": {},
   "outputs": [
    {
     "name": "stdout",
     "output_type": "stream",
     "text": [
      "[15 20 30]\n"
     ]
    }
   ],
   "source": [
    "array = np.array([15,20,30])\n",
    "print(array)\n"
   ]
  },
  {
   "cell_type": "code",
   "execution_count": 7,
   "id": "0613b572-efbb-433a-85d3-c5a775e9f1a4",
   "metadata": {},
   "outputs": [
    {
     "name": "stdout",
     "output_type": "stream",
     "text": [
      "(15,)\n"
     ]
    }
   ],
   "source": [
    "array1= np.array([15,30,3,40,50,60,70,80,90,10,110,80,13,140,150])\n",
    "print(array1.shape)"
   ]
  },
  {
   "cell_type": "code",
   "execution_count": 8,
   "id": "3be1b1f9-4220-4845-8b65-ddbdef589b5f",
   "metadata": {},
   "outputs": [
    {
     "name": "stdout",
     "output_type": "stream",
     "text": [
      "[[ 15  30   3]\n",
      " [ 40  50  60]\n",
      " [ 70  80  90]\n",
      " [ 10 110  80]\n",
      " [ 13 140 150]]\n"
     ]
    }
   ],
   "source": [
    "arrayreshape = array1.reshape(5,3) \n",
    "print(arrayreshape)"
   ]
  },
  {
   "cell_type": "code",
   "execution_count": 9,
   "id": "7a1cca43-651c-4b11-b588-53e0dbe66448",
   "metadata": {},
   "outputs": [
    {
     "name": "stdout",
     "output_type": "stream",
     "text": [
      "shape:  (5, 3)\n",
      "dimension:  2\n",
      "data type:  int32\n",
      "size:  15\n",
      "type <class 'numpy.ndarray'>\n"
     ]
    }
   ],
   "source": [
    "print(\"shape: \",arrayreshape.shape) \n",
    "print(\"dimension: \",arrayreshape.ndim) \n",
    "print(\"data type: \",arrayreshape.dtype.name) \n",
    "print(\"size: \",arrayreshape.size) \n",
    "print(\"type\",type(arrayreshape)) "
   ]
  },
  {
   "cell_type": "code",
   "execution_count": 10,
   "id": "160f122e-b368-4e73-9fec-bca765050dee",
   "metadata": {},
   "outputs": [
    {
     "data": {
      "text/plain": [
       "1"
      ]
     },
     "execution_count": 10,
     "metadata": {},
     "output_type": "execute_result"
    }
   ],
   "source": [
    "array1.ndim"
   ]
  },
  {
   "cell_type": "code",
   "execution_count": 11,
   "id": "92019c01-c172-4138-a20c-a3a0563f7906",
   "metadata": {},
   "outputs": [
    {
     "name": "stdout",
     "output_type": "stream",
     "text": [
      "[[10 20 30 40]\n",
      " [50 60 70 80]\n",
      " [ 9 10 11 12]]\n"
     ]
    }
   ],
   "source": [
    "array2= np.array([[10,20,30,40],[50,60,70,80],[9,10,11,12]]) \n",
    "print(array2)"
   ]
  },
  {
   "cell_type": "code",
   "execution_count": 13,
   "id": "c81ade1c-54fe-4f18-bb4c-a4ee71b88bae",
   "metadata": {},
   "outputs": [
    {
     "name": "stdout",
     "output_type": "stream",
     "text": [
      "[[0. 0. 0. 5. 0. 0.]]\n"
     ]
    }
   ],
   "source": [
    "zeros= np.zeros((1,6))\n",
    "zeros[0,3]=5\n",
    "\n",
    "print(zeros)"
   ]
  },
  {
   "cell_type": "code",
   "execution_count": 14,
   "id": "3561f0c3-ae10-4951-b522-7cb267f6d24f",
   "metadata": {},
   "outputs": [
    {
     "data": {
      "text/plain": [
       "array([[1., 1.]])"
      ]
     },
     "execution_count": 14,
     "metadata": {},
     "output_type": "execute_result"
    }
   ],
   "source": [
    "np.ones((1,2))"
   ]
  },
  {
   "cell_type": "code",
   "execution_count": 33,
   "id": "43ab0528-574e-4dd7-9fb3-338ff7322225",
   "metadata": {},
   "outputs": [
    {
     "data": {
      "text/plain": [
       "array([     7, 600000,  50000,   4000,    300,     20,      1])"
      ]
     },
     "execution_count": 33,
     "metadata": {},
     "output_type": "execute_result"
    }
   ],
   "source": [
    "g[::-1]"
   ]
  },
  {
   "cell_type": "code",
   "execution_count": 34,
   "id": "e86bc3eb-33ba-41d5-9f4a-8b7e0c01542a",
   "metadata": {},
   "outputs": [
    {
     "data": {
      "text/plain": [
       "array([[1, 2, 3, 4],\n",
       "       [6, 7, 8, 9]])"
      ]
     },
     "execution_count": 34,
     "metadata": {},
     "output_type": "execute_result"
    }
   ],
   "source": [
    "r= np.array([[1,2,3,4],[6,7,8,9]])\n",
    "r"
   ]
  },
  {
   "cell_type": "code",
   "execution_count": 35,
   "id": "8388568e-780c-426c-9620-c311f9fd7acc",
   "metadata": {},
   "outputs": [
    {
     "name": "stdout",
     "output_type": "stream",
     "text": [
      "[1 9 7 4]\n"
     ]
    }
   ],
   "source": [
    "g = array.ravel() \n",
    "print(g)"
   ]
  },
  {
   "cell_type": "code",
   "execution_count": 37,
   "id": "a158fbf4-f09c-4bd1-9403-56430d68871e",
   "metadata": {},
   "outputs": [
    {
     "name": "stdout",
     "output_type": "stream",
     "text": [
      "[6 7]\n"
     ]
    }
   ],
   "source": [
    "print(r[1,0:2])"
   ]
  },
  {
   "cell_type": "code",
   "execution_count": 38,
   "id": "b8d0e033-70f3-460c-8bbe-83feacdedc05",
   "metadata": {},
   "outputs": [
    {
     "data": {
      "text/plain": [
       "array([[1, 2],\n",
       "       [3, 4],\n",
       "       [6, 7],\n",
       "       [8, 9]])"
      ]
     },
     "execution_count": 38,
     "metadata": {},
     "output_type": "execute_result"
    }
   ],
   "source": [
    "a= np.array([[1,2],[3,4],[6,7],[8,9]])\n",
    "a"
   ]
  },
  {
   "cell_type": "code",
   "execution_count": 40,
   "id": "4e03d6ea-d9df-45a1-98a0-b4031bf6d52f",
   "metadata": {},
   "outputs": [
    {
     "name": "stdout",
     "output_type": "stream",
     "text": [
      "[[10 50  9]\n",
      " [20 60 10]\n",
      " [30 70 11]\n",
      " [40 80 12]]\n"
     ]
    }
   ],
   "source": [
    "array_transpose = array2.T\n",
    "print(array_transpose)"
   ]
  },
  {
   "cell_type": "code",
   "execution_count": 41,
   "id": "410d4565-7b9a-425f-bd7e-d69a367ea9b8",
   "metadata": {},
   "outputs": [
    {
     "name": "stdout",
     "output_type": "stream",
     "text": [
      "[[10 50  9]\n",
      " [20 60 10]\n",
      " [30 70 11]\n",
      " [40 80 12]]\n"
     ]
    }
   ],
   "source": [
    "array_transpose = array2.T\n",
    "print(array_transpose)"
   ]
  },
  {
   "cell_type": "code",
   "execution_count": 43,
   "id": "53832b6e-03f5-463c-a9e6-f45079a82c3a",
   "metadata": {},
   "outputs": [
    {
     "ename": "NameError",
     "evalue": "name 'array5' is not defined",
     "output_type": "error",
     "traceback": [
      "\u001b[1;31m---------------------------------------------------------------------------\u001b[0m",
      "\u001b[1;31mNameError\u001b[0m                                 Traceback (most recent call last)",
      "\u001b[1;32m~\\AppData\\Local\\Temp\\ipykernel_19740\\2709540416.py\u001b[0m in \u001b[0;36m<module>\u001b[1;34m\u001b[0m\n\u001b[1;32m----> 1\u001b[1;33m \u001b[0marray5\u001b[0m\u001b[1;33m.\u001b[0m\u001b[0mresize\u001b[0m\u001b[1;33m(\u001b[0m\u001b[1;33m(\u001b[0m\u001b[1;36m2\u001b[0m\u001b[1;33m,\u001b[0m\u001b[1;36m4\u001b[0m\u001b[1;33m)\u001b[0m\u001b[1;33m)\u001b[0m\u001b[1;33m\u001b[0m\u001b[1;33m\u001b[0m\u001b[0m\n\u001b[0m\u001b[0;32m      2\u001b[0m \u001b[0mprint\u001b[0m\u001b[1;33m(\u001b[0m\u001b[0marray5\u001b[0m\u001b[1;33m)\u001b[0m\u001b[1;33m\u001b[0m\u001b[1;33m\u001b[0m\u001b[0m\n",
      "\u001b[1;31mNameError\u001b[0m: name 'array5' is not defined"
     ]
    }
   ],
   "source": [
    "array5.resize((2,4)) \n",
    "print(array5)"
   ]
  },
  {
   "cell_type": "code",
   "execution_count": null,
   "id": "5030c4e0-88c5-460b-ab6a-44df3bea2b56",
   "metadata": {},
   "outputs": [],
   "source": []
  }
 ],
 "metadata": {
  "kernelspec": {
   "display_name": "Python 3 (ipykernel)",
   "language": "python",
   "name": "python3"
  },
  "language_info": {
   "codemirror_mode": {
    "name": "ipython",
    "version": 3
   },
   "file_extension": ".py",
   "mimetype": "text/x-python",
   "name": "python",
   "nbconvert_exporter": "python",
   "pygments_lexer": "ipython3",
   "version": "3.9.13"
  }
 },
 "nbformat": 4,
 "nbformat_minor": 5
}
